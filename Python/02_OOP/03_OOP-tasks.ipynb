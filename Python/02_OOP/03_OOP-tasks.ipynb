{
 "cells": [
  {
   "cell_type": "markdown",
   "metadata": {
    "id": "BCleRtX43caS"
   },
   "source": [
    "### `Problem-1:` Class inheritence\n",
    "\n",
    "Create a **Bus** child class that inherits from the Vehicle class. The default fare charge of any vehicle is seating capacity * 100. If Vehicle is Bus instance, we need to add an extra 10% on full fare as a maintenance charge. So total fare for bus instance will become the final amount = total fare + 10% of the total fare.\n",
    "\n",
    "Note: The bus seating capacity is 50. so the final fare amount should be 5500. You need to override the fare() method of a Vehicle class in Bus class."
   ]
  },
  {
   "cell_type": "code",
   "execution_count": 18,
   "metadata": {
    "colab": {
     "base_uri": "https://localhost:8080/"
    },
    "executionInfo": {
     "elapsed": 16,
     "status": "ok",
     "timestamp": 1669263872656,
     "user": {
      "displayName": "CampusX Official",
      "userId": "12213120911843971958"
     },
     "user_tz": -330
    },
    "id": "6jVFCXKz3YZI",
    "outputId": "a8649209-08e2-4f60-a914-74a914dd697e"
   },
   "outputs": [],
   "source": [
    "# Write code here\n",
    "class Vehicle:\n",
    "  def __init__(self, name, capacity):\n",
    "    self.name = name\n",
    "    self.capacity = capacity\n",
    "\n",
    "  def fare(self):\n",
    "    return self.capacity * 100\n",
    "\n",
    "\n",
    "class Bus(Vehicle):\n",
    "  def __init__(self, name, capacity=50):\n",
    "    super().__init__(name, capacity)\n",
    "\n",
    "  def fare(self):\n",
    "    base_fare = super().fare()\n",
    "    maintenance = base_fare * 0.10\n",
    "    return base_fare + maintenance"
   ]
  },
  {
   "cell_type": "code",
   "execution_count": 19,
   "metadata": {},
   "outputs": [
    {
     "name": "stdout",
     "output_type": "stream",
     "text": [
      "Bus Fare: 5500.0\n"
     ]
    }
   ],
   "source": [
    "bus = Bus(\"City Bus\")\n",
    "print(\"Bus Fare:\", bus.fare())"
   ]
  },
  {
   "cell_type": "markdown",
   "metadata": {
    "id": "KBbGNTtQ47mJ"
   },
   "source": [
    "### `Problem-2:` Class Inheritence\n",
    "\n",
    "Create a Bus class that inherits from the Vehicle class. Give the capacity argument of *Bus.seating_capacity()* a default value of 50.\n",
    "\n",
    "Use the following code for your parent Vehicle class."
   ]
  },
  {
   "cell_type": "code",
   "execution_count": 20,
   "metadata": {
    "id": "MwOnYE_14M-r"
   },
   "outputs": [],
   "source": [
    "class Vehicle:\n",
    "  def __init__(self, name, capacity):\n",
    "    self.name = name\n",
    "    self.capacity = capacity\n",
    "\n",
    "  def seating_capacity(self, capacity):\n",
    "    return f\"The seating capacity of {self.name} is {capacity} passengers\""
   ]
  },
  {
   "cell_type": "code",
   "execution_count": 21,
   "metadata": {
    "id": "Py5Gr0ip5OBB"
   },
   "outputs": [],
   "source": [
    "class Bus(Vehicle):\n",
    "  def seating_capacity(self, capacity=50):\n",
    "    return super().seating_capacity(capacity)"
   ]
  },
  {
   "cell_type": "code",
   "execution_count": 22,
   "metadata": {},
   "outputs": [
    {
     "name": "stdout",
     "output_type": "stream",
     "text": [
      "The seating capacity of School Volvo is 50 passengers\n",
      "The seating capacity of School Volvo is 60 passengers\n"
     ]
    }
   ],
   "source": [
    "bus = Bus(\"School Volvo\", 60)\n",
    "print(bus.seating_capacity())\n",
    "print(bus.seating_capacity(60))"
   ]
  },
  {
   "cell_type": "markdown",
   "metadata": {
    "id": "ExIxsv4y-oEd"
   },
   "source": [
    "### `Problem-3:` Write a program that has a class Point. Define another class Location which has two objects (Location & Destination) of class Point. Also define a function in Location that prints the reflection of Destination on the x axis."
   ]
  },
  {
   "cell_type": "code",
   "execution_count": 23,
   "metadata": {
    "executionInfo": {
     "elapsed": 3,
     "status": "ok",
     "timestamp": 1669338391778,
     "user": {
      "displayName": "CampusX Official",
      "userId": "12213120911843971958"
     },
     "user_tz": -330
    },
    "id": "yT2QtzQp5VAB"
   },
   "outputs": [],
   "source": [
    "class Point:\n",
    "  def __init__(self, x, y):\n",
    "    self.x = x\n",
    "    self.y = y\n",
    "\n",
    "\n",
    "class Location:\n",
    "  def __init__(self, location, destination):\n",
    "    self.location = location\n",
    "    self.destination = destination\n",
    "\n",
    "  def reflect_destination_on_x(self):\n",
    "    reflected_y = -self.destination.y\n",
    "    print(f\"Reflection of Destination on x-axis: ({self.destination.x}, {reflected_y})\")"
   ]
  },
  {
   "cell_type": "code",
   "execution_count": 24,
   "metadata": {},
   "outputs": [
    {
     "name": "stdout",
     "output_type": "stream",
     "text": [
      "Reflection of Destination on x-axis: (4, -5)\n"
     ]
    }
   ],
   "source": [
    "loc = Point(2, 3)\n",
    "dest = Point(4, 5)\n",
    "\n",
    "place = Location(loc, dest)\n",
    "place.reflect_destination_on_x()"
   ]
  },
  {
   "cell_type": "markdown",
   "metadata": {
    "id": "OcQhJvXVALgp"
   },
   "source": [
    "### `Problem-4:` Write a program that has an abstract class Polygon. Derive two classes Rectangle and Triamgle from Polygon and write methods to get the details of their dimensions and hence calculate the area."
   ]
  },
  {
   "cell_type": "code",
   "execution_count": 25,
   "metadata": {
    "executionInfo": {
     "elapsed": 3,
     "status": "ok",
     "timestamp": 1669338391779,
     "user": {
      "displayName": "CampusX Official",
      "userId": "12213120911843971958"
     },
     "user_tz": -330
    },
    "id": "9IMrtdUH__eA"
   },
   "outputs": [],
   "source": [
    "from abc import ABC, abstractmethod\n",
    "\n",
    "class Polygon(ABC):\n",
    "  @abstractmethod\n",
    "  def get_dimensions(self):\n",
    "    pass\n",
    "\n",
    "  @abstractmethod\n",
    "  def calculate_area(self):\n",
    "    pass\n",
    "\n",
    "\n",
    "class Rectangle(Polygon):\n",
    "  def __init__(self):\n",
    "    self.length = 0\n",
    "    self.breadth = 0\n",
    "\n",
    "  def get_dimensions(self):\n",
    "    self.length = float(input(\"Enter length of rectangle: \"))\n",
    "    self.breadth = float(input(\"Enter breadth of rectangle: \"))\n",
    "\n",
    "  def calculate_area(self):\n",
    "    area = self.length * self.breadth\n",
    "    print(f\"Area of Rectangle: {area}\")\n",
    "\n",
    "\n",
    "class Triangle(Polygon):\n",
    "  def __init__(self):\n",
    "    self.base = 0\n",
    "    self.height = 0\n",
    "\n",
    "  def get_dimensions(self):\n",
    "    self.base = float(input(\"Enter base of triangle: \"))\n",
    "    self.height = float(input(\"Enter height of triangle: \"))\n",
    "\n",
    "  def calculate_area(self):\n",
    "    area = 0.5 * self.base * self.height\n",
    "    print(f\"Area of Triangle: {area}\")\n"
   ]
  },
  {
   "cell_type": "code",
   "execution_count": 26,
   "metadata": {},
   "outputs": [
    {
     "name": "stdout",
     "output_type": "stream",
     "text": [
      "Area of Rectangle: 4.0\n",
      "Area of Triangle: 2.0\n"
     ]
    }
   ],
   "source": [
    "# Rectangle\n",
    "rect = Rectangle()\n",
    "rect.get_dimensions()\n",
    "rect.calculate_area()\n",
    "\n",
    "# Triangle\n",
    "tri = Triangle()\n",
    "tri.get_dimensions()\n",
    "tri.calculate_area()"
   ]
  },
  {
   "cell_type": "markdown",
   "metadata": {
    "id": "sEsGEqOHCSWG"
   },
   "source": [
    "### `Problem-5:` Write a program with class Bill. The users have the option to pay the bill either by cheque or by cash. Use the inheritance to model this situation."
   ]
  },
  {
   "cell_type": "code",
   "execution_count": 27,
   "metadata": {
    "executionInfo": {
     "elapsed": 3,
     "status": "ok",
     "timestamp": 1669338395049,
     "user": {
      "displayName": "CampusX Official",
      "userId": "12213120911843971958"
     },
     "user_tz": -330
    },
    "id": "l0WFyP2PB3nf"
   },
   "outputs": [],
   "source": [
    "class Bill:\n",
    "  def __init__(self, amount):\n",
    "    self.amount = amount\n",
    "\n",
    "  def display(self):\n",
    "    print(f\"Bill Amount: {self.amount}\")\n",
    "\n",
    "\n",
    "class CashPayment(Bill):\n",
    "  def __init__(self, amount):\n",
    "    super().__init__(amount)\n",
    "\n",
    "  def pay(self):\n",
    "    print(\"Payment Method: Cash\")\n",
    "    self.display()\n",
    "\n",
    "\n",
    "class ChequePayment(Bill):\n",
    "  def __init__(self, amount, cheque_number, bank_name):\n",
    "    super().__init__(amount)\n",
    "    self.cheque_number = cheque_number\n",
    "    self.bank_name = bank_name\n",
    "\n",
    "  def pay(self):\n",
    "    print(\"Payment Method: Cheque\")\n",
    "    print(f\"Cheque Number: {self.cheque_number}\")\n",
    "    print(f\"Bank Name: {self.bank_name}\")\n",
    "    self.display()\n",
    "\n"
   ]
  },
  {
   "cell_type": "code",
   "execution_count": 28,
   "metadata": {},
   "outputs": [
    {
     "name": "stdout",
     "output_type": "stream",
     "text": [
      "Payment Method: Cash\n",
      "Bill Amount: 2500\n",
      "\n",
      "Payment Method: Cheque\n",
      "Cheque Number: CHQ123456\n",
      "Bank Name: National Bank\n",
      "Bill Amount: 5000\n"
     ]
    }
   ],
   "source": [
    "# Paying by Cash\n",
    "cash = CashPayment(2500)\n",
    "cash.pay()\n",
    "\n",
    "print()\n",
    "\n",
    "# Paying by Cheque\n",
    "cheque = ChequePayment(5000, \"CHQ123456\", \"National Bank\")\n",
    "cheque.pay()"
   ]
  },
  {
   "cell_type": "markdown",
   "metadata": {
    "id": "v1M5Yh9ZZO0z"
   },
   "source": [
    "###`Q-6:` FlexibleDict\n",
    "As of now we are accessing values from dictionary with exact keys. Now we want to amend accessing values functionality. if a dict have key `1` (int) the even if we try to access values by giving `'1'` (1 as str) as key, we should get the same result and vice versa.\n",
    "\n",
    "Write a class `FlexibleDict` upon builtin `dict` class with above required functionality.\n",
    "\n",
    "Hint- `dict[key] => dict.__getitem__(key)` "
   ]
  },
  {
   "cell_type": "markdown",
   "metadata": {
    "id": "uajGeWegbfda"
   },
   "source": [
    "Ex.\n",
    "```\n",
    "fd = FlexibleDict()\n",
    "fd['a'] = 100\n",
    "print(fd['a']) # Like regular dict\n",
    "\n",
    "fd[5] = 500\n",
    "print(fd[5]) # Like regular dict\n",
    "\n",
    "fd[1] = 100\n",
    "print(fd['1']) # actual Key is int but still trying to access through str key.\n",
    "fd['1'] = 100\n",
    "print(fd[1])\n",
    "\n",
    "```\n",
    "`Output:`\n",
    "```\n",
    "100\n",
    "500\n",
    "100\n",
    "100\n",
    "\n",
    "```"
   ]
  },
  {
   "cell_type": "code",
   "execution_count": 31,
   "metadata": {
    "executionInfo": {
     "elapsed": 3,
     "status": "ok",
     "timestamp": 1669338403111,
     "user": {
      "displayName": "CampusX Official",
      "userId": "12213120911843971958"
     },
     "user_tz": -330
    },
    "id": "OHLbOtCxZ2nw"
   },
   "outputs": [],
   "source": [
    "class FlexibleDict(dict):\n",
    "  def __getitem__(self, key):\n",
    "    if key in self:\n",
    "      return super().__getitem__(key)\n",
    "    alt_key = self._convert_key(key)\n",
    "    if alt_key in self:\n",
    "      return super().__getitem__(alt_key)\n",
    "    raise KeyError(key)\n",
    "\n",
    "  def __setitem__(self, key, value):\n",
    "    super().__setitem__(key, value)\n",
    "\n",
    "  def _convert_key(self, key):\n",
    "    if isinstance(key, int):\n",
    "      return str(key)\n",
    "    if isinstance(key, str) and key.isdigit():\n",
    "      return int(key)\n",
    "    return key"
   ]
  },
  {
   "cell_type": "code",
   "execution_count": 32,
   "metadata": {},
   "outputs": [
    {
     "name": "stdout",
     "output_type": "stream",
     "text": [
      "100\n",
      "500\n",
      "100\n",
      "100\n"
     ]
    }
   ],
   "source": [
    "fd = FlexibleDict()\n",
    "fd['a'] = 100\n",
    "print(fd['a'])     # 100\n",
    "\n",
    "fd[5] = 500\n",
    "print(fd[5])       # 500\n",
    "\n",
    "fd[1] = 100\n",
    "print(fd['1'])     # 100\n",
    "\n",
    "fd['1'] = 100\n",
    "print(fd[1])       # 100"
   ]
  }
 ],
 "metadata": {
  "colab": {
   "authorship_tag": "ABX9TyPAZlCtIpB6KP0XoDcbbR8D",
   "collapsed_sections": [
    "BCleRtX43caS",
    "KBbGNTtQ47mJ",
    "ExIxsv4y-oEd",
    "OcQhJvXVALgp",
    "sEsGEqOHCSWG",
    "v1M5Yh9ZZO0z"
   ],
   "provenance": [
    {
     "file_id": "17PuaTXlgedj88gsQOxMIhsC9gbSpSu24",
     "timestamp": 1669338322475
    }
   ]
  },
  "kernelspec": {
   "display_name": "Python 3",
   "name": "python3"
  },
  "language_info": {
   "codemirror_mode": {
    "name": "ipython",
    "version": 3
   },
   "file_extension": ".py",
   "mimetype": "text/x-python",
   "name": "python",
   "nbconvert_exporter": "python",
   "pygments_lexer": "ipython3",
   "version": "3.13.5"
  }
 },
 "nbformat": 4,
 "nbformat_minor": 0
}
