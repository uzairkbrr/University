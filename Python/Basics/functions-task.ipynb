{
 "cells": [
  {
   "cell_type": "markdown",
   "metadata": {
    "id": "h6dDSW5XGZFi"
   },
   "source": [
    "### **`Problem-1:`** Write a Python function that takes a list and returns a new list with unique elements of the first list.\n",
    "\n",
    "**Exercise 1:**\n",
    "\n",
    "Input:\n",
    "\n",
    "```bash\n",
    "[1,2,3,3,3,3,4,5]\n",
    "```\n",
    "\n",
    "Output:\n",
    "\n",
    "```bash\n",
    "[1, 2, 3, 4, 5]\n",
    "```"
   ]
  },
  {
   "cell_type": "code",
   "execution_count": 1,
   "metadata": {
    "executionInfo": {
     "elapsed": 422,
     "status": "ok",
     "timestamp": 1669093887184,
     "user": {
      "displayName": "CampusX",
      "userId": "17274569631252575216"
     },
     "user_tz": -330
    },
    "id": "R5pq1C9LGe1y"
   },
   "outputs": [
    {
     "data": {
      "text/plain": [
       "[1, 2, 3, 4, 5]"
      ]
     },
     "execution_count": 1,
     "metadata": {},
     "output_type": "execute_result"
    }
   ],
   "source": [
    "def unique(L):\n",
    "  return list(set(L))\n",
    "\n",
    "l1 = [1, 2, 3, 3, 3, 4, 4, 5]\n",
    "unique_list = unique(l1)\n",
    "unique_list"
   ]
  },
  {
   "cell_type": "markdown",
   "metadata": {
    "id": "UxQ_VoyJGwHj"
   },
   "source": [
    "### **`Problem-2:`** Write a Python function that accepts a hyphen-separated sequence of words as parameter and returns the words in a hyphen-separated sequence after sorting them alphabetically.\n",
    "\n",
    "**Example 1:**\n",
    "\n",
    "Input:\n",
    "```bash\n",
    "green-red-yellow-black-white\n",
    "```\n",
    "\n",
    "Output:\n",
    "```bash\n",
    "black-green-red-white-yellow\n",
    "```"
   ]
  },
  {
   "cell_type": "code",
   "execution_count": 10,
   "metadata": {
    "executionInfo": {
     "elapsed": 1,
     "status": "ok",
     "timestamp": 1669093909849,
     "user": {
      "displayName": "CampusX",
      "userId": "17274569631252575216"
     },
     "user_tz": -330
    },
    "id": "AAts2m5zGwiQ"
   },
   "outputs": [
    {
     "data": {
      "text/plain": [
       "'black-green-red-white-yellow'"
      ]
     },
     "execution_count": 10,
     "metadata": {},
     "output_type": "execute_result"
    }
   ],
   "source": [
    "# Write code here\n",
    "def sort(L):\n",
    "  # L = L.split(\"-\")\n",
    "  # L = sorted(L)\n",
    "  # L = \"-\".join(L)\n",
    "  return \"-\".join(sorted(L.split(\"-\")))\n",
    "\n",
    "\n",
    "\n",
    "input_string = 'green-red-yellow-black-white'\n",
    "sorted_string = sort(input_string)\n",
    "sorted_string"
   ]
  },
  {
   "cell_type": "markdown",
   "metadata": {
    "id": "IRGH62S7Gx_n"
   },
   "source": [
    "### **`Problem 3:`** Write a Python function that accepts a string and calculate the number of upper case letters and lower case letters.\n",
    "\n",
    "```\n",
    "Sample String : 'CampusX is an Online Mentorship Program fOr EnginEering studentS.'\n",
    "Expected Output :\n",
    "No. of Upper case characters :  9\n",
    "No. of Lower case Characters :  47\n",
    "```"
   ]
  },
  {
   "cell_type": "code",
   "execution_count": 12,
   "metadata": {
    "executionInfo": {
     "elapsed": 2,
     "status": "ok",
     "timestamp": 1669093917225,
     "user": {
      "displayName": "CampusX",
      "userId": "17274569631252575216"
     },
     "user_tz": -330
    },
    "id": "OaUrD8vVG5o8"
   },
   "outputs": [
    {
     "name": "stdout",
     "output_type": "stream",
     "text": [
      "No of Upper case characters:  9\n",
      "No of Lower case characters:  56\n"
     ]
    }
   ],
   "source": [
    "# Write code here\n",
    "def count_letters(input_string):\n",
    "  upper_case = lower_case = 0\n",
    "  for i in input_string:\n",
    "    if i.isupper():\n",
    "      upper_case += 1\n",
    "    else:\n",
    "      lower_case += 1\n",
    "  print(\"No of Upper case characters: \", upper_case)\n",
    "  print(\"No of Lower case characters: \", lower_case)\n",
    "\n",
    "\n",
    "\n",
    "input_string = 'CampusX is an Online Mentorship Program fOr EnginEering studentS.'\n",
    "count_letters(input_string)"
   ]
  },
  {
   "cell_type": "markdown",
   "metadata": {
    "id": "V1BFFdYQG7Sn"
   },
   "source": [
    "### **`Problem 4:`** Write a Python program to print the even numbers from a given list.\n",
    "```\n",
    "Sample List : [1, 2, 3, 4, 5, 6, 7, 8, 9]\n",
    "Expected Result : [2, 4, 6, 8]\n",
    "```"
   ]
  },
  {
   "cell_type": "code",
   "execution_count": 14,
   "metadata": {
    "executionInfo": {
     "elapsed": 6,
     "status": "ok",
     "timestamp": 1669093923330,
     "user": {
      "displayName": "CampusX",
      "userId": "17274569631252575216"
     },
     "user_tz": -330
    },
    "id": "VvAReLoDG_Z3"
   },
   "outputs": [
    {
     "data": {
      "text/plain": [
       "[2, 4, 6, 8]"
      ]
     },
     "execution_count": 14,
     "metadata": {},
     "output_type": "execute_result"
    }
   ],
   "source": [
    "# Write code here\n",
    "def get_even(sample_list):\n",
    "  temp = []\n",
    "  for i in sample_list:\n",
    "    if i%2 == 0:\n",
    "      temp.append(i)\n",
    "  return temp\n",
    "\n",
    "sample_list = [1, 2, 3, 4, 5, 6, 7, 8, 9]\n",
    "result = get_even(sample_list)\n",
    "result"
   ]
  },
  {
   "cell_type": "markdown",
   "metadata": {
    "id": "qrK39Gn-HHb4"
   },
   "source": [
    "### **`Problem 5:`** Write a Python function to check whether a number is perfect or not.\n",
    "\n",
    "A Perfect number is a number that is half the sum of all of its positive divisors (including itself).\n",
    "\n",
    "Example : \n",
    "\n",
    "```\n",
    "The first perfect number is 6, because 1, 2, and 3 are its proper positive divisors, and 1 + 2 + 3 = 6. \n",
    "Equivalently, the number 6 is equal to half the sum of all its positive divisors: ( 1 + 2 + 3 + 6 ) / 2 = 6. \n",
    "\n",
    "The next perfect number is 28 = 1 + 2 + 4 + 7 + 14. This is followed by the perfect numbers 496 and 8128.\n",
    "```\n"
   ]
  },
  {
   "cell_type": "code",
   "execution_count": 6,
   "metadata": {
    "executionInfo": {
     "elapsed": 4,
     "status": "ok",
     "timestamp": 1669093930308,
     "user": {
      "displayName": "CampusX",
      "userId": "17274569631252575216"
     },
     "user_tz": -330
    },
    "id": "P-OI7H78HICs"
   },
   "outputs": [
    {
     "name": "stdout",
     "output_type": "stream",
     "text": [
      "Isn't perfect number\n"
     ]
    }
   ],
   "source": [
    "# Write code here\n",
    "def is_perfect(x):\n",
    "  sum = 0\n",
    "  for i in range(1, (x//2) + 1):\n",
    "    if x % i == 0:\n",
    "      sum += i\n",
    "\n",
    "  if sum == x:\n",
    "    print(\"Is perfect number.\")\n",
    "  else:\n",
    "    print(\"Isn't perfect number\")\n",
    "\n",
    "num = int(input(\"Enter a number: \"))\n",
    "is_perfect(num)"
   ]
  },
  {
   "cell_type": "markdown",
   "metadata": {
    "id": "oZdpcG77HO-6"
   },
   "source": [
    "### **`Problem-6:`** Write a Python function to concatenate any no of dictionaries to create a new one.\n",
    "\n",
    "```\n",
    "Sample Dictionary :\n",
    "dic1={1:10, 2:20}\n",
    "dic2={3:30, 4:40}\n",
    "dic3={5:50,6:60}\n",
    "Expected Result : {1: 10, 2: 20, 3: 30, 4: 40, 5: 50, 6: 60}\n",
    "```"
   ]
  },
  {
   "cell_type": "code",
   "execution_count": 8,
   "metadata": {
    "executionInfo": {
     "elapsed": 2,
     "status": "ok",
     "timestamp": 1669093938186,
     "user": {
      "displayName": "CampusX",
      "userId": "17274569631252575216"
     },
     "user_tz": -330
    },
    "id": "LQgfAY4ZHPhj"
   },
   "outputs": [
    {
     "data": {
      "text/plain": [
       "{1: 10, 2: 20, 3: 30, 4: 40, 5: 50, 6: 60}"
      ]
     },
     "execution_count": 8,
     "metadata": {},
     "output_type": "execute_result"
    }
   ],
   "source": [
    "# Write code here\n",
    "def concat_dicts(*dicts):\n",
    "  result = {}\n",
    "  for i in dicts:\n",
    "    result.update(i)\n",
    "  return result\n",
    "\n",
    "dic1 = {1: 10, 2: 20}\n",
    "dic2 = {3: 30, 4: 40}\n",
    "dic3 = {5: 50, 6: 60}\n",
    "\n",
    "concat_ = concat_dicts(dic1, dic2, dic3)\n",
    "concat_"
   ]
  },
  {
   "cell_type": "markdown",
   "metadata": {
    "id": "jQ6SzbCkHRd0"
   },
   "source": [
    "`Problem-7` Write a python function that accepts a string as input and returns the word with most occurence.\n",
    "\n",
    "```\n",
    "Input:\n",
    "hello how are you i am fine thank you\n",
    "```\n",
    "\n",
    "```\n",
    "Output\n",
    "you -> 2\n",
    "```"
   ]
  },
  {
   "cell_type": "code",
   "execution_count": null,
   "metadata": {
    "executionInfo": {
     "elapsed": 1,
     "status": "ok",
     "timestamp": 1669093948941,
     "user": {
      "displayName": "CampusX",
      "userId": "17274569631252575216"
     },
     "user_tz": -330
    },
    "id": "Lh04JHLzIW7Z"
   },
   "outputs": [
    {
     "name": "stdout",
     "output_type": "stream",
     "text": [
      "you =>  2\n"
     ]
    }
   ],
   "source": [
    "# Write code here\n",
    "def freq(x):\n",
    "  x = x.split()\n",
    "  result = {}\n",
    "  for i in x:\n",
    "    # result.get(i, 0) => if i exists in the dictionary then return its value if not available then return 0. Now, add 1 to it\n",
    "    result[i] = result.get(i, 0) + 1\n",
    "\n",
    "  maximum = max(result, key=result.get)\n",
    "  print(f\"{maximum} => \", result[maximum])\n",
    "a = 'hello how are you i am fine thank you'\n",
    "freq(a)"
   ]
  },
  {
   "cell_type": "markdown",
   "metadata": {
    "id": "1r8SpVntI-IW"
   },
   "source": [
    "`Problem-8` Write a python function that receives a list of integers and prints out a histogram of bin size 10\n",
    "\n",
    "```\n",
    "Input:\n",
    "[13,42,15,37,22,39,41,50]\n",
    "```\n",
    "\n",
    "```\n",
    "Output:\n",
    "{11-20:2,21-30:1,31-40:2,41-50:3}\n",
    "```"
   ]
  },
  {
   "cell_type": "code",
   "execution_count": 15,
   "metadata": {
    "executionInfo": {
     "elapsed": 2,
     "status": "ok",
     "timestamp": 1669093958583,
     "user": {
      "displayName": "CampusX",
      "userId": "17274569631252575216"
     },
     "user_tz": -330
    },
    "id": "7W0J8rUjJovg"
   },
   "outputs": [
    {
     "name": "stdout",
     "output_type": "stream",
     "text": [
      "{'11-20': 2, '41-50': 3, '31-40': 2, '21-30': 1}\n"
     ]
    }
   ],
   "source": [
    "# Write code here\n",
    "def histogram_bin_10(numbers):\n",
    "  bins = {}\n",
    "\n",
    "  for num in numbers:\n",
    "    # Find the lower bound of the bin (e.g., 11, 21, etc.)\n",
    "    lower = (num - 1) // 10 * 10 + 1\n",
    "    upper = lower + 9\n",
    "    bin_label = f\"{lower}-{upper}\"\n",
    "\n",
    "    # Update the count in the dictionary\n",
    "    bins[bin_label] = bins.get(bin_label, 0) + 1\n",
    "  print(bins)\n",
    "\n",
    "x = [13,42,15,37,22,39,41,50]\n",
    "histogram_bin_10(x)\n"
   ]
  },
  {
   "cell_type": "markdown",
   "metadata": {
    "id": "1P2-rbgXKE53"
   },
   "source": [
    "`Problem-9` Write a python function that accepts a list of 2D co-ordinates and a query point, and then finds the the co-ordinate which is closest in terms of distance from the query point.\n",
    "\n",
    "```\n",
    "List of Coordinates\n",
    "[(1,1),(2,2),(3,3),(4,4)]\n",
    "Query Point\n",
    "(0,0)\n",
    "```\n",
    "\n",
    "```\n",
    "Output\n",
    "Nearest to (0,0) is (1,1)\n",
    "```"
   ]
  },
  {
   "cell_type": "code",
   "execution_count": null,
   "metadata": {
    "executionInfo": {
     "elapsed": 1,
     "status": "ok",
     "timestamp": 1669093964658,
     "user": {
      "displayName": "CampusX",
      "userId": "17274569631252575216"
     },
     "user_tz": -330
    },
    "id": "zjn7vSTIJ81G"
   },
   "outputs": [
    {
     "name": "stdout",
     "output_type": "stream",
     "text": [
      "Nearest to (0, 0) is (1, 1)\n"
     ]
    }
   ],
   "source": [
    "# Write code here\n",
    "def find_nearest_point(points, query):\n",
    "  min_distance = float('inf')   # Assuming infinity is the min_distance\n",
    "  nearest_point = None\n",
    "\n",
    "  for point in points:\n",
    "    # Distance formula\n",
    "    distance = (point[0] - query[0])**2 + (point[1] - query[1])**2\n",
    "\n",
    "    if distance < min_distance:\n",
    "      min_distance = distance\n",
    "      nearest_point = point\n",
    "\n",
    "  print(f\"Nearest to {query} is {nearest_point}\")\n",
    "\n",
    "coordinates = [(1, 1), (2, 2), (3, 3), (4, 4)]\n",
    "query_point = (0, 0)\n",
    "find_nearest_point(coordinates, query_point)\n"
   ]
  },
  {
   "cell_type": "markdown",
   "metadata": {
    "id": "i-B6igmyK9hB"
   },
   "source": [
    "`Problem-10`:Write a python program that receives a list of strings and performs bag of word operation on those strings\n",
    "\n",
    "https://en.wikipedia.org/wiki/Bag-of-words_model"
   ]
  },
  {
   "cell_type": "code",
   "execution_count": null,
   "metadata": {
    "executionInfo": {
     "elapsed": 2,
     "status": "ok",
     "timestamp": 1669093974805,
     "user": {
      "displayName": "CampusX",
      "userId": "17274569631252575216"
     },
     "user_tz": -330
    },
    "id": "N2l1_AWULT-z"
   },
   "outputs": [
    {
     "name": "stdout",
     "output_type": "stream",
     "text": [
      "['the', 'cat', 'chased', 'the', 'dog']\n",
      "Doc 1: {'cat': 1, 'chased': 0, 'dog': 0, 'mat': 1, 'on': 1, 'sat': 1, 'slog': 0, 'the': 2}\n",
      "Doc 2: {'cat': 0, 'chased': 0, 'dog': 1, 'mat': 0, 'on': 1, 'sat': 1, 'slog': 1, 'the': 2}\n",
      "Doc 3: {'cat': 1, 'chased': 1, 'dog': 1, 'mat': 0, 'on': 0, 'sat': 0, 'slog': 0, 'the': 2}\n"
     ]
    }
   ],
   "source": [
    "# Write code here\n",
    "def bag_of_words(docs):\n",
    "  vocab = set()\n",
    "  tokenized_docs = []\n",
    "\n",
    "  for doc in docs:\n",
    "    tokens = doc.lower().split()\n",
    "    tokenized_docs.append(tokens)\n",
    "    vocab.update(tokens)\n",
    "\n",
    "  vocab = sorted(vocab)  # Sort for consistency\n",
    "\n",
    "  matrix = []\n",
    "  for tokens in tokenized_docs:\n",
    "    word_count = {word: 0 for word in vocab}\n",
    "    for word in tokens:\n",
    "      word_count[word] += 1\n",
    "    matrix.append(word_count)\n",
    "\n",
    "  return matrix\n",
    "\n",
    "\n",
    "documents = [\n",
    "  \"the cat sat on the mat\",\n",
    "  \"the dog sat on the slog\",\n",
    "  \"the cat chased the dog\"\n",
    "]\n",
    "\n",
    "result = bag_of_words(documents)\n",
    "\n",
    "for i, row in enumerate(result):\n",
    "  print(f\"Doc {i+1}:\", row)\n"
   ]
  },
  {
   "cell_type": "markdown",
   "metadata": {
    "id": "dHTRKb-DqMLw"
   },
   "source": [
    "###`Problem 11:` Write a Python program to add three given lists using Python map and lambda."
   ]
  },
  {
   "cell_type": "code",
   "execution_count": 32,
   "metadata": {
    "executionInfo": {
     "elapsed": 1,
     "status": "ok",
     "timestamp": 1669093980455,
     "user": {
      "displayName": "CampusX",
      "userId": "17274569631252575216"
     },
     "user_tz": -330
    },
    "id": "NfJdzyNZqNW-"
   },
   "outputs": [
    {
     "data": {
      "text/plain": [
       "[12, 15, 18]"
      ]
     },
     "execution_count": 32,
     "metadata": {},
     "output_type": "execute_result"
    }
   ],
   "source": [
    "# Write code here\n",
    "list1 = [1, 2, 3]\n",
    "list2 = [4, 5, 6]\n",
    "list3 = [7, 8, 9]\n",
    "\n",
    "list(map(lambda x, y, z: x + y + z, list1, list2, list3))"
   ]
  },
  {
   "cell_type": "markdown",
   "metadata": {
    "id": "MgHP7mbUqO8l"
   },
   "source": [
    "###`Problem-12:`Write a Python program to create a list containing the power of said number in bases raised to the corresponding number in the index using Python map.\n",
    "`Input:`\n",
    "```\n",
    "list1 = [1,2,3,4,5,6]\n",
    "```\n",
    "`Output:`\n",
    "```\n",
    "[1,2,9,64,625,-]\n",
    "```\n"
   ]
  },
  {
   "cell_type": "code",
   "execution_count": 33,
   "metadata": {
    "executionInfo": {
     "elapsed": 688,
     "status": "ok",
     "timestamp": 1669093985942,
     "user": {
      "displayName": "CampusX",
      "userId": "17274569631252575216"
     },
     "user_tz": -330
    },
    "id": "gG3Dc6N3qbvN"
   },
   "outputs": [
    {
     "data": {
      "text/plain": [
       "[1, 2, 9, 64, 625, 7776]"
      ]
     },
     "execution_count": 33,
     "metadata": {},
     "output_type": "execute_result"
    }
   ],
   "source": [
    "# Write code here\n",
    "list1 = [1, 2, 3, 4, 5, 6]\n",
    "\n",
    "list(map(lambda item: item[1] ** item[0], enumerate(list1)))"
   ]
  },
  {
   "cell_type": "markdown",
   "metadata": {
    "id": "G26SYq6vqdLN"
   },
   "source": [
    "###`Problem-13` Using filter() and list() functions and .lower() method filter all the vowels in a given string.\n",
    "\n"
   ]
  },
  {
   "cell_type": "code",
   "execution_count": 51,
   "metadata": {
    "executionInfo": {
     "elapsed": 2,
     "status": "ok",
     "timestamp": 1669093991596,
     "user": {
      "displayName": "CampusX",
      "userId": "17274569631252575216"
     },
     "user_tz": -330
    },
    "id": "zurga3DIqmEx"
   },
   "outputs": [
    {
     "data": {
      "text/plain": [
       "['u', 'a', 'i', 'a', 'a', 'o', 'e']"
      ]
     },
     "execution_count": 51,
     "metadata": {},
     "output_type": "execute_result"
    }
   ],
   "source": [
    "# Write code here\n",
    "s = 'uzair Ahmad O E'\n",
    "s = s.lower()\n",
    "vowel = 'aeiou'\n",
    "s = list(filter(lambda i: i in vowel, s))\n",
    "s"
   ]
  },
  {
   "cell_type": "markdown",
   "metadata": {
    "id": "uQrsunZSqoYu"
   },
   "source": [
    "`Problem-14`: Use reduce to convert a 2D list to 1D"
   ]
  },
  {
   "cell_type": "code",
   "execution_count": 52,
   "metadata": {
    "executionInfo": {
     "elapsed": 4,
     "status": "ok",
     "timestamp": 1669093996748,
     "user": {
      "displayName": "CampusX",
      "userId": "17274569631252575216"
     },
     "user_tz": -330
    },
    "id": "E1YUwnfgqnka"
   },
   "outputs": [
    {
     "data": {
      "text/plain": [
       "[1, 2, 3, 4, 5, 6]"
      ]
     },
     "execution_count": 52,
     "metadata": {},
     "output_type": "execute_result"
    }
   ],
   "source": [
    "# Write code here\n",
    "from functools import reduce\n",
    "\n",
    "list2D = [[1, 2], [3, 4], [5, 6]]\n",
    "reduce(lambda x, y: x + y, list2D)"
   ]
  },
  {
   "cell_type": "code",
   "execution_count": null,
   "metadata": {
    "executionInfo": {
     "elapsed": 642,
     "status": "ok",
     "timestamp": 1669081423829,
     "user": {
      "displayName": "CampusX",
      "userId": "17274569631252575216"
     },
     "user_tz": -330
    },
    "id": "OLvptttLs6OU"
   },
   "outputs": [],
   "source": [
    "# Write code here\n",
    "employees = [\n",
    "    {\n",
    "        'fname':'Uzair',\n",
    "        'lname':'Ahmad',\n",
    "        'age' : 20,\n",
    "        'grade':'skilled'\n",
    "    },\n",
    "    {\n",
    "        'fname':'Muhammad',\n",
    "        'lname':'Shaheer',\n",
    "        'age' : 20,\n",
    "        'grade':'semi-skilled'\n",
    "    },\n",
    "    {\n",
    "        'fname':'Junaid',\n",
    "        'lname':'Ahmed',\n",
    "        'age' : 30,\n",
    "        'grade':'highly-skilled'\n",
    "    },\n",
    "    {\n",
    "        'fname':'Muhammad',\n",
    "        'lname':'Haris',\n",
    "        'age' : 20,\n",
    "        'grade':'skilled'\n",
    "    },\n",
    "    {\n",
    "        'fname':'Muhammad',\n",
    "        'lname':'Abdullah',\n",
    "        'age' : 22,\n",
    "        'grade':'highly-skilled'\n",
    "    }\n",
    "\n",
    "]"
   ]
  },
  {
   "cell_type": "code",
   "execution_count": 29,
   "metadata": {
    "colab": {
     "base_uri": "https://localhost:8080/"
    },
    "executionInfo": {
     "elapsed": 516,
     "status": "ok",
     "timestamp": 1669081661590,
     "user": {
      "displayName": "CampusX",
      "userId": "17274569631252575216"
     },
     "user_tz": -330
    },
    "id": "vLX0FAQkui3y",
    "outputId": "e7d50543-c30e-4a20-c793-756f5a435df7"
   },
   "outputs": [
    {
     "data": {
      "text/plain": [
       "['Junaid Ahmed', 'Muhammad Abdullah']"
      ]
     },
     "execution_count": 29,
     "metadata": {},
     "output_type": "execute_result"
    }
   ],
   "source": [
    "list(map(lambda x:x['fname'] + ' ' + x['lname'],list(filter(lambda x:True if x['grade'] == 'highly-skilled' else False,employees))))"
   ]
  }
 ],
 "metadata": {
  "colab": {
   "authorship_tag": "ABX9TyMNMXV6ohkOeYNouubGVRP0",
   "provenance": []
  },
  "kernelspec": {
   "display_name": "Python 3",
   "name": "python3"
  },
  "language_info": {
   "codemirror_mode": {
    "name": "ipython",
    "version": 3
   },
   "file_extension": ".py",
   "mimetype": "text/x-python",
   "name": "python",
   "nbconvert_exporter": "python",
   "pygments_lexer": "ipython3",
   "version": "3.13.5"
  }
 },
 "nbformat": 4,
 "nbformat_minor": 0
}
