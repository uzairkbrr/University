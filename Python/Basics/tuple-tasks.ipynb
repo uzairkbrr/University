{
 "cells": [
  {
   "cell_type": "markdown",
   "metadata": {
    "id": "limD5IAfl-tz"
   },
   "source": [
    "# Tuple\n"
   ]
  },
  {
   "cell_type": "markdown",
   "metadata": {
    "id": "nSTn3CjbmB7q"
   },
   "source": [
    "###`Q1:` Join Tuples if similar initial element\n",
    "While working with Python tuples, we can have a problem in which we need to perform concatenation of records from the similarity of initial element. This problem can have applications in data domains such as Data Science.\n",
    "\n",
    "For eg.\n",
    "```\n",
    "Input  : test_list = [(5, 6), (5, 7), (5, 8), (6, 10), (7, 13)]\n",
    "Output : [(5, 6, 7, 8), (6, 10), (7, 13)]\n",
    "```"
   ]
  },
  {
   "cell_type": "code",
   "execution_count": 2,
   "metadata": {
    "id": "hwVeEvH9rJzU"
   },
   "outputs": [
    {
     "data": {
      "text/plain": [
       "[(5, 6, 7, 8), (6, 10), (7, 13)]"
      ]
     },
     "execution_count": 2,
     "metadata": {},
     "output_type": "execute_result"
    }
   ],
   "source": [
    "# write your code here\n",
    "test_list = [(5, 6), (5, 7), (5, 8), (6, 10), (7, 13)]\n",
    "temp = {}\n",
    "\n",
    "for a, b in test_list:\n",
    "  if a in temp:\n",
    "    temp[a].append(b)\n",
    "  else:\n",
    "    temp[a] = [b]\n",
    "\n",
    "\n",
    "res = [ (key, *values) for key, values in temp.items() ]\n",
    "res"
   ]
  },
  {
   "cell_type": "markdown",
   "metadata": {
    "id": "ujQpZOFFmeha"
   },
   "source": [
    "###`Q2:` Multiply Adjacent elements (both side) and take sum of right and lest side multiplication result. \n",
    "\n",
    "\n",
    "For eg.\n",
    "```\n",
    "The original tuple : (1, 5, 7, 8, 10)\n",
    "Resultant tuple after multiplication : \n",
    "\n",
    "(1*5, 1*5+5*7, 7*5 + 7*8, 8*7 + 8*10, 10*8) -> (5, 40, 91, 136, 80)\n",
    "\n",
    "output-(5, 40, 91, 136, 80)\n",
    "```"
   ]
  },
  {
   "cell_type": "code",
   "execution_count": 4,
   "metadata": {
    "id": "N9lveEsArNVc"
   },
   "outputs": [
    {
     "name": "stdout",
     "output_type": "stream",
     "text": [
      "Resultant tuple after multiplication: (5, 40, 91, 136, 80)\n"
     ]
    }
   ],
   "source": [
    "# write your code here\n",
    "test_tuple = (1, 5, 7, 8, 10)\n",
    "\n",
    "lst = list(test_tuple)\n",
    "n = len(lst)\n",
    "res = []\n",
    "\n",
    "for i in range(n):\n",
    "  if i == 0:\n",
    "    res.append(lst[i] * lst[i + 1])\n",
    "  elif i == n - 1:\n",
    "    res.append(lst[i] * lst[i - 1])\n",
    "  else:\n",
    "    res.append(lst[i] * lst[i - 1] + lst[i] * lst[i + 1])\n",
    "\n",
    "result = tuple(res)\n",
    "print(\"Resultant tuple after multiplication:\", result)"
   ]
  },
  {
   "cell_type": "markdown",
   "metadata": {
    "id": "x0psnUiu2ZVp"
   },
   "source": [
    "###`Q3`: Check is tuples are same or not?\n",
    "Two tuples would be same if both tuples have same element at same index\n",
    "```\n",
    "t1 = (1,2,3,0)\n",
    "t2 = (0,1,2,3)\n",
    "\n",
    "t1 and t2 are not same\n",
    "```"
   ]
  },
  {
   "cell_type": "code",
   "execution_count": 6,
   "metadata": {
    "id": "JMVw9EhSrPEc"
   },
   "outputs": [
    {
     "name": "stdout",
     "output_type": "stream",
     "text": [
      "Not Same\n"
     ]
    }
   ],
   "source": [
    "# write your code here\n",
    "t1 = (1, 2, 3, 0)\n",
    "t2 = (0, 1, 2, 3)\n",
    "\n",
    "if t1 == t2:\n",
    "  print(\"Same\")\n",
    "else:\n",
    "  print(\"Not Same\")\n"
   ]
  },
  {
   "cell_type": "markdown",
   "metadata": {
    "id": "aZ4rObHK4fCN"
   },
   "source": [
    "###`Q4`: Count no of tuples, list and set from a list\n",
    "```\n",
    "list1 = [{'hi', 'bye'},{'Geeks', 'forGeeks'},('a', 'b'),['hi', 'bye'],['a', 'b']]\n",
    "\n",
    "```\n",
    "`Output:`\n",
    "\n",
    "```\n",
    "List-2\n",
    "Set-2\n",
    "Tuples-1\n",
    "```"
   ]
  },
  {
   "cell_type": "code",
   "execution_count": 10,
   "metadata": {
    "id": "g_Bnuczk69tG"
   },
   "outputs": [
    {
     "name": "stdout",
     "output_type": "stream",
     "text": [
      "List- 2\n",
      "Set- 2\n",
      "Tuples- 1\n"
     ]
    }
   ],
   "source": [
    "# write your code here\n",
    "list1 = [{'hi', 'bye'}, {'Geeks', 'forGeeks'}, ('a', 'b'), ['hi', 'bye'], ['a', 'b']]\n",
    "list_count = 0\n",
    "set_count = 0\n",
    "tuple_count = 0\n",
    "\n",
    "for item in list1:\n",
    "  if isinstance(item, list):\n",
    "    list_count += 1\n",
    "  elif isinstance(item, set):\n",
    "    set_count += 1\n",
    "  elif isinstance(item, tuple):\n",
    "    tuple_count += 1\n",
    "\n",
    "print(\"List-\", list_count)\n",
    "print(\"Set-\", set_count)\n",
    "print(\"Tuples-\", tuple_count)\n"
   ]
  },
  {
   "cell_type": "markdown",
   "metadata": {
    "id": "jInFNuit8hf1"
   },
   "source": [
    "###`Q5`: Shortlist Students for a Job role\n",
    "Ask user to input students record and store in tuples for each record. Then Ask user to input three things he wants in the candidate- Primary Skill, Higher Education, Year of Graduation.\n",
    "\n",
    "Show every students record in form of tuples if matches all required criteria.\n",
    "\n",
    "It is assumed that there will be only one primry skill.\n",
    "\n",
    "If no such candidate found, print `No such candidate`\n",
    "\n",
    "`Input:`\n",
    "```\n",
    "Enter No of records- 2\n",
    "Enter Details of student-1\n",
    "Enter Student name- Manohar\n",
    "Enter Higher Education- B.Tech\n",
    "Enter Primary Skill- Python\n",
    "Enter Year of Graduation- 2022\n",
    "Enter Details of student-2\n",
    "Enter Student name- Ponian\n",
    "Enter Higher Education- B.Sc.\n",
    "Enter Primary Skill- C++\n",
    "Enter Year of Graduation- 2020\n",
    "\n",
    "Enter Job Role Requirement\n",
    "Enter Skill- Python\n",
    "Enter Higher Education- B.Tech\n",
    "Enter Year of Graduation- 2022\n",
    "```\n",
    "\n",
    "`Output`\n",
    "```\n",
    "('Manohar', 'B.tech', 'Python', '2022')\n",
    "```\n"
   ]
  },
  {
   "cell_type": "code",
   "execution_count": 11,
   "metadata": {
    "id": "erh9QZaerSHk"
   },
   "outputs": [
    {
     "name": "stdout",
     "output_type": "stream",
     "text": [
      "Enter Details of student-1\n",
      "\n",
      "Enter Job Role Requirement\n",
      "No such candidate\n"
     ]
    }
   ],
   "source": [
    "# write your code here\n",
    "n = int(input(\"Enter No of records- \"))\n",
    "students = []\n",
    "\n",
    "for i in range(n):\n",
    "  print(f\"Enter Details of student-{i+1}\")\n",
    "  name = input(\"Enter Student name- \").strip()\n",
    "  education = input(\"Enter Higher Education- \").strip()\n",
    "  skill = input(\"Enter Primary Skill- \").strip()\n",
    "  graduation_year = input(\"Enter Year of Graduation- \").strip()\n",
    "  students.append((name, education, skill, graduation_year))\n",
    "\n",
    "print(\"\\nEnter Job Role Requirement\")\n",
    "req_skill = input(\"Enter Skill- \").strip()\n",
    "req_education = input(\"Enter Higher Education- \").strip()\n",
    "req_year = input(\"Enter Year of Graduation- \").strip()\n",
    "\n",
    "found = False\n",
    "for student in students:\n",
    "  name, edu, skl, year = student\n",
    "  if skl == req_skill and edu == req_education and year == req_year:\n",
    "    print(student)\n",
    "    found = True\n",
    "\n",
    "if not found:\n",
    "  print(\"No such candidate\")\n"
   ]
  },
  {
   "cell_type": "markdown",
   "metadata": {
    "id": "l4hLvwD2BeIN"
   },
   "source": [
    "# Set"
   ]
  },
  {
   "cell_type": "markdown",
   "metadata": {
    "id": "zCX0Sk2IBfu8"
   },
   "source": [
    "###`Q1:` Write a program to find set of common elements in three lists using sets.\n",
    "```\n",
    "Input : ar1 = [1, 5, 10, 20, 40, 80]\n",
    "        ar2 = [6, 7, 20, 80, 100]\n",
    "        ar3 = [3, 4, 15, 20, 30, 70, 80, 120]\n",
    "\n",
    "Output : [80, 20]\n",
    "```"
   ]
  },
  {
   "cell_type": "code",
   "execution_count": 13,
   "metadata": {
    "id": "rqATYpBUrUQU"
   },
   "outputs": [
    {
     "data": {
      "text/plain": [
       "{20, 80}"
      ]
     },
     "execution_count": 13,
     "metadata": {},
     "output_type": "execute_result"
    }
   ],
   "source": [
    "# write your code here\n",
    "s1 = set([1, 5, 10, 20, 40, 80])\n",
    "s2 = set([6, 7, 20, 80, 100])\n",
    "s3 = set([3, 4, 15, 20, 30, 70, 80, 120])\n",
    "\n",
    "s1 & s2 & s3"
   ]
  },
  {
   "cell_type": "markdown",
   "metadata": {
    "id": "0gOVS-0yCYrK"
   },
   "source": [
    "###`Q2:` Write a program to count unique number of vowels using sets in a given string. Lowercase and upercase vowels will be taken as different.\n",
    "\n",
    "`Input:`\n",
    "```\n",
    "Str1 = \"hands-on data science mentorship progrAm with live classes at affordable fee only on CampusX\"\n",
    "```\n",
    "`Output:`\n",
    "```\n",
    "No of unique vowels-6\n",
    "```"
   ]
  },
  {
   "cell_type": "code",
   "execution_count": 16,
   "metadata": {
    "id": "0vAlEAOzDihm"
   },
   "outputs": [
    {
     "data": {
      "text/plain": [
       "6"
      ]
     },
     "execution_count": 16,
     "metadata": {},
     "output_type": "execute_result"
    }
   ],
   "source": [
    "# write your code here\n",
    "Str1 = \"hands-on data science mentorship progrAm with live classes at affordable fee only on CampusX\"\n",
    "s = set(Str1)\n",
    "vowels = {'a', 'e', 'i', 'o', 'u', 'A', 'E', 'I', 'O', 'U'}\n",
    "\n",
    "vowels_list = [vowel for vowel in s if vowel in vowels]\n",
    "len(vowels_list)"
   ]
  },
  {
   "cell_type": "markdown",
   "metadata": {
    "id": "fqLZxiarEne5"
   },
   "source": [
    "### `Q3:` Write a program to Check if a given string is binary string of or not. \n",
    "\n",
    "A string is said to be binary if it's consists of only two unique characters.\n",
    "\n",
    "Take string input from user. \n",
    "\n",
    "```\n",
    "Input: str = \"01010101010\"\n",
    "Output: Yes\n",
    "\n",
    "Input: str = \"1222211\"\n",
    "Output: Yes\n",
    "\n",
    "Input: str = \"Campusx\"\n",
    "Output: No\n",
    "```"
   ]
  },
  {
   "cell_type": "code",
   "execution_count": 21,
   "metadata": {
    "id": "5M5v8LoYrXkE"
   },
   "outputs": [
    {
     "name": "stdout",
     "output_type": "stream",
     "text": [
      "No.\n"
     ]
    }
   ],
   "source": [
    "# write your code here\n",
    "user_input = input(\"String: \")\n",
    "s = set(user_input)\n",
    "\n",
    "if len(s) == 2:\n",
    "  print(\"Yes.\")\n",
    "else:\n",
    "  print(\"No.\")"
   ]
  },
  {
   "cell_type": "markdown",
   "metadata": {
    "id": "xXS8wYH1mDqx"
   },
   "source": [
    "### `Q4`: find union of n arrays.\n",
    "\n",
    "**Example 1:**\n",
    "\n",
    "Input:\n",
    "```bash\n",
    "[[1, 2, 2, 4, 3, 6],\n",
    " [5, 1, 3, 4],\n",
    " [9, 5, 7, 1],\n",
    " [2, 4, 1, 3]]\n",
    "```\n",
    "\n",
    "Output:\n",
    "\n",
    "```bash\n",
    "[1, 2, 3, 4, 5, 6, 7, 9]\n",
    "```"
   ]
  },
  {
   "cell_type": "code",
   "execution_count": 24,
   "metadata": {
    "id": "FVNyK6MbncU8"
   },
   "outputs": [
    {
     "data": {
      "text/plain": [
       "[1, 2, 3, 4, 5, 6, 7, 9]"
      ]
     },
     "execution_count": 24,
     "metadata": {},
     "output_type": "execute_result"
    }
   ],
   "source": [
    "# write your code here\n",
    "arrays = [\n",
    "  [1, 2, 2, 4, 3, 6],\n",
    "  [5, 1, 3, 4],\n",
    "  [9, 5, 7, 1],\n",
    "  [2, 4, 1, 3]\n",
    "]\n",
    "\n",
    "union_set = set()\n",
    "for arr in arrays:\n",
    "  union_set.update(arr)\n",
    "\n",
    "result = sorted(union_set)\n",
    "result"
   ]
  },
  {
   "cell_type": "markdown",
   "metadata": {
    "id": "T_Re21BdndOz"
   },
   "source": [
    "### `Q5`: Intersection of two lists. Intersection of two list means we need to take all those elements which are common to both of the initial lists and store them into another list. Only use using **list-comprehension**.\n",
    "\n",
    "**Example 1:**\n",
    "\n",
    "Input:\n",
    "```bash\n",
    "lst1 = {15, 9, 10, 56, 23, 78, 5, 4, 9}\n",
    "lst2 = {9, 4, 5, 36, 47, 26, 10, 45, 87}\n",
    "```\n",
    "\n",
    "Output:\n",
    "```bash\n",
    "[9, 10, 4, 5]\n",
    "```\n",
    "\n",
    "**Example 2:**\n",
    "\n",
    "Input:\n",
    "```bash\n",
    "lst1 = {4, 9, 1, 17, 11, 26, 28, 54, 69}\n",
    "lst2 = {9, 9, 74, 21, 45, 11, 63, 28, 26}\n",
    "```\n",
    "\n",
    "Output:\n",
    "```bash\n",
    "[9, 11, 26, 28]\n",
    "```"
   ]
  },
  {
   "cell_type": "code",
   "execution_count": 25,
   "metadata": {
    "id": "nWnL25ftoLVT"
   },
   "outputs": [
    {
     "data": {
      "text/plain": [
       "[9, 10, 5, 4]"
      ]
     },
     "execution_count": 25,
     "metadata": {},
     "output_type": "execute_result"
    }
   ],
   "source": [
    "# write your code here\n",
    "lst1 = [15, 9, 10, 56, 23, 78, 5, 4, 9]\n",
    "lst2 = [9, 4, 5, 36, 47, 26, 10, 45, 87]\n",
    "\n",
    "intersection = [x for i, x in enumerate(lst1) if x in lst2 and x not in lst1[:i]]\n",
    "intersection\n"
   ]
  },
  {
   "cell_type": "markdown",
   "metadata": {
    "id": "tD2RSYn1a8oA"
   },
   "source": [
    "# Dictionary"
   ]
  },
  {
   "cell_type": "markdown",
   "metadata": {
    "id": "7tUjHhcPbQzQ"
   },
   "source": [
    "### `Q1`: Key with maximum unique values\n",
    "\n",
    "Given a dictionary with values list, extract key whose value has most unique values.\n",
    "\n",
    "**Example 1:**\n",
    "\n",
    "Input:\n",
    "\n",
    "```bash\n",
    "test_dict = {\"CampusX\" : [5, 7, 9, 4, 0], \"is\" : [6, 7, 4, 3, 3], \"Best\" : [9, 9, 6, 5, 5]}\n",
    "```\n",
    "\n",
    "Output:\n",
    "```bash\n",
    "CampusX\n",
    "```\n",
    "\n",
    "**Example 2:**\n",
    "\n",
    "Input:\n",
    "```bash\n",
    "test_dict = {\"CampusX\" : [5, 7, 7, 7, 7], \"is\" : [6, 7, 7, 7], \"Best\" : [9, 9, 6, 5, 5]}\n",
    "```\n",
    "\n",
    "Output:\n",
    "```bash\n",
    "Best\n",
    "```"
   ]
  },
  {
   "cell_type": "code",
   "execution_count": null,
   "metadata": {
    "id": "N8KHX863lNxL"
   },
   "outputs": [
    {
     "data": {
      "text/plain": [
       "'CampusX'"
      ]
     },
     "execution_count": 26,
     "metadata": {},
     "output_type": "execute_result"
    }
   ],
   "source": [
    "# write your code here\n",
    "test_dict = {\n",
    "  \"CampusX\" : [5, 7, 9, 4, 0],\n",
    "  \"is\" : [6, 7, 4, 3, 3],\n",
    "  \"Best\" : [9, 9, 6, 5, 5]\n",
    "}\n",
    "\n",
    "max_unique = 0\n",
    "result = \"\"\n",
    "\n",
    "for key in test_dict:\n",
    "  unique_count = len(set(test_dict[key]))\n",
    "  if unique_count > max_unique:\n",
    "    max_unique = unique_count\n",
    "    result = key\n",
    "result\n"
   ]
  },
  {
   "cell_type": "markdown",
   "metadata": {
    "id": "_S5X6C84dWdJ"
   },
   "source": [
    "### `Q2`: Replace words from Dictionary. Given String, replace it’s words from lookup dictionary.\n",
    "\n",
    "**Example 1:**\n",
    "\n",
    "Input:\n",
    "\n",
    "```bash\n",
    "test_str = 'CampusX best for DS students.'\n",
    "repl_dict = {\"best\" : \"is the best channel\", \"DS\" : \"Data-Science\"}\n",
    "```\n",
    "\n",
    "Output:\n",
    "\n",
    "```bash\n",
    "CampusX is the best channel for Data-Science students.\n",
    "```\n",
    "\n",
    "**Example 2:**\n",
    "\n",
    "Input:\n",
    "```bash\n",
    "test_str = 'CampusX best for DS students.'\n",
    "repl_dict = {\"good\" : \"is the best channel\", \"ds\" : \"Data-Science\"}\n",
    "```\n",
    "\n",
    "Output:\n",
    "```bash\n",
    "CampusX best for DS students.\n",
    "```"
   ]
  },
  {
   "cell_type": "code",
   "execution_count": 28,
   "metadata": {
    "id": "BTAQ8qnrlOxr"
   },
   "outputs": [
    {
     "name": "stdout",
     "output_type": "stream",
     "text": [
      "['CampusX', 'is the best channel', 'for', 'Data-Science', 'students.']\n"
     ]
    },
    {
     "data": {
      "text/plain": [
       "'CampusX is the best channel for Data-Science students.'"
      ]
     },
     "execution_count": 28,
     "metadata": {},
     "output_type": "execute_result"
    }
   ],
   "source": [
    "# write your code here\n",
    "\n",
    "test_str = 'CampusX best for DS students.'\n",
    "repl_dict = {\"best\": \"is the best channel\", \"DS\": \"Data-Science\"}\n",
    "words = test_str.split()\n",
    "\n",
    "replaced_words = [repl_dict.get(word, word) for word in words]\n",
    "result = ' '.join(replaced_words)\n",
    "print(replaced_words)\n",
    "result"
   ]
  },
  {
   "cell_type": "markdown",
   "metadata": {
    "id": "55xgap3zfbcR"
   },
   "source": [
    "### `Q3`: Convert List to List of dictionaries. Given list values and keys list, convert these values to key value pairs in form of list of dictionaries.\n",
    "\n",
    "**Example 1:**\n",
    "\n",
    "Input:\n",
    "```bash\n",
    "test_list = [\"DataScience\", 3, \"is\", 8]\n",
    "key_list = [\"name\", \"id\"]\n",
    "```\n",
    "\n",
    "Output:\n",
    "\n",
    "```bash\n",
    "[{'name': 'DataScience', 'id': 3}, {'name': 'is', 'id': 8}]\n",
    "```\n",
    "\n",
    "**Example 2:**\n",
    "\n",
    "Input:\n",
    "```bash\n",
    "test_list = [\"CampusX\", 10]\n",
    "key_list = [\"name\", \"id\"]\n",
    "```\n",
    "\n",
    "Output:\n",
    "\n",
    "```bash\n",
    "[{'name': 'CampusX', 'id': 10}]\n",
    "```"
   ]
  },
  {
   "cell_type": "code",
   "execution_count": 29,
   "metadata": {
    "id": "jbCajI87lQFr"
   },
   "outputs": [
    {
     "data": {
      "text/plain": [
       "[{'name': 'DataScience', 'id': 3}, {'name': 'is', 'id': 8}]"
      ]
     },
     "execution_count": 29,
     "metadata": {},
     "output_type": "execute_result"
    }
   ],
   "source": [
    "# write your code here\n",
    "test_list = [\"DataScience\", 3, \"is\", 8]\n",
    "key_list = [\"name\", \"id\"]\n",
    "\n",
    "res = []\n",
    "\n",
    "for i in range(0, len(test_list), len(key_list)):\n",
    "  temp = dict(zip(key_list, test_list[i:i+len(key_list)]))\n",
    "  res.append(temp)\n",
    "\n",
    "res"
   ]
  },
  {
   "cell_type": "markdown",
   "metadata": {
    "id": "5RxBlLQahLkB"
   },
   "source": [
    "### `Q4`: Convert a list of Tuples into Dictionary.\n",
    "\n",
    "**Example 1:**\n",
    "\n",
    "Input:\n",
    "```bash\n",
    "[(\"akash\", 10), (\"gaurav\", 12), (\"anand\", 14), (\"suraj\", 20), (\"akhil\", 25), (\"ashish\", 30)]\n",
    "```\n",
    "\n",
    "Output:\n",
    "```bash\n",
    "{'akash': [10], 'gaurav': [12], 'anand': [14], 'suraj': [20], 'akhil': [25], 'ashish': [30]}\n",
    "```\n",
    "\n",
    "**Example 2:**\n",
    "\n",
    "Input:\n",
    "```bash\n",
    "[('A', 1), ('B', 2), ('C', 3)]\n",
    "```\n",
    "\n",
    "Output:\n",
    "```bash\n",
    "{'A': [1], 'B': [2], 'C': [3]}\n",
    "```"
   ]
  },
  {
   "cell_type": "code",
   "execution_count": null,
   "metadata": {
    "id": "f1yz7inMlQ5N"
   },
   "outputs": [
    {
     "data": {
      "text/plain": [
       "{'A': [20], 'B': [12], 'C': [30]}"
      ]
     },
     "execution_count": 31,
     "metadata": {},
     "output_type": "execute_result"
    }
   ],
   "source": [
    "# write your code here\n",
    "tuple_list = [(\"A\", 10), (\"B\", 12), (\"C\", 14), (\"A\", 20), (\"C\", 25), (\"C\", 30)]\n",
    "\n",
    "res = {key: [value] for key, value in tuple_list}\n",
    "res"
   ]
  },
  {
   "cell_type": "markdown",
   "metadata": {
    "id": "Fz8EzJD-kBkS"
   },
   "source": [
    "### `Q5`: Sort Dictionary key and values List.\n",
    "\n",
    "**Example 1:**\n",
    "\n",
    "Input:\n",
    "\n",
    "```bash\n",
    "{'c': [3], 'b': [12, 10], 'a': [19, 4]}\n",
    "```\n",
    "\n",
    "Output:\n",
    "\n",
    "```bash\n",
    "{'a': [4, 19], 'b': [10, 12], 'c': [3]}\n",
    "```\n",
    "\n",
    "**Example 2:**\n",
    "\n",
    "Input:\n",
    "\n",
    "```bash\n",
    "{'c': [10, 34, 3]}\n",
    "```\n",
    "\n",
    "Output:\n",
    "\n",
    "```bash\n",
    "{'c': [3, 10, 34]}\n",
    "```"
   ]
  },
  {
   "cell_type": "code",
   "execution_count": 32,
   "metadata": {
    "id": "x9UmJ4EQk7Pp"
   },
   "outputs": [
    {
     "data": {
      "text/plain": [
       "{'a': [4, 19], 'b': [10, 12], 'c': [3]}"
      ]
     },
     "execution_count": 32,
     "metadata": {},
     "output_type": "execute_result"
    }
   ],
   "source": [
    "# write your code here\n",
    "test_dict = {'c': [3], 'b': [12, 10], 'a': [19, 4]}\n",
    "sorted_dict = {key: sorted(test_dict[key]) for key in sorted(test_dict)}\n",
    "sorted_dict"
   ]
  }
 ],
 "metadata": {
  "colab": {
   "provenance": []
  },
  "kernelspec": {
   "display_name": "Python 3",
   "name": "python3"
  },
  "language_info": {
   "codemirror_mode": {
    "name": "ipython",
    "version": 3
   },
   "file_extension": ".py",
   "mimetype": "text/x-python",
   "name": "python",
   "nbconvert_exporter": "python",
   "pygments_lexer": "ipython3",
   "version": "3.13.5"
  }
 },
 "nbformat": 4,
 "nbformat_minor": 0
}
