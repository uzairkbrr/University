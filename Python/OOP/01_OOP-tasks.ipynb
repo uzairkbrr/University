{
 "cells": [
  {
   "cell_type": "markdown",
   "metadata": {
    "id": "FyUJ3PRAsPr4"
   },
   "source": [
    "##`Q-1:` Rectangle Class\n",
    "1. Write a Rectangle class in Python language, allowing you to build a rectangle with length and width attributes.\n",
    "\n",
    "2. Create a Perimeter() method to calculate the perimeter of the rectangle and a Area() method to calculate the area of ​​the rectangle.\n",
    "\n",
    "3. Create a method display() that display the length, width, perimeter and area of an object created using an instantiation on rectangle class."
   ]
  },
  {
   "cell_type": "markdown",
   "metadata": {
    "id": "GxUtOqJfssFK"
   },
   "source": [
    "Eg.\n",
    "After making above classes and methods, on executing below code:-\n",
    "```\n",
    "my_rectangle = Rectangle(3 , 4)\n",
    "my_rectangle.display()\n",
    "```\n",
    "\n",
    "`Output:`\n",
    "```\n",
    "The length of rectangle is:  3\n",
    "The width of rectangle is:  4\n",
    "The perimeter of rectangle is:  14\n",
    "The area of rectangle is:  12\n",
    "```\n"
   ]
  },
  {
   "cell_type": "code",
   "execution_count": 1,
   "metadata": {
    "id": "92_QT-Uj6NBg"
   },
   "outputs": [
    {
     "name": "stdout",
     "output_type": "stream",
     "text": [
      "The length of rectangle is:  3\n",
      "The width of rectangle is:  4\n",
      "The perimeter of rectangle is:  14\n",
      "The area of rectangle is:  12\n"
     ]
    }
   ],
   "source": [
    "# write your code here\n",
    "class Rectangle:\n",
    "  def __init__(self, length, width):\n",
    "    self.length = length\n",
    "    self.width = width\n",
    "\n",
    "  def perimeter(self):\n",
    "    return 2 * (self.length + self.width)\n",
    "\n",
    "  def area(self):\n",
    "    return self.width * self.length\n",
    "\n",
    "  def display(self):\n",
    "    print(\"The length of rectangle is: \", self.length)\n",
    "    print(\"The width of rectangle is: \", self.width)\n",
    "    print(\"The perimeter of rectangle is: \", self.perimeter())\n",
    "    print(\"The area of rectangle is: \", self.area())\n",
    "\n",
    "r1 = Rectangle(3, 4)\n",
    "r1.display()"
   ]
  },
  {
   "cell_type": "markdown",
   "metadata": {
    "id": "r_GxrS0Vrdom"
   },
   "source": [
    "##`Q-2: Bank Class`\n",
    "\n",
    "1. Create a Python class called `BankAccount` which represents a bank account, having as attributes: `accountNumber` (numeric type), `name` (name of the account owner as string type), `balance`.\n",
    "2. Create a constructor with parameters: `accountNumber, name, balance`.\n",
    "3. Create a `Deposit()` method which manages the deposit actions.\n",
    "4. Create a `Withdrawal()` method  which manages withdrawals actions.\n",
    "5. Create an `bankFees()` method to apply the bank fees with a percentage of 5% of the balance account.\n",
    "6. Create a `display()` method to display account details.\n",
    "Give the complete code for the  BankAccount class."
   ]
  },
  {
   "cell_type": "markdown",
   "metadata": {
    "id": "qvVkOUJgvTV_"
   },
   "source": [
    "Eg.\n",
    "After making above classes and methods, on executing below code:-\n",
    "```\n",
    "newAccount = BankAccount(2178514584, \"Mandy\" , 2800)\n",
    "\n",
    "newAccount.Withdrawal(700)\n",
    "\n",
    "newAccount.Deposit(1000)\n",
    "\n",
    "newAccount.display()\n",
    "```\n",
    "\n",
    "`Output:`\n",
    "```\n",
    "Account Number :  2178514584\n",
    "Account Name :  Mandy\n",
    "Account Balance :  3100 ₹\n",
    "```"
   ]
  },
  {
   "cell_type": "code",
   "execution_count": 2,
   "metadata": {
    "id": "fUQOmQyA6YDR"
   },
   "outputs": [],
   "source": [
    "# write your code here\n",
    "class BankAccount():\n",
    "  def __init__(self, accountNumber, name, balance):\n",
    "    self.accountNumber = accountNumber\n",
    "    self.name = name\n",
    "    self.balance = balance\n",
    "\n",
    "  def deposit(self, amount):\n",
    "    self.balance += amount\n",
    "\n",
    "  def withdrawal(self, amount):\n",
    "    if amount <= self.balance:\n",
    "      self.balance -= amount\n",
    "\n",
    "  def display(self):\n",
    "    print(\"Account Number: \", self.accountNumber)\n",
    "    print(\"Account Name: \", self.name)\n",
    "    print(\"Account Balance: \", self.balance)"
   ]
  },
  {
   "cell_type": "code",
   "execution_count": 3,
   "metadata": {},
   "outputs": [
    {
     "name": "stdout",
     "output_type": "stream",
     "text": [
      "Account Number:  1234\n",
      "Account Name:  Uzair Ahmad\n",
      "Account Balance:  3100\n"
     ]
    }
   ],
   "source": [
    "newAccount = BankAccount(1234, \"Uzair Ahmad\", 2800)\n",
    "newAccount.withdrawal(700)\n",
    "newAccount.deposit(1000)\n",
    "newAccount.display()"
   ]
  },
  {
   "cell_type": "markdown",
   "metadata": {
    "id": "QovcQAZTrgGU"
   },
   "source": [
    "##`Q-3:Computation class`\n",
    "\n",
    "1. Create a `Computation` class with a default constructor (without parameters) allowing to perform various calculations on integers numbers.\n",
    "2. Create a method called `Factorial()` which allows to calculate the factorial of an integer n. Integer n as parameter for this method\n",
    "\n",
    "3. Create a method called `naturalSum()` allowing to calculate the sum of the first n integers 1 + 2 + 3 + .. + n. Integer n as parameter for this method.\n",
    "\n",
    "4. Create a method called `testPrime()` in  the Calculation class to test the primality of a given integer n, n is Prime or Not? Integer n as parameter for this method.\n",
    "\n",
    "5. Create  a method called `testPrims()` allowing to test if two numbers are prime between them. Two integers are prime to one another if they have only `1` as their common divisor. Eg. 4 and 9 are prime to each other.\n",
    "\n",
    "5. Create a `tableMult()` method which creates and displays the multiplication table of a given integer. Then create an `allTablesMult()` method to display all the integer multiplication tables 1, 2, 3, ..., 9.\n",
    "\n",
    "6. Create a static `listDiv()` method that gets all the divisors of a given integer on new list called  Ldiv. Create another `listDivPrim()` method that gets all the prime divisors of a given integer."
   ]
  },
  {
   "cell_type": "code",
   "execution_count": 5,
   "metadata": {
    "id": "YEkPH70l6Z-o"
   },
   "outputs": [],
   "source": [
    "import math\n",
    "from sympy import isprime\n",
    "\n",
    "class Computation:\n",
    "  def __init__(self):\n",
    "    pass\n",
    "\n",
    "  def factorial(self, n):\n",
    "    return math.factorial(n)\n",
    "\n",
    "  def naturalSum(self, n):\n",
    "    return n * (n + 1) // 2\n",
    "\n",
    "  def testPrime(self, n):\n",
    "    return isprime(n)\n",
    "\n",
    "  def testPrims(self, a, b):\n",
    "    # If GCD is 1, then they are prime to each other\n",
    "    return math.gcd(a, b) == 1\n",
    "\n",
    "  def tableMult(self, n):\n",
    "    print(f\"Multiplication Table of {n}:\")\n",
    "    for i in range(1, 11):\n",
    "      print(f\"{n} x {i} = {n * i}\")\n",
    "\n",
    "  def allTablesMult(self):\n",
    "    for i in range(1, 10):\n",
    "      print(f\"\\nTable of {i}\")\n",
    "      self.tableMult(i)\n",
    "\n",
    "  def listDiv(n):\n",
    "    Ldiv = [i for i in range(1, n + 1) if n % i == 0]\n",
    "    return Ldiv\n",
    "\n",
    "  def listDivPrim(n):\n",
    "    Ldiv = Computation.listDiv(n)\n",
    "    prime_divs = [i for i in Ldiv if isprime(i)]\n",
    "    return prime_divs\n"
   ]
  },
  {
   "cell_type": "code",
   "execution_count": 6,
   "metadata": {},
   "outputs": [
    {
     "name": "stdout",
     "output_type": "stream",
     "text": [
      "Factorial of 5: 120\n",
      "Sum from 1 to 10: 55\n",
      "Is 7 prime? True\n",
      "Are 4 and 9 prime to each other? True\n",
      "Divisors of 12: [1, 2, 3, 4, 6, 12]\n",
      "Prime divisors of 12: [2, 3]\n",
      "\n",
      "Single Table:\n",
      "Multiplication Table of 5:\n",
      "5 x 1 = 5\n",
      "5 x 2 = 10\n",
      "5 x 3 = 15\n",
      "5 x 4 = 20\n",
      "5 x 5 = 25\n",
      "5 x 6 = 30\n",
      "5 x 7 = 35\n",
      "5 x 8 = 40\n",
      "5 x 9 = 45\n",
      "5 x 10 = 50\n",
      "\n",
      "All Tables:\n",
      "\n",
      "Table of 1\n",
      "Multiplication Table of 1:\n",
      "1 x 1 = 1\n",
      "1 x 2 = 2\n",
      "1 x 3 = 3\n",
      "1 x 4 = 4\n",
      "1 x 5 = 5\n",
      "1 x 6 = 6\n",
      "1 x 7 = 7\n",
      "1 x 8 = 8\n",
      "1 x 9 = 9\n",
      "1 x 10 = 10\n",
      "\n",
      "Table of 2\n",
      "Multiplication Table of 2:\n",
      "2 x 1 = 2\n",
      "2 x 2 = 4\n",
      "2 x 3 = 6\n",
      "2 x 4 = 8\n",
      "2 x 5 = 10\n",
      "2 x 6 = 12\n",
      "2 x 7 = 14\n",
      "2 x 8 = 16\n",
      "2 x 9 = 18\n",
      "2 x 10 = 20\n",
      "\n",
      "Table of 3\n",
      "Multiplication Table of 3:\n",
      "3 x 1 = 3\n",
      "3 x 2 = 6\n",
      "3 x 3 = 9\n",
      "3 x 4 = 12\n",
      "3 x 5 = 15\n",
      "3 x 6 = 18\n",
      "3 x 7 = 21\n",
      "3 x 8 = 24\n",
      "3 x 9 = 27\n",
      "3 x 10 = 30\n",
      "\n",
      "Table of 4\n",
      "Multiplication Table of 4:\n",
      "4 x 1 = 4\n",
      "4 x 2 = 8\n",
      "4 x 3 = 12\n",
      "4 x 4 = 16\n",
      "4 x 5 = 20\n",
      "4 x 6 = 24\n",
      "4 x 7 = 28\n",
      "4 x 8 = 32\n",
      "4 x 9 = 36\n",
      "4 x 10 = 40\n",
      "\n",
      "Table of 5\n",
      "Multiplication Table of 5:\n",
      "5 x 1 = 5\n",
      "5 x 2 = 10\n",
      "5 x 3 = 15\n",
      "5 x 4 = 20\n",
      "5 x 5 = 25\n",
      "5 x 6 = 30\n",
      "5 x 7 = 35\n",
      "5 x 8 = 40\n",
      "5 x 9 = 45\n",
      "5 x 10 = 50\n",
      "\n",
      "Table of 6\n",
      "Multiplication Table of 6:\n",
      "6 x 1 = 6\n",
      "6 x 2 = 12\n",
      "6 x 3 = 18\n",
      "6 x 4 = 24\n",
      "6 x 5 = 30\n",
      "6 x 6 = 36\n",
      "6 x 7 = 42\n",
      "6 x 8 = 48\n",
      "6 x 9 = 54\n",
      "6 x 10 = 60\n",
      "\n",
      "Table of 7\n",
      "Multiplication Table of 7:\n",
      "7 x 1 = 7\n",
      "7 x 2 = 14\n",
      "7 x 3 = 21\n",
      "7 x 4 = 28\n",
      "7 x 5 = 35\n",
      "7 x 6 = 42\n",
      "7 x 7 = 49\n",
      "7 x 8 = 56\n",
      "7 x 9 = 63\n",
      "7 x 10 = 70\n",
      "\n",
      "Table of 8\n",
      "Multiplication Table of 8:\n",
      "8 x 1 = 8\n",
      "8 x 2 = 16\n",
      "8 x 3 = 24\n",
      "8 x 4 = 32\n",
      "8 x 5 = 40\n",
      "8 x 6 = 48\n",
      "8 x 7 = 56\n",
      "8 x 8 = 64\n",
      "8 x 9 = 72\n",
      "8 x 10 = 80\n",
      "\n",
      "Table of 9\n",
      "Multiplication Table of 9:\n",
      "9 x 1 = 9\n",
      "9 x 2 = 18\n",
      "9 x 3 = 27\n",
      "9 x 4 = 36\n",
      "9 x 5 = 45\n",
      "9 x 6 = 54\n",
      "9 x 7 = 63\n",
      "9 x 8 = 72\n",
      "9 x 9 = 81\n",
      "9 x 10 = 90\n"
     ]
    }
   ],
   "source": [
    "c = Computation()\n",
    "\n",
    "print(\"Factorial of 5:\", c.factorial(5))\n",
    "print(\"Sum from 1 to 10:\", c.naturalSum(10))\n",
    "print(\"Is 7 prime?\", c.testPrime(7))\n",
    "print(\"Are 4 and 9 prime to each other?\", c.testPrims(4, 9))\n",
    "print(\"Divisors of 12:\", Computation.listDiv(12))\n",
    "print(\"Prime divisors of 12:\", Computation.listDivPrim(12))\n",
    "print(\"\\nSingle Table:\")\n",
    "c.tableMult(5)\n",
    "print(\"\\nAll Tables:\")\n",
    "c.allTablesMult()"
   ]
  },
  {
   "cell_type": "markdown",
   "metadata": {
    "id": "0yn23_oEriXa"
   },
   "source": [
    "##`Q-4`: Build flashcard using class in Python.\n",
    "\n",
    "Build a flashcard using class in python. A flashcard is a card having information on both sides, which can be used as an aid in memoization. Flashcards usually have a question on one side and an answer on the other.\n",
    "\n",
    "**Example 1:**\n",
    "\n",
    "Approach:\n",
    "\n",
    "- Create a class named FlashCard.\n",
    "- Initialize dictionary fruits using __init__() method. Here you have to define fruit name as key and it's color as value. E.g., {\"Banana\": \"yellow\", \"Strawberries\": \"pink\"}\n",
    "- Now randomly choose a pair from fruits by using _random_ module and store the key in variable _fruit_ and _value_ in variable color.\n",
    "- Now prompt the user to answer the color of the randomly chosen fruit.\n",
    "- If correct print correct else print wrong.\n",
    "\n",
    "Output:\n",
    "```bash\n",
    "welcome to fruit quiz\n",
    "What is the color of Strawberries\n",
    "pink\n",
    "Correct answer\n",
    "Enter 0, if you want to play again: 0\n",
    "What is the color of watermelon\n",
    "green\n",
    "Correct answer\n",
    "Enter 0, if you want to play again: 1\n",
    "```"
   ]
  },
  {
   "cell_type": "code",
   "execution_count": 7,
   "metadata": {
    "id": "vCrUF6VU6l6w"
   },
   "outputs": [],
   "source": [
    "# write your code here\n",
    "import random\n",
    "\n",
    "class FlashCard:\n",
    "  def __init__(self):\n",
    "    self.fruits = {\n",
    "      \"Banana\": \"yellow\",\n",
    "      \"Strawberries\": \"pink\",\n",
    "      \"Watermelon\": \"green\",\n",
    "      \"Orange\": \"orange\",\n",
    "      \"Blueberries\": \"blue\",\n",
    "      \"Grapes\": \"purple\",\n",
    "      \"Apple\": \"red\",\n",
    "      \"Kiwi\": \"brown\",\n",
    "      \"Lemon\": \"yellow\",\n",
    "      \"Mango\": \"orange\"\n",
    "    }\n",
    "\n",
    "  def quiz(self):\n",
    "    print(\"Welcome to the Fruit Color Quiz!\")\n",
    "    while True:\n",
    "      fruit, color = random.choice(list(self.fruits.items()))\n",
    "      answer = input(f\"\\nWhat is the color of {fruit}? \").strip().lower()\n",
    "      if answer == color.lower():\n",
    "        print(\"Correct answer!\")\n",
    "      else:\n",
    "        print(f\"Wrong answer! The correct color is {color}.\")\n",
    "\n",
    "      play_again = input(\"Enter 0 to play again, or any other key to exit: \")\n",
    "      if play_again != \"0\":\n",
    "        print(\"Thanks for playing! 🍓🍌🥝\")\n",
    "        break"
   ]
  },
  {
   "cell_type": "code",
   "execution_count": 8,
   "metadata": {},
   "outputs": [
    {
     "name": "stdout",
     "output_type": "stream",
     "text": [
      "Welcome to the Fruit Color Quiz!\n",
      "Wrong answer! The correct color is pink.\n",
      "Correct answer!\n",
      "Correct answer!\n",
      "Thanks for playing! 🍓🍌🥝\n"
     ]
    }
   ],
   "source": [
    "fc = FlashCard()\n",
    "fc.quiz()"
   ]
  },
  {
   "cell_type": "markdown",
   "metadata": {
    "id": "GN2r0jbRewYr"
   },
   "source": [
    "## `Q-5:` Problem 5 based on OOP Python.\n",
    "\n",
    "TechWorld, a technology training center, wants to allocate courses for instructors. An instructor is identified by name, technology skills, experience and average feedback. An instructor is allocated a course, if he/she satisfies the below two conditions:\n",
    "- eligibility criteria:\n",
    "    - if experience is more than 3 years, average feedback should be 4.5 or more\n",
    "    - if experience is 3 years or less, average feedback should be 4 or more\n",
    "- he/she should posses the technology skill for the course\n",
    "\n",
    "Identify the class name and attributes to represent instructors. Write a Python program to implement the class chosen with its attributes and methods.\n",
    "\n",
    "**Note:**\n",
    "- Consider all instance variables to be private and methods to be public.\n",
    "- An instructor may have multiple technology skills, so consider instance variable, technology_skill to be a list.\n",
    "- *check_eligibility()*: Return true if eligibility criteria is satisfied by the instructor. Else, return false\n",
    "- *allocate_course(technology)*: Return true if the course which requires the given technology can be allocated to the instructor. Else, return false.\n",
    "\n",
    "Represent a few objects of the class, initialize instance variables using setter methods, invoke\n",
    "appropriate methods and test your program."
   ]
  },
  {
   "cell_type": "code",
   "execution_count": 9,
   "metadata": {
    "id": "pdMFuVFnlvKL"
   },
   "outputs": [],
   "source": [
    "# write your code here\n",
    "class Instructor:\n",
    "  def __init__(self):\n",
    "    self.__name = None\n",
    "    self.__technology_skills = []\n",
    "    self.__experience = 0\n",
    "    self.__average_feedback = 0.0\n",
    "\n",
    "  def set_name(self, name):\n",
    "    self.__name = name\n",
    "\n",
    "  def set_technology_skills(self, skills):\n",
    "    if isinstance(skills, list):\n",
    "      self.__technology_skills = skills\n",
    "\n",
    "  def set_experience(self, years):\n",
    "    self.__experience = years\n",
    "\n",
    "  def set_average_feedback(self, feedback):\n",
    "    self.__average_feedback = feedback\n",
    "\n",
    "  def check_eligibility(self):\n",
    "    if self.__experience > 3 and self.__average_feedback >= 4.5:\n",
    "      return True\n",
    "    elif self.__experience <= 3 and self.__average_feedback >= 4.0:\n",
    "      return True\n",
    "    return False\n",
    "\n",
    "  def allocate_course(self, technology):\n",
    "    if self.check_eligibility() and technology in self.__technology_skills:\n",
    "      return True\n",
    "    return False\n"
   ]
  },
  {
   "cell_type": "code",
   "execution_count": 10,
   "metadata": {},
   "outputs": [
    {
     "name": "stdout",
     "output_type": "stream",
     "text": [
      "Instructor 1 Eligible? True\n",
      "Can be allocated Python? True\n",
      "Can be allocated C++? False\n",
      "\n",
      "Instructor 2 Eligible? False\n",
      "Can be allocated JavaScript? False\n",
      "\n",
      "Instructor 3 Eligible? True\n",
      "Can be allocated C++? True\n"
     ]
    }
   ],
   "source": [
    "# Instructor 1\n",
    "inst1 = Instructor()\n",
    "inst1.set_name(\"Uzair\")\n",
    "inst1.set_technology_skills([\"Python\", \"Java\"])\n",
    "inst1.set_experience(4)\n",
    "inst1.set_average_feedback(4.6)\n",
    "\n",
    "print(\"Instructor 1 Eligible?\", inst1.check_eligibility())  # True\n",
    "print(\"Can be allocated Python?\", inst1.allocate_course(\"Python\"))  # True\n",
    "print(\"Can be allocated C++?\", inst1.allocate_course(\"C++\"))  # False\n",
    "\n",
    "# Instructor 2\n",
    "inst2 = Instructor()\n",
    "inst2.set_name(\"Sara\")\n",
    "inst2.set_technology_skills([\"HTML\", \"CSS\", \"JavaScript\"])\n",
    "inst2.set_experience(2)\n",
    "inst2.set_average_feedback(3.9)\n",
    "\n",
    "print(\"\\nInstructor 2 Eligible?\", inst2.check_eligibility())  # False\n",
    "print(\"Can be allocated JavaScript?\", inst2.allocate_course(\"JavaScript\"))  # False\n",
    "\n",
    "# Instructor 3\n",
    "inst3 = Instructor()\n",
    "inst3.set_name(\"Ali\")\n",
    "inst3.set_technology_skills([\"C++\", \"Python\"])\n",
    "inst3.set_experience(2)\n",
    "inst3.set_average_feedback(4.2)\n",
    "\n",
    "print(\"\\nInstructor 3 Eligible?\", inst3.check_eligibility())  # True\n",
    "print(\"Can be allocated C++?\", inst3.allocate_course(\"C++\"))  # True"
   ]
  }
 ],
 "metadata": {
  "colab": {
   "authorship_tag": "ABX9TyPqplq2h17oEv7HzLNvFezy",
   "provenance": []
  },
  "kernelspec": {
   "display_name": "Python 3",
   "name": "python3"
  },
  "language_info": {
   "codemirror_mode": {
    "name": "ipython",
    "version": 3
   },
   "file_extension": ".py",
   "mimetype": "text/x-python",
   "name": "python",
   "nbconvert_exporter": "python",
   "pygments_lexer": "ipython3",
   "version": "3.13.5"
  }
 },
 "nbformat": 4,
 "nbformat_minor": 0
}
