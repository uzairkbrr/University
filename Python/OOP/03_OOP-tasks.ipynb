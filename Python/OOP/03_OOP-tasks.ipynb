{
 "cells": [
  {
   "cell_type": "markdown",
   "metadata": {
    "id": "BCleRtX43caS"
   },
   "source": [
    "### `Problem-1:` Class inheritence\n",
    "\n",
    "Create a **Bus** child class that inherits from the Vehicle class. The default fare charge of any vehicle is seating capacity * 100. If Vehicle is Bus instance, we need to add an extra 10% on full fare as a maintenance charge. So total fare for bus instance will become the final amount = total fare + 10% of the total fare.\n",
    "\n",
    "Note: The bus seating capacity is 50. so the final fare amount should be 5500. You need to override the fare() method of a Vehicle class in Bus class."
   ]
  },
  {
   "cell_type": "code",
   "execution_count": null,
   "metadata": {
    "colab": {
     "base_uri": "https://localhost:8080/"
    },
    "executionInfo": {
     "elapsed": 16,
     "status": "ok",
     "timestamp": 1669263872656,
     "user": {
      "displayName": "CampusX Official",
      "userId": "12213120911843971958"
     },
     "user_tz": -330
    },
    "id": "6jVFCXKz3YZI",
    "outputId": "a8649209-08e2-4f60-a914-74a914dd697e"
   },
   "outputs": [
    {
     "name": "stdout",
     "output_type": "stream",
     "text": [
      "Total Bus fare is: 5500.0\n"
     ]
    }
   ],
   "source": [
    "# Write code here"
   ]
  },
  {
   "cell_type": "markdown",
   "metadata": {
    "id": "KBbGNTtQ47mJ"
   },
   "source": [
    "### `Problem-2:` Class Inheritence\n",
    "\n",
    "Create a Bus class that inherits from the Vehicle class. Give the capacity argument of *Bus.seating_capacity()* a default value of 50.\n",
    "\n",
    "Use the following code for your parent Vehicle class."
   ]
  },
  {
   "cell_type": "code",
   "execution_count": null,
   "metadata": {
    "id": "MwOnYE_14M-r"
   },
   "outputs": [],
   "source": []
  },
  {
   "cell_type": "code",
   "execution_count": null,
   "metadata": {
    "id": "Py5Gr0ip5OBB"
   },
   "outputs": [],
   "source": []
  },
  {
   "cell_type": "markdown",
   "metadata": {
    "id": "ExIxsv4y-oEd"
   },
   "source": [
    "### `Problem-3:` Write a program that has a class Point. Define another class Location which has two objects (Location & Destination) of class Point. Also define a function in Location that prints the reflection of Destination on the x axis."
   ]
  },
  {
   "cell_type": "code",
   "execution_count": null,
   "metadata": {
    "executionInfo": {
     "elapsed": 3,
     "status": "ok",
     "timestamp": 1669338391778,
     "user": {
      "displayName": "CampusX Official",
      "userId": "12213120911843971958"
     },
     "user_tz": -330
    },
    "id": "yT2QtzQp5VAB"
   },
   "outputs": [],
   "source": []
  },
  {
   "cell_type": "markdown",
   "metadata": {
    "id": "OcQhJvXVALgp"
   },
   "source": [
    "### `Problem-4:` Write a program that has an abstract class Polygon. Derive two classes Rectangle and Triamgle from Polygon and write methods to get the details of their dimensions and hence calculate the area."
   ]
  },
  {
   "cell_type": "code",
   "execution_count": null,
   "metadata": {
    "executionInfo": {
     "elapsed": 3,
     "status": "ok",
     "timestamp": 1669338391779,
     "user": {
      "displayName": "CampusX Official",
      "userId": "12213120911843971958"
     },
     "user_tz": -330
    },
    "id": "9IMrtdUH__eA"
   },
   "outputs": [],
   "source": []
  },
  {
   "cell_type": "markdown",
   "metadata": {
    "id": "sEsGEqOHCSWG"
   },
   "source": [
    "### `Problem-5:` Write a program with class Bill. The users have the option to pay the bill either by cheque or by cash. Use the inheritance to model this situation."
   ]
  },
  {
   "cell_type": "code",
   "execution_count": null,
   "metadata": {
    "executionInfo": {
     "elapsed": 3,
     "status": "ok",
     "timestamp": 1669338395049,
     "user": {
      "displayName": "CampusX Official",
      "userId": "12213120911843971958"
     },
     "user_tz": -330
    },
    "id": "l0WFyP2PB3nf"
   },
   "outputs": [],
   "source": []
  },
  {
   "cell_type": "markdown",
   "metadata": {
    "id": "v1M5Yh9ZZO0z"
   },
   "source": [
    "###`Q-6:` FlexibleDict\n",
    "As of now we are accessing values from dictionary with exact keys. Now we want to amend accessing values functionality. if a dict have key `1` (int) the even if we try to access values by giving `'1'` (1 as str) as key, we should get the same result and vice versa.\n",
    "\n",
    "Write a class `FlexibleDict` upon builtin `dict` class with above required functionality.\n",
    "\n",
    "Hint- `dict[key] => dict.__getitem__(key)` "
   ]
  },
  {
   "cell_type": "markdown",
   "metadata": {
    "id": "uajGeWegbfda"
   },
   "source": [
    "Ex.\n",
    "```\n",
    "fd = FlexibleDict()\n",
    "fd['a'] = 100\n",
    "print(fd['a']) # Like regular dict\n",
    "\n",
    "fd[5] = 500\n",
    "print(fd[5]) # Like regular dict\n",
    "\n",
    "fd[1] = 100\n",
    "print(fd['1']) # actual Key is int but still trying to access through str key.\n",
    "fd['1'] = 100\n",
    "print(fd[1])\n",
    "\n",
    "```\n",
    "`Output:`\n",
    "```\n",
    "100\n",
    "500\n",
    "100\n",
    "100\n",
    "\n",
    "```"
   ]
  },
  {
   "cell_type": "code",
   "execution_count": null,
   "metadata": {
    "executionInfo": {
     "elapsed": 3,
     "status": "ok",
     "timestamp": 1669338403111,
     "user": {
      "displayName": "CampusX Official",
      "userId": "12213120911843971958"
     },
     "user_tz": -330
    },
    "id": "OHLbOtCxZ2nw"
   },
   "outputs": [],
   "source": []
  }
 ],
 "metadata": {
  "colab": {
   "authorship_tag": "ABX9TyPAZlCtIpB6KP0XoDcbbR8D",
   "collapsed_sections": [
    "BCleRtX43caS",
    "KBbGNTtQ47mJ",
    "ExIxsv4y-oEd",
    "OcQhJvXVALgp",
    "sEsGEqOHCSWG",
    "v1M5Yh9ZZO0z"
   ],
   "provenance": [
    {
     "file_id": "17PuaTXlgedj88gsQOxMIhsC9gbSpSu24",
     "timestamp": 1669338322475
    }
   ]
  },
  "kernelspec": {
   "display_name": "Python 3",
   "name": "python3"
  },
  "language_info": {
   "name": "python"
  }
 },
 "nbformat": 4,
 "nbformat_minor": 0
}
