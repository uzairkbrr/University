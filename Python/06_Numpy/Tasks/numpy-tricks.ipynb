{
 "cells": [
  {
   "cell_type": "markdown",
   "metadata": {
    "id": "J88qfqQEk_sT"
   },
   "source": [
    "###`Q-1:` Create a random 3x4 matrix with value between 0-100. And perform below tasks\n",
    "\n",
    "    i. Sort this matrix. np.sort()\n",
    "    ii. Sort this matrix based on values in 2nd column.\n",
    "    iii. Sort this matrix based on max value in each row.\n",
    "    iv. Sort based on elements value.\n"
   ]
  },
  {
   "cell_type": "markdown",
   "metadata": {
    "id": "xpOwOdhqlE9R"
   },
   "source": [
    "See examples:\n",
    "```\n",
    "arr = \n",
    "    [[92 90 74]\n",
    "    [ 6 63 93]\n",
    "    [15 93 96]\n",
    "    [70 60 48]]\n",
    "```\n",
    "```\n",
    "i. np.sort\n",
    "[[74 90 92]\n",
    " [ 6 63 93]\n",
    " [15 93 96]\n",
    " [48 60 70]]\n",
    "\n",
    "ii. based on 2nd column\n",
    "[[70 60 48]\n",
    " [ 6 63 93]\n",
    " [92 90 74]\n",
    " [15 93 96]]\n",
    "\n",
    "iii. based on row max- ascending\n",
    "[[15 93 96]\n",
    " [ 6 63 93]\n",
    " [92 90 74]\n",
    " [70 60 48]]\n",
    "\n",
    "iv. based on elements value\n",
    "[[ 6 15 48]\n",
    " [60 63 70]\n",
    " [74 90 92]\n",
    " [93 93 96]]\n",
    "\n",
    "```"
   ]
  },
  {
   "cell_type": "code",
   "execution_count": 1,
   "metadata": {},
   "outputs": [],
   "source": [
    "import numpy as np"
   ]
  },
  {
   "cell_type": "code",
   "execution_count": 2,
   "metadata": {
    "id": "Auy-guUwlALv"
   },
   "outputs": [
    {
     "name": "stdout",
     "output_type": "stream",
     "text": [
      "Original array:\n",
      " [[44 47 64]\n",
      " [67 67  9]\n",
      " [83 21 36]\n",
      " [87 70 88]]\n",
      "\n",
      "(i) np.sort (row-wise):\n",
      " [[44 47 64]\n",
      " [ 9 67 67]\n",
      " [21 36 83]\n",
      " [70 87 88]]\n",
      "\n",
      "(ii) Sorted by 2nd column:\n",
      " [[83 21 36]\n",
      " [44 47 64]\n",
      " [67 67  9]\n",
      " [87 70 88]]\n",
      "\n",
      "(iii) Sorted by row-wise max value:\n",
      " [[44 47 64]\n",
      " [67 67  9]\n",
      " [83 21 36]\n",
      " [87 70 88]]\n",
      "\n",
      "(iv) Entire matrix sorted element-wise:\n",
      " [[ 9 21 36]\n",
      " [44 47 64]\n",
      " [67 67 70]\n",
      " [83 87 88]]\n"
     ]
    }
   ],
   "source": [
    "# code here\n",
    "\n",
    "# Step 1: Create a random 3x4 matrix with values from 0 to 100\n",
    "np.random.seed(0)  # for reproducibility\n",
    "arr = np.random.randint(0, 101, size=(4, 3))\n",
    "print(\"Original array:\\n\", arr)\n",
    "\n",
    "# i. Sort each row individually\n",
    "sorted_rows = np.sort(arr, axis=1)\n",
    "print(\"\\n(i) np.sort (row-wise):\\n\", sorted_rows)\n",
    "\n",
    "# ii. Sort based on values in 2nd column (index 1)\n",
    "sorted_by_2nd_col = arr[np.argsort(arr[:, 1])]\n",
    "print(\"\\n(ii) Sorted by 2nd column:\\n\", sorted_by_2nd_col)\n",
    "\n",
    "# iii. Sort rows based on max value in each row\n",
    "sorted_by_row_max = arr[np.argsort(np.max(arr, axis=1))]\n",
    "print(\"\\n(iii) Sorted by row-wise max value:\\n\", sorted_by_row_max)\n",
    "\n",
    "# iv. Sort all elements as a flat array and reshape back to original shape\n",
    "sorted_all = np.sort(arr, axis=None).reshape(arr.shape)\n",
    "print(\"\\n(iv) Entire matrix sorted element-wise:\\n\", sorted_all)"
   ]
  },
  {
   "cell_type": "markdown",
   "metadata": {
    "id": "Jx_I3gx9lBay"
   },
   "source": [
    "###`Q-2:` There is an array of marks of 5 students in 4 subjects. Further you are asked to perform below task.\n",
    "    i. Add marks every student of an extra subject in the same array.\n",
    "    ii. Add two new students marks in respective 5 subjects.(one subject added in above task)\n",
    "    iii. Add extra column with sum of all subjects(5-subjects) marks\n",
    "    iv. Sort the array(non-ascending order) on total marks column--one added in above task. Show top 2 rows.\n",
    "\n",
    "Note: Change dimension of arrays during concatenation or appending if required."
   ]
  },
  {
   "cell_type": "markdown",
   "metadata": {
    "id": "lXF-CE6ylNIw"
   },
   "source": [
    "Given Array-\n",
    "```\n",
    "marks = [[13, 10,  9, 33],\n",
    "       [63, 46, 90, 42],\n",
    "       [39, 76, 13, 29],\n",
    "       [82,  9, 29, 78],\n",
    "       [67, 61, 59, 36]]\n",
    "\n",
    "extra_subject = [41, 87, 72, 36, 92]\n",
    "#Two extra students record-\n",
    "rec1 = [77, 83, 98, 95, 89]\n",
    "rec2 = [92, 71, 52, 61, 53]\n",
    "```"
   ]
  },
  {
   "cell_type": "code",
   "execution_count": 8,
   "metadata": {
    "id": "7YKsWO2olMkq"
   },
   "outputs": [],
   "source": [
    "# code here\n",
    "# Given data\n",
    "marks = np.array([[13, 10,  9, 33],\n",
    "                  [63, 46, 90, 42],\n",
    "                  [39, 76, 13, 29],\n",
    "                  [82,  9, 29, 78],\n",
    "                  [67, 61, 59, 36]])\n",
    "\n",
    "extra_subject = np.array([41, 87, 72, 36, 92])\n",
    "rec1 = [77, 83, 98, 95, 89]\n",
    "rec2 = [92, 71, 52, 61, 53]"
   ]
  },
  {
   "cell_type": "code",
   "execution_count": 9,
   "metadata": {},
   "outputs": [
    {
     "name": "stdout",
     "output_type": "stream",
     "text": [
      "\n",
      "(i) Marks after adding extra subject:\n",
      " [[13 10  9 33 41]\n",
      " [63 46 90 42 87]\n",
      " [39 76 13 29 72]\n",
      " [82  9 29 78 36]\n",
      " [67 61 59 36 92]]\n"
     ]
    }
   ],
   "source": [
    "extra_subject = extra_subject.reshape(-1, 1)  # Make it a column\n",
    "marks = np.hstack((marks, extra_subject))\n",
    "print(\"\\n(i) Marks after adding extra subject:\\n\", marks)\n"
   ]
  },
  {
   "cell_type": "code",
   "execution_count": 19,
   "metadata": {},
   "outputs": [
    {
     "name": "stdout",
     "output_type": "stream",
     "text": [
      "\n",
      "(ii) Marks after adding 2 new students:\n",
      " [[13 10  9 33 41]\n",
      " [63 46 90 42 87]\n",
      " [39 76 13 29 72]\n",
      " [82  9 29 78 36]\n",
      " [67 61 59 36 92]\n",
      " [77 83 98 95 89]\n",
      " [92 71 52 61 53]\n",
      " [77 83 98 95 89]\n",
      " [92 71 52 61 53]]\n"
     ]
    }
   ],
   "source": [
    "new_students = np.array([rec1, rec2])  # Shape (2, 5)\n",
    "marks = np.vstack((marks, new_students))\n",
    "print(\"\\n(ii) Marks after adding 2 new students:\\n\", marks)\n"
   ]
  },
  {
   "cell_type": "code",
   "execution_count": 20,
   "metadata": {},
   "outputs": [
    {
     "name": "stdout",
     "output_type": "stream",
     "text": [
      "\n",
      "(iii) Marks with total column:\n",
      " [[ 13  10   9  33  41 106]\n",
      " [ 63  46  90  42  87 328]\n",
      " [ 39  76  13  29  72 229]\n",
      " [ 82   9  29  78  36 234]\n",
      " [ 67  61  59  36  92 315]\n",
      " [ 77  83  98  95  89 442]\n",
      " [ 92  71  52  61  53 329]\n",
      " [ 77  83  98  95  89 442]\n",
      " [ 92  71  52  61  53 329]]\n"
     ]
    }
   ],
   "source": [
    "total_marks = marks.sum(axis=1).reshape(-1, 1)\n",
    "marks = np.hstack((marks, total_marks))\n",
    "print(\"\\n(iii) Marks with total column:\\n\", marks)\n"
   ]
  },
  {
   "cell_type": "code",
   "execution_count": 21,
   "metadata": {},
   "outputs": [
    {
     "name": "stdout",
     "output_type": "stream",
     "text": [
      "\n",
      "(iv) Top 2 students based on total marks:\n",
      " [[ 77  83  98  95  89 442]\n",
      " [ 77  83  98  95  89 442]]\n"
     ]
    }
   ],
   "source": [
    "sorted_marks = marks[np.argsort(marks[:, -1])[::-1]]  # Sort descending\n",
    "top_2 = sorted_marks[:2]\n",
    "print(\"\\n(iv) Top 2 students based on total marks:\\n\", top_2)\n"
   ]
  },
  {
   "cell_type": "markdown",
   "metadata": {
    "id": "VmOyK_8klRqR"
   },
   "source": [
    "###`Q-3:` Find unique arrays from a 2D array column wise and row wise.\n",
    "```\n",
    "arr = np.array([[1,2,3,3,1,1],\n",
    "                [0,9,1,2,8,8],\n",
    "                [1,2,3,8,8,8],\n",
    "                [1,2,3,3,1,1]])\n",
    "```\n",
    "Expected Result-\n",
    "```\n",
    "Row Wise\n",
    "[[0 9 1 2 8 8]\n",
    " [1 2 3 3 1 1]\n",
    " [1 2 3 8 8 8]]\n",
    "\n",
    "Col Wise\n",
    "[[1 1 2 3 3]\n",
    " [0 8 9 1 2]\n",
    " [1 8 2 3 8]\n",
    " [1 1 2 3 3]]\n",
    "```"
   ]
  },
  {
   "cell_type": "code",
   "execution_count": 22,
   "metadata": {
    "id": "LJl10VQrlU5q"
   },
   "outputs": [],
   "source": [
    "# code here\n",
    "arr = np.array([[1, 2, 3, 3, 1, 1],\n",
    "                [0, 9, 1, 2, 8, 8],\n",
    "                [1, 2, 3, 8, 8, 8],\n",
    "                [1, 2, 3, 3, 1, 1]])"
   ]
  },
  {
   "cell_type": "code",
   "execution_count": 23,
   "metadata": {},
   "outputs": [
    {
     "name": "stdout",
     "output_type": "stream",
     "text": [
      "Row-wise Unique:\n",
      " [[0 9 1 2 8 8]\n",
      " [1 2 3 3 1 1]\n",
      " [1 2 3 8 8 8]]\n"
     ]
    }
   ],
   "source": [
    "unique_rows = np.unique(arr, axis=0)\n",
    "print(\"Row-wise Unique:\\n\", unique_rows)\n"
   ]
  },
  {
   "cell_type": "code",
   "execution_count": 24,
   "metadata": {},
   "outputs": [
    {
     "name": "stdout",
     "output_type": "stream",
     "text": [
      "\n",
      "Column-wise Unique:\n",
      " [[1 1 2 3 3]\n",
      " [0 8 9 1 2]\n",
      " [1 8 2 3 8]\n",
      " [1 1 2 3 3]]\n"
     ]
    }
   ],
   "source": [
    "unique_cols = np.unique(arr, axis=1)\n",
    "print(\"\\nColumn-wise Unique:\\n\", unique_cols)\n"
   ]
  },
  {
   "cell_type": "markdown",
   "metadata": {
    "id": "RaXwVkywlWY2"
   },
   "source": [
    "###`Q-4:` Flip given 2-D array along both axes at the same time."
   ]
  },
  {
   "cell_type": "code",
   "execution_count": 25,
   "metadata": {
    "id": "mN7-4G8Kleeq"
   },
   "outputs": [
    {
     "name": "stdout",
     "output_type": "stream",
     "text": [
      "Original Array:\n",
      " [[1 2 3]\n",
      " [4 5 6]\n",
      " [7 8 9]]\n",
      "\n",
      "Flipped Array (both axes):\n",
      " [[9 8 7]\n",
      " [6 5 4]\n",
      " [3 2 1]]\n"
     ]
    }
   ],
   "source": [
    "# code here\n",
    "# Sample 2D array\n",
    "arr = np.array([[1, 2, 3],\n",
    "                [4, 5, 6],\n",
    "                [7, 8, 9]])\n",
    "\n",
    "# Flip along both axes\n",
    "flipped = arr[::-1, ::-1]\n",
    "\n",
    "print(\"Original Array:\\n\", arr)\n",
    "print(\"\\nFlipped Array (both axes):\\n\", flipped)"
   ]
  },
  {
   "cell_type": "markdown",
   "metadata": {
    "id": "X0S7BUNTlfoq"
   },
   "source": [
    "### `Q-5:` Get row numbers of NumPy array having element larger than X.\n",
    "```\n",
    "arr = [[1,2,3,4,5], \n",
    "      [10,-3,30,4,5], \n",
    "      [3,2,5,-4,5], \n",
    "      [9,7,3,6,5]] \n",
    "\n",
    "X = 6\n",
    "```"
   ]
  },
  {
   "cell_type": "code",
   "execution_count": null,
   "metadata": {
    "id": "bi8jRmWhlkBU"
   },
   "outputs": [
    {
     "name": "stdout",
     "output_type": "stream",
     "text": [
      "Row indices with element > X: [1 3]\n"
     ]
    }
   ],
   "source": [
    "# code here\n",
    "# Given array and value of X\n",
    "arr = np.array([[1, 2, 3, 4, 5],\n",
    "                [10, -3, 30, 4, 5],\n",
    "                [3, 2, 5, -4, 5],\n",
    "                [9, 7, 3, 6, 5]])\n",
    "\n",
    "X = 6\n",
    "\n",
    "# Find row indices where any element in the row is greater than X\n",
    "row_indices = np.where(np.any(arr > X, axis=1))[0]\n",
    "\n",
    "print(\"Row indices with element > X:\", row_indices)"
   ]
  },
  {
   "cell_type": "markdown",
   "metadata": {
    "id": "DSCQMo4mlnDG"
   },
   "source": [
    "### `Q-6:` How to convert an array of arrays into a flat 1d array?\n"
   ]
  },
  {
   "cell_type": "code",
   "execution_count": 14,
   "metadata": {
    "id": "QZhSkUT2lsJW"
   },
   "outputs": [],
   "source": [
    "# These arrays are given.\n",
    "arr1 = np.arange(3)\n",
    "arr2 = np.arange(3,7)\n",
    "arr3 = np.arange(7,10)"
   ]
  },
  {
   "cell_type": "code",
   "execution_count": 27,
   "metadata": {
    "executionInfo": {
     "elapsed": 3,
     "status": "ok",
     "timestamp": 1670678917223,
     "user": {
      "displayName": "CampusX",
      "userId": "17274569631252575216"
     },
     "user_tz": -330
    },
    "id": "f42OXNrFls0I"
   },
   "outputs": [
    {
     "name": "stdout",
     "output_type": "stream",
     "text": [
      "Flat 1D array: [0 1 2 3 4 5 6 7 8 9]\n"
     ]
    }
   ],
   "source": [
    "# code here\n",
    "# Given arrays\n",
    "arr1 = np.arange(3)       # [0 1 2]\n",
    "arr2 = np.arange(3, 7)    # [3 4 5 6]\n",
    "arr3 = np.arange(7, 10)   # [7 8 9]\n",
    "\n",
    "# Combine and flatten\n",
    "flat_array = np.concatenate((arr1, arr2, arr3))\n",
    "\n",
    "print(\"Flat 1D array:\", flat_array)"
   ]
  },
  {
   "cell_type": "markdown",
   "metadata": {
    "id": "A1J4oOVCluqO"
   },
   "source": [
    "### `Q-7:` You are given a array. You have to find the minimum and maximum array element and remove that from the array.\n",
    "\n",
    "```python\n",
    "import numpy as np\n",
    "\n",
    "np.random.seed(400)\n",
    "arr = np.random.randint(100, 1000, 200).reshape((1, 200))\n",
    "```"
   ]
  },
  {
   "cell_type": "code",
   "execution_count": 28,
   "metadata": {
    "id": "c6kmgtUJlybZ"
   },
   "outputs": [
    {
     "name": "stdout",
     "output_type": "stream",
     "text": [
      "Minimum value removed: 103\n",
      "Maximum value removed: 998\n",
      "New array shape: (198,)\n",
      "Filtered array:\n",
      " [448 563 418 240 507 362 345 236 719 291 298 639 458 387 262 613 267 882\n",
      " 181 425 790 635 889 818 872 967 277 470 336 920 917 295 557 830 506 385\n",
      " 353 975 592 997 137 340 222 215 472 459 617 649 935 956 914 932 645 952\n",
      " 921 490 527 972 278 307 840 958 246 449 251 957 627 920 824 356 825 173\n",
      " 323 372 960 710 464 244 782 763 635 436 774 171 469 178 458 624 211 771\n",
      " 270 308 231 952 514 699 702 433 900 373 318 265 503 320 230 324 922 967\n",
      " 620 743 527 117 566 804 123 946 587 227 853 757 944 328 855 930 325 729\n",
      " 426 514 296 879 575 936 705 209 191 743 510 513 628 559 658 528 395 525\n",
      " 922 136 496 225 895 975 263 908 420 711 800 976 786 235 930 859 618 226\n",
      " 695 460 218 483 490 803 621 453 193 607 677 637 728 724 534 748 291 194\n",
      " 761 875 687 569 228 482 781 554 654 739 885 197 266 228 892 207 883 588]\n"
     ]
    }
   ],
   "source": [
    "# code here\n",
    "# Step 1: Generate the array\n",
    "np.random.seed(400)\n",
    "arr = np.random.randint(100, 1000, 200).reshape((1, 200))\n",
    "\n",
    "# Step 2: Flatten the array to 1D\n",
    "arr_flat = arr.flatten()\n",
    "\n",
    "# Step 3: Find min and max\n",
    "min_val = arr_flat.min()\n",
    "max_val = arr_flat.max()\n",
    "\n",
    "# Step 4: Remove first occurrence of min and max\n",
    "arr_filtered = arr_flat[arr_flat != min_val]  # remove all min\n",
    "arr_filtered = arr_filtered[arr_filtered != max_val]  # remove all max\n",
    "\n",
    "# Optional: To remove only the first occurrence of each\n",
    "# arr_filtered = arr_flat.tolist()\n",
    "# arr_filtered.remove(min_val)\n",
    "# arr_filtered.remove(max_val)\n",
    "# arr_filtered = np.array(arr_filtered)\n",
    "\n",
    "# Final Result\n",
    "print(\"Minimum value removed:\", min_val)\n",
    "print(\"Maximum value removed:\", max_val)\n",
    "print(\"New array shape:\", arr_filtered.shape)\n",
    "print(\"Filtered array:\\n\", arr_filtered)"
   ]
  },
  {
   "cell_type": "markdown",
   "metadata": {
    "id": "0dHN1sdnl0Jy"
   },
   "source": [
    "### `Q-8:` You are given an arrays. You have to limit this array's elements between 100 to 200. $arr ∈ [100, 700]$. So replace those values accordingly with the minimum and maximum value. Then sort the array and perform the cumulative sum of that array."
   ]
  },
  {
   "cell_type": "code",
   "execution_count": 29,
   "metadata": {
    "id": "a3YF_E-Hlza7"
   },
   "outputs": [
    {
     "name": "stdout",
     "output_type": "stream",
     "text": [
      "Original Array:\n",
      " [659 292 459 109 377 699 170 572 700 496 414 586 651 187 274 700 637 172\n",
      " 215 531 548 199 277 247 523 388 365 644 643 344 251 610 559 283 128 228\n",
      " 228 153 650 588 373 435 488 142 542 643 357 421 157 391]\n",
      "\n",
      "Clipped Array (100 to 200):\n",
      " [200 200 200 109 200 200 170 200 200 200 200 200 200 187 200 200 200 172\n",
      " 200 200 200 199 200 200 200 200 200 200 200 200 200 200 200 200 128 200\n",
      " 200 153 200 200 200 200 200 142 200 200 200 200 157 200]\n",
      "\n",
      "Sorted Array:\n",
      " [109 128 142 153 157 170 172 187 199 200 200 200 200 200 200 200 200 200\n",
      " 200 200 200 200 200 200 200 200 200 200 200 200 200 200 200 200 200 200\n",
      " 200 200 200 200 200 200 200 200 200 200 200 200 200 200]\n",
      "\n",
      "Cumulative Sum:\n",
      " [ 109  237  379  532  689  859 1031 1218 1417 1617 1817 2017 2217 2417\n",
      " 2617 2817 3017 3217 3417 3617 3817 4017 4217 4417 4617 4817 5017 5217\n",
      " 5417 5617 5817 6017 6217 6417 6617 6817 7017 7217 7417 7617 7817 8017\n",
      " 8217 8417 8617 8817 9017 9217 9417 9617]\n"
     ]
    }
   ],
   "source": [
    "# code here\n",
    "\n",
    "# Generate the array\n",
    "np.random.seed(0)\n",
    "arr = np.random.randint(100, 701, 50)\n",
    "\n",
    "# Step 1: Clip the array to keep elements between 100 and 200\n",
    "clipped_arr = np.clip(arr, 100, 200)\n",
    "\n",
    "# Step 2: Sort the array\n",
    "sorted_arr = np.sort(clipped_arr)\n",
    "\n",
    "# Step 3: Cumulative sum\n",
    "cumsum_arr = np.cumsum(sorted_arr)\n",
    "\n",
    "# Display results\n",
    "print(\"Original Array:\\n\", arr)\n",
    "print(\"\\nClipped Array (100 to 200):\\n\", clipped_arr)\n",
    "print(\"\\nSorted Array:\\n\", sorted_arr)\n",
    "print(\"\\nCumulative Sum:\\n\", cumsum_arr)"
   ]
  },
  {
   "cell_type": "markdown",
   "metadata": {
    "id": "cXj90Susl4-I"
   },
   "source": [
    "### `Q-9:` You are given a array ($arr ∈ [0, 1]$). First you have round off the elements upto 3 decimal places and compare that\n",
    "- 0th percentile == minimum value of the array\n",
    "- 100th percentile == maximum value of the array\n",
    "- also find the difference betwen 51th percenile and 50th percentile values"
   ]
  },
  {
   "cell_type": "code",
   "execution_count": 30,
   "metadata": {
    "id": "SgBEHodgl7Lo"
   },
   "outputs": [
    {
     "name": "stdout",
     "output_type": "stream",
     "text": [
      "Array:\n",
      " [0.375 0.951 0.732 0.599 0.156 0.156 0.058 0.866 0.601 0.708 0.021 0.97\n",
      " 0.832 0.212 0.182 0.183 0.304 0.525 0.432 0.291 0.612 0.139 0.292 0.366\n",
      " 0.456 0.785 0.2   0.514 0.592 0.046 0.608 0.171 0.065 0.949 0.966 0.808\n",
      " 0.305 0.098 0.684 0.44  0.122 0.495 0.034 0.909 0.259 0.663 0.312 0.52\n",
      " 0.547 0.185 0.97  0.775 0.939 0.895 0.598 0.922 0.088 0.196 0.045 0.325\n",
      " 0.389 0.271 0.829 0.357 0.281 0.543 0.141 0.802 0.075 0.987 0.772 0.199\n",
      " 0.006 0.815 0.707 0.729 0.771 0.074 0.358 0.116 0.863 0.623 0.331 0.064\n",
      " 0.311 0.325 0.73  0.638 0.887 0.472 0.12  0.713 0.761 0.561 0.771 0.494\n",
      " 0.523 0.428 0.025 0.108]\n",
      "\n",
      "0th Percentile: 0.006 == Min: 0.006\n",
      "100th Percentile: 0.987 == Max: 0.987\n",
      "\n",
      "Difference between 51st and 50th percentile: 0.01878\n"
     ]
    }
   ],
   "source": [
    "# code here\n",
    "\n",
    "# Step 1: Generate array with values in [0, 1]\n",
    "np.random.seed(42)\n",
    "arr = np.random.rand(100)\n",
    "\n",
    "# Step 2: Round elements to 3 decimal places\n",
    "arr = np.round(arr, 3)\n",
    "\n",
    "# Step 3: Compare percentiles\n",
    "p0 = np.percentile(arr, 0)\n",
    "p100 = np.percentile(arr, 100)\n",
    "min_val = arr.min()\n",
    "max_val = arr.max()\n",
    "\n",
    "# Step 4: Difference between 51st and 50th percentile\n",
    "p50 = np.percentile(arr, 50)\n",
    "p51 = np.percentile(arr, 51)\n",
    "difference = p51 - p50\n",
    "\n",
    "# Print results\n",
    "print(\"Array:\\n\", arr)\n",
    "print(\"\\n0th Percentile:\", p0, \"== Min:\", min_val)\n",
    "print(\"100th Percentile:\", p100, \"== Max:\", max_val)\n",
    "print(\"\\nDifference between 51st and 50th percentile:\", round(difference, 6))\n"
   ]
  }
 ],
 "metadata": {
  "colab": {
   "authorship_tag": "ABX9TyPwJfA6va+j3byz7ZQ2F93O",
   "provenance": []
  },
  "kernelspec": {
   "display_name": "Python 3",
   "name": "python3"
  },
  "language_info": {
   "codemirror_mode": {
    "name": "ipython",
    "version": 3
   },
   "file_extension": ".py",
   "mimetype": "text/x-python",
   "name": "python",
   "nbconvert_exporter": "python",
   "pygments_lexer": "ipython3",
   "version": "3.13.5"
  }
 },
 "nbformat": 4,
 "nbformat_minor": 0
}
