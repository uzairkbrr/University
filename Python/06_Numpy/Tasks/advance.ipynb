{
 "cells": [
  {
   "cell_type": "markdown",
   "metadata": {
    "id": "1uamk9vAix0o"
   },
   "source": [
    "###`Q-1:` Find the nearest element in the array to a given integer.\n",
    "```\n",
    "Ex:- \n",
    "a=23 and array - [10 17 24 31 38 45 52 59].\n",
    "Nearest element is 24\n",
    "```\n",
    "Hint: Read about this function `argmin()`"
   ]
  },
  {
   "cell_type": "code",
   "execution_count": 3,
   "metadata": {},
   "outputs": [],
   "source": [
    "import numpy as np"
   ]
  },
  {
   "cell_type": "code",
   "execution_count": 4,
   "metadata": {
    "id": "ddkpbpR6iySZ"
   },
   "outputs": [
    {
     "name": "stdout",
     "output_type": "stream",
     "text": [
      "Nearest element is 24\n"
     ]
    }
   ],
   "source": [
    "# code here\n",
    "# Given number\n",
    "a = 23\n",
    "\n",
    "# Given array\n",
    "arr = np.array([10, 17, 24, 31, 38, 45, 52, 59])\n",
    "\n",
    "# Find the index of the nearest value\n",
    "index = np.abs(arr - a).argmin()\n",
    "\n",
    "# Get the nearest value\n",
    "nearest = arr[index]\n",
    "\n",
    "print(\"Nearest element is\", nearest)"
   ]
  },
  {
   "cell_type": "markdown",
   "metadata": {
    "id": "Y1QkHyPpizyp"
   },
   "source": [
    "###`Q-2:` Replace multiples of 3 or 5 as 0 in the given array.\n",
    "```\n",
    "arr=[1 2 3 4 5 6 7 9]\n",
    "\n",
    "result-> [1 2 0 4 0 0 7 0]\n",
    "```"
   ]
  },
  {
   "cell_type": "code",
   "execution_count": 5,
   "metadata": {
    "id": "JjtxMlhWi25l"
   },
   "outputs": [
    {
     "name": "stdout",
     "output_type": "stream",
     "text": [
      "Result -> [1 2 0 4 0 0 7 0]\n"
     ]
    }
   ],
   "source": [
    "# code here\n",
    "arr = np.array([1, 2, 3, 4, 5, 6, 7, 9])\n",
    "\n",
    "# Replace multiples of 3 or 5 with 0\n",
    "arr[(arr % 3 == 0) | (arr % 5 == 0)] = 0\n",
    "\n",
    "print(\"Result ->\", arr)"
   ]
  },
  {
   "cell_type": "markdown",
   "metadata": {
    "id": "Pi_dZSwTi4OI"
   },
   "source": [
    "###`Q-3:` Use Fancy Indexing.\n",
    "1. Double the array elements at  given indexes\n",
    "```\n",
    "arr = np.arrange(10)\n",
    "indexes = [0,3,4,9]\n",
    "```\n",
    "Result -> `[ 0  1  2  6  8  5  6  7  8 18]`\n",
    "\n",
    "2. Using a given array make a different array as in below example\n",
    "```\n",
    "array = [1,2,3]\n",
    "result array -> [1 1 1 2 2 2 3 3 3]\n",
    "```\n",
    "* Internal-repetion should be as length of the array.\n",
    "\n",
    "Hint: \n",
    "```\n",
    "if a is an array\n",
    "a = [2,4]\n",
    "a[[1,1,0,1]] will result in-> [4 4 2 4]\n",
    "```"
   ]
  },
  {
   "cell_type": "code",
   "execution_count": 6,
   "metadata": {
    "id": "SHYuyuovi66N"
   },
   "outputs": [
    {
     "name": "stdout",
     "output_type": "stream",
     "text": [
      "Result -> [ 0  1  2  6  8  5  6  7  8 18]\n"
     ]
    }
   ],
   "source": [
    "# code here\n",
    "arr = np.arange(10)  # not np.arrange\n",
    "indexes = [0, 3, 4, 9]\n",
    "\n",
    "# Double the values at these indexes using fancy indexing\n",
    "arr[indexes] = arr[indexes] * 2\n",
    "\n",
    "print(\"Result ->\", arr)"
   ]
  },
  {
   "cell_type": "code",
   "execution_count": 7,
   "metadata": {},
   "outputs": [
    {
     "name": "stdout",
     "output_type": "stream",
     "text": [
      "Result array -> [1 1 1 2 2 2 3 3 3]\n"
     ]
    }
   ],
   "source": [
    "array = np.array([1, 2, 3])\n",
    "\n",
    "# Repeat each element len(array) times\n",
    "result = np.repeat(array, len(array))\n",
    "\n",
    "print(\"Result array ->\", result)"
   ]
  },
  {
   "cell_type": "markdown",
   "metadata": {
    "id": "UDehG0tFi89i"
   },
   "source": [
    "###`Q-4:` Your are given an array which is havig some nan value. You job is to fill those nan values with most common element in the array.\n",
    "```\n",
    "arr=np.array([[1,2,np.nan],[4,2,6],[np.nan,np.nan,5]])\n",
    "\n",
    "```"
   ]
  },
  {
   "cell_type": "code",
   "execution_count": 8,
   "metadata": {
    "id": "YH13A6w9jEyu"
   },
   "outputs": [
    {
     "name": "stdout",
     "output_type": "stream",
     "text": [
      "Filled array:\n",
      " [[1. 2. 2.]\n",
      " [4. 2. 6.]\n",
      " [2. 2. 5.]]\n"
     ]
    }
   ],
   "source": [
    "# code here\n",
    "from scipy import stats\n",
    "\n",
    "# Given array with NaN values\n",
    "arr = np.array([[1, 2, np.nan],\n",
    "                [4, 2, 6],\n",
    "                [np.nan, np.nan, 5]])\n",
    "\n",
    "# Flatten the array and remove NaNs for mode calculation\n",
    "flattened = arr[~np.isnan(arr)]\n",
    "\n",
    "# Find the mode (most frequent value)\n",
    "mode_val = stats.mode(flattened, keepdims=False).mode\n",
    "\n",
    "# Replace NaNs with the mode\n",
    "arr[np.isnan(arr)] = mode_val\n",
    "\n",
    "print(\"Filled array:\\n\", arr)"
   ]
  },
  {
   "cell_type": "markdown",
   "metadata": {
    "id": "Tk2JnioUjJ_t"
   },
   "source": [
    "### `Q-5:` Write a NumPy program \n",
    "\n",
    "- to find the missing data in a given array. Return a boolean matrix.\n",
    "- also try to fill those missing values with 0. For that, you can use `np.nan_to_num(a)`\n",
    "\n",
    "```python\n",
    "import numpy as np\n",
    "\n",
    "np.array([[3, 2, np.nan, 1],\n",
    "          [10, 12, 10, 9],\n",
    "          [5, np.nan, 1, np.nan]])\n",
    "```"
   ]
  },
  {
   "cell_type": "code",
   "execution_count": 10,
   "metadata": {
    "id": "nPEBTQJ_jJZe"
   },
   "outputs": [
    {
     "name": "stdout",
     "output_type": "stream",
     "text": [
      "Missing data (NaN positions):\n",
      " [[False False  True False]\n",
      " [False False False False]\n",
      " [False  True False  True]]\n",
      "\n",
      "Array after filling NaNs with 0:\n",
      " [[ 3.  2.  0.  1.]\n",
      " [10. 12. 10.  9.]\n",
      " [ 5.  0.  1.  0.]]\n"
     ]
    }
   ],
   "source": [
    "# code here\n",
    "\n",
    "# Given array with missing (NaN) values\n",
    "a = np.array([[3, 2, np.nan, 1],\n",
    "              [10, 12, 10, 9],\n",
    "              [5, np.nan, 1, np.nan]])\n",
    "\n",
    "# 1. Find missing data (returns a boolean matrix)\n",
    "missing_data = np.isnan(a)\n",
    "print(\"Missing data (NaN positions):\\n\", missing_data)\n",
    "\n",
    "# 2. Fill missing values with 0\n",
    "filled_array = np.nan_to_num(a)\n",
    "print(\"\\nArray after filling NaNs with 0:\\n\", filled_array)"
   ]
  },
  {
   "cell_type": "markdown",
   "metadata": {
    "id": "FFUnZtG7jNBH"
   },
   "source": [
    "###`Q-6:` Given two arrays, X and Y, construct the Cauchy matrix C.\n",
    "`Cij =1/(xi - yj)`\n",
    "\n",
    "http://en.wikipedia.org/wiki/Cauchy_matrix\n",
    "```\n",
    "x = numpy.array([1,2,3,4]).reshape((-1, 1)\n",
    "y = numpy.array([5,6,7])\n",
    "```"
   ]
  },
  {
   "cell_type": "code",
   "execution_count": 11,
   "metadata": {
    "id": "pQXHa38TjVEh"
   },
   "outputs": [
    {
     "name": "stdout",
     "output_type": "stream",
     "text": [
      "Cauchy Matrix:\n",
      " [[-0.25       -0.2        -0.16666667]\n",
      " [-0.33333333 -0.25       -0.2       ]\n",
      " [-0.5        -0.33333333 -0.25      ]\n",
      " [-1.         -0.5        -0.33333333]]\n"
     ]
    }
   ],
   "source": [
    "# code here\n",
    "# Given arrays\n",
    "x = np.array([1, 2, 3, 4]).reshape(-1, 1)  # Shape (4,1)\n",
    "y = np.array([5, 6, 7])                   # Shape (3,)\n",
    "\n",
    "# Construct the Cauchy matrix\n",
    "C = 1 / (x - y)\n",
    "\n",
    "print(\"Cauchy Matrix:\\n\", C)"
   ]
  },
  {
   "cell_type": "markdown",
   "metadata": {
    "id": "EbkHZCF1jWNc"
   },
   "source": [
    "###`Q-7:` Plot this below equation.\n",
    "\n",
    "$$\\large y = \\frac{e^x - e^{-x}}{e^x + e^{-x}}$$\n",
    "\n",
    "**Note: This equation is called tanh activation function. In deep learning, many times this function is used. If you find some difference between the sigmoid function and this tanh function, note that to your notebook.**"
   ]
  },
  {
   "cell_type": "code",
   "execution_count": 12,
   "metadata": {
    "id": "n6OcN--FjbLC"
   },
   "outputs": [
    {
     "name": "stdout",
     "output_type": "stream",
     "text": [
      "Cauchy Matrix:\n",
      " [[-0.25       -0.2        -0.16666667]\n",
      " [-0.33333333 -0.25       -0.2       ]\n",
      " [-0.5        -0.33333333 -0.25      ]\n",
      " [-1.         -0.5        -0.33333333]]\n"
     ]
    }
   ],
   "source": [
    "# code here\n",
    "# Given arrays\n",
    "x = np.array([1, 2, 3, 4]).reshape(-1, 1)  # Reshape to column vector (4x1)\n",
    "y = np.array([5, 6, 7])                   # Row vector (3,)\n",
    "\n",
    "# Construct the Cauchy matrix using broadcasting\n",
    "C = 1 / (x - y)\n",
    "\n",
    "# Display the result\n",
    "print(\"Cauchy Matrix:\\n\", C)"
   ]
  },
  {
   "cell_type": "markdown",
   "metadata": {
    "id": "xujS-pu4jciH"
   },
   "source": [
    "### `Q-8:` Plot the below equation.\n",
    "\n",
    "$$\\large y = \\sqrt{36 - (x - 4)^2} + 2$$\n",
    "\n",
    "The range of x should be between -2 to 10. $x ∈ [-2, 10]$\n",
    "\n"
   ]
  },
  {
   "cell_type": "code",
   "execution_count": 18,
   "metadata": {
    "id": "7CagwKP_jhIQ"
   },
   "outputs": [
    {
     "data": {
      "image/png": "[encoded data removed]",
      "text/plain": [
       "<Figure size 640x480 with 1 Axes>"
      ]
     },
     "metadata": {},
     "output_type": "display_data"
    }
   ],
   "source": [
    "# code here\n",
    "import matplotlib.pyplot as plt\n",
    "\n",
    "# Define x range\n",
    "x = np.linspace(-2, 10, 500)\n",
    "\n",
    "# Compute y values with domain safety\n",
    "inside_sqrt = 36 - (x - 4) ** 2\n",
    "y = np.sqrt(np.clip(inside_sqrt, 0, None)) + 2  # Avoid complex values\n",
    "\n",
    "# Plot\n",
    "plt.plot(x, y, color='blue', label=r'$y = \\sqrt{36 - (x - 4)^2} + 2$')\n",
    "plt.grid(True)\n",
    "plt.legend()\n",
    "plt.show()"
   ]
  },
  {
   "cell_type": "markdown",
   "metadata": {
    "id": "Jf14pxCfjiX1"
   },
   "source": [
    "### `Q-9:` Write a program implement Boradcasting Rule to check if two array can be added or not.\n",
    "Given tuples of shapes.\n",
    "```\n",
    "shape of a- (3,2,2)\n",
    "shape of b- (2,2)\n",
    "\n",
    "check_broadcast(a, b) -> return Boolean (True if can broadcasted, False other wise.)\n",
    "```"
   ]
  },
  {
   "cell_type": "code",
   "execution_count": 20,
   "metadata": {
    "id": "qSKGG0Yajlc8"
   },
   "outputs": [],
   "source": [
    "# code here\n",
    "def check_broadcast(shape_a, shape_b):\n",
    "  # Reverse the shapes to align from the end\n",
    "  a = shape_a[::-1]\n",
    "  b = shape_b[::-1]\n",
    "\n",
    "  # Check each dimension\n",
    "  for i in range(max(len(a), len(b))):\n",
    "    dim_a = a[i] if i < len(a) else 1\n",
    "    dim_b = b[i] if i < len(b) else 1\n",
    "\n",
    "    if dim_a != dim_b and dim_a != 1 and dim_b != 1:\n",
    "      return False\n",
    "  return True"
   ]
  },
  {
   "cell_type": "code",
   "execution_count": 21,
   "metadata": {},
   "outputs": [
    {
     "name": "stdout",
     "output_type": "stream",
     "text": [
      "True\n",
      "False\n",
      "True\n"
     ]
    }
   ],
   "source": [
    "print(check_broadcast((3, 2, 2), (2, 2)))    # True\n",
    "print(check_broadcast((3, 2, 2), (3, 2)))    # False\n",
    "print(check_broadcast((5, 1, 4), (1, 3, 4))) # True\n"
   ]
  }
 ],
 "metadata": {
  "colab": {
   "authorship_tag": "ABX9TyMMTtApoT3g2PMWmsPg7A/n",
   "provenance": []
  },
  "kernelspec": {
   "display_name": "Python 3",
   "name": "python3"
  },
  "language_info": {
   "codemirror_mode": {
    "name": "ipython",
    "version": 3
   },
   "file_extension": ".py",
   "mimetype": "text/x-python",
   "name": "python",
   "nbconvert_exporter": "python",
   "pygments_lexer": "ipython3",
   "version": "3.13.5"
  }
 },
 "nbformat": 4,
 "nbformat_minor": 0
}
