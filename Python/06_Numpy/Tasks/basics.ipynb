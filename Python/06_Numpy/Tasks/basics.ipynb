{
 "cells": [
  {
   "cell_type": "markdown",
   "metadata": {
    "id": "6WdKdPGx-tnY"
   },
   "source": [
    "**Note: In Data Science googling is a very important skill. If you find some difficulties to solve the problem, google it and try to find some clues to solve.**"
   ]
  },
  {
   "cell_type": "code",
   "execution_count": 2,
   "metadata": {
    "id": "-J4F1ysN4mLk"
   },
   "outputs": [],
   "source": [
    "import numpy as np"
   ]
  },
  {
   "cell_type": "markdown",
   "metadata": {
    "id": "a_K8IH-C6HDK"
   },
   "source": [
    "###`Q-1` Create a null vector of size 10 but the fifth value which is 1.\n",
    "\n"
   ]
  },
  {
   "cell_type": "code",
   "execution_count": 3,
   "metadata": {
    "id": "sTF03KsZ6QUI"
   },
   "outputs": [
    {
     "data": {
      "text/plain": [
       "array([0., 0., 0., 0., 1., 0., 0., 0., 0., 0.])"
      ]
     },
     "execution_count": 3,
     "metadata": {},
     "output_type": "execute_result"
    }
   ],
   "source": [
    "#Code here\n",
    "x = np.zeros(10)\n",
    "x[4] = 1\n",
    "x"
   ]
  },
  {
   "cell_type": "markdown",
   "metadata": {
    "id": "TEiG25rS6S1i"
   },
   "source": [
    "###`Q-2` Ask user to input two numbers a, b. Write a program to generate a random array of shape (a, b) and print the array and avg of the array."
   ]
  },
  {
   "cell_type": "code",
   "execution_count": 8,
   "metadata": {
    "id": "ihwn4oOH6Vh7"
   },
   "outputs": [
    {
     "name": "stdout",
     "output_type": "stream",
     "text": [
      "Generated Array:\n",
      "[[0.28908888 0.57767464 0.70040434]\n",
      " [0.55452883 0.11954578 0.44734503]\n",
      " [0.93935094 0.66601615 0.27471148]]\n",
      "Average of the array: 0.51\n"
     ]
    }
   ],
   "source": [
    "#Code here\n",
    "a = int(input(\"Enter number of rows (a): \"))\n",
    "b = int(input(\"Enter number of columns (b): \"))\n",
    "\n",
    "arr = np.random.rand(a, b)\n",
    "\n",
    "print(\"Generated Array:\")\n",
    "print(arr)\n",
    "\n",
    "average = np.mean(arr)\n",
    "print(\"Average of the array:\", round(average,2))\n"
   ]
  },
  {
   "cell_type": "markdown",
   "metadata": {
    "id": "2iEeybS06ZSq"
   },
   "source": [
    "###`Q-3`Write a function to create a 2d array with 1 on the border and 0 inside. Take 2-D array shape as (a,b) as parameter to function.\n",
    "\n",
    "Eg.-\n",
    "```\n",
    "[[1,1,1,1],\n",
    "[1,0,0,1],\n",
    "[1,0,0,1],\n",
    "[1,1,1,1]]\n",
    "```"
   ]
  },
  {
   "cell_type": "code",
   "execution_count": 9,
   "metadata": {
    "id": "gEKndkDU6ZSs"
   },
   "outputs": [
    {
     "name": "stdout",
     "output_type": "stream",
     "text": [
      "2D Array with 1 on border and 0 inside:\n",
      "[[1 1]\n",
      " [1 1]]\n"
     ]
    }
   ],
   "source": [
    "#Code here\n",
    "def border_array(a, b):\n",
    "  arr = np.ones((a, b), dtype=int)\n",
    "\n",
    "  arr[1:-1, 1:-1] = 0\n",
    "\n",
    "  return arr\n",
    "\n",
    "a = int(input(\"Enter number of rows: \"))\n",
    "b = int(input(\"Enter number of columns: \"))\n",
    "\n",
    "result = border_array(a, b)\n",
    "print(\"2D Array with 1 on border and 0 inside:\")\n",
    "print(result)"
   ]
  },
  {
   "cell_type": "markdown",
   "metadata": {
    "id": "QRJicQ8j6ZlE"
   },
   "source": [
    "###`Q-4` Create a vector of size 10 with values ranging from 0 to 1, both excluded.\n"
   ]
  },
  {
   "cell_type": "code",
   "execution_count": 10,
   "metadata": {
    "id": "eC4XLhDq6ZlF"
   },
   "outputs": [
    {
     "name": "stdout",
     "output_type": "stream",
     "text": [
      "Vector with values between 0 and 1 (excluded):\n",
      "[0.09090909 0.18181818 0.27272727 0.36363636 0.45454545 0.54545455\n",
      " 0.63636364 0.72727273 0.81818182 0.90909091]\n"
     ]
    }
   ],
   "source": [
    "#Code here\n",
    "vector = np.linspace(0, 1, 12)[1:-1]\n",
    "\n",
    "print(\"Vector with values between 0 and 1 (excluded):\")\n",
    "print(vector)"
   ]
  },
  {
   "cell_type": "markdown",
   "metadata": {
    "id": "vb4jK4yQ6Zs2"
   },
   "source": [
    "###`Q-5` Can you create a identity mattrix of shape (3,4). If yes write code for it."
   ]
  },
  {
   "cell_type": "code",
   "execution_count": 12,
   "metadata": {
    "id": "DTV_AbMS6Zs4"
   },
   "outputs": [
    {
     "data": {
      "text/plain": [
       "array([[1, 0, 0, 0],\n",
       "       [0, 1, 0, 0],\n",
       "       [0, 0, 1, 0]])"
      ]
     },
     "execution_count": 12,
     "metadata": {},
     "output_type": "execute_result"
    }
   ],
   "source": [
    "#Code here\n",
    "identity_matrix = np.eye(3, 4, dtype=int)\n",
    "identity_matrix"
   ]
  },
  {
   "cell_type": "markdown",
   "metadata": {
    "id": "QtjAFm5PEntK"
   },
   "source": [
    "###`Q-6:` Create a 5x5 matrix with row values ranging from 0 to 4."
   ]
  },
  {
   "cell_type": "code",
   "execution_count": 13,
   "metadata": {
    "id": "z2WGxRjvEuRS"
   },
   "outputs": [
    {
     "name": "stdout",
     "output_type": "stream",
     "text": [
      "5x5 Matrix with row values from 0 to 4:\n",
      "[[0 1 2 3 4]\n",
      " [0 1 2 3 4]\n",
      " [0 1 2 3 4]\n",
      " [0 1 2 3 4]\n",
      " [0 1 2 3 4]]\n"
     ]
    }
   ],
   "source": [
    "#Code here\n",
    "matrix = np.tile(np.arange(5), (5, 1))\n",
    "\n",
    "print(\"5x5 Matrix with row values from 0 to 4:\")\n",
    "print(matrix)"
   ]
  },
  {
   "cell_type": "markdown",
   "metadata": {
    "id": "KPpvxKjVHnyx"
   },
   "source": [
    "###`Q-7:`  Consider a random integer (in range 1 to 100) vector with shape `(10,2)` representing coordinates, and coordinates of a point as array is given. Create an array of distance of each point in the random vectros from the given point. Distance array should be interger type.\n",
    "\n",
    "```\n",
    "point = np.array([2,3])\n",
    "```\n"
   ]
  },
  {
   "cell_type": "code",
   "execution_count": 14,
   "metadata": {
    "id": "X7KGnWLNIM6f"
   },
   "outputs": [
    {
     "name": "stdout",
     "output_type": "stream",
     "text": [
      "Coordinates:\n",
      " [[96 63]\n",
      " [92 91]\n",
      " [16 86]\n",
      " [92  5]\n",
      " [86 96]\n",
      " [78 69]\n",
      " [16 60]\n",
      " [ 8 29]\n",
      " [42 85]\n",
      " [11 20]]\n",
      "\n",
      "Distances from point [2, 3]:\n",
      " [111 125  84  90 125 100  58  26  91  19]\n"
     ]
    }
   ],
   "source": [
    "#code here\n",
    "point = np.array([2, 3])\n",
    "\n",
    "coords = np.random.randint(1, 101, size=(10, 2))\n",
    "\n",
    "distances = np.linalg.norm(coords - point, axis=1)\n",
    "\n",
    "distances_int = distances.astype(int)\n",
    "\n",
    "print(\"Coordinates:\\n\", coords)\n",
    "print(\"\\nDistances from point [2, 3]:\\n\", distances_int)"
   ]
  },
  {
   "cell_type": "markdown",
   "metadata": {
    "id": "tajOFJlCDwTr"
   },
   "source": [
    "###`Q-8:` Consider a (6,7,8) shape array, what is the index (x,y,z) of the 100th element?"
   ]
  },
  {
   "cell_type": "code",
   "execution_count": 3,
   "metadata": {
    "id": "qH4oxvs0D3Ra"
   },
   "outputs": [
    {
     "name": "stdout",
     "output_type": "stream",
     "text": [
      "Index of the 100th element: (np.int64(1), np.int64(5), np.int64(3))\n"
     ]
    }
   ],
   "source": [
    "#Code here\n",
    "shape = (6, 7, 8)\n",
    "\n",
    "# Index of the 100th element (0-based, so 99)\n",
    "index = np.unravel_index(99, shape)\n",
    "\n",
    "print(\"Index of the 100th element:\", index)"
   ]
  },
  {
   "cell_type": "markdown",
   "metadata": {
    "id": "9LxBAbT2Pw33"
   },
   "source": [
    "### `Q-9:` Arrays\n",
    "\n",
    "You are given a space separated list of numbers. Your task is to print a reversed NumPy array with the element type float.\n",
    "\n"
   ]
  },
  {
   "cell_type": "markdown",
   "metadata": {
    "id": "JJpqVms2Nq7L"
   },
   "source": [
    "**Input Format:**\n",
    "\n",
    "A single line of input containing space separated numbers.\n",
    "\n",
    "**Output Format:**\n",
    "\n",
    "Print the reverse NumPy array with type float.\n",
    "\n",
    "**Example 1:**\n",
    "\n",
    "Input:\n",
    "\n",
    "```bash\n",
    "1 2 3 4 -8 -10\n",
    "```\n",
    "\n",
    "Output:\n",
    "\n",
    "```bash\n",
    "[-10.  -8.   4.   3.   2.   1.]\n",
    "```"
   ]
  },
  {
   "cell_type": "code",
   "execution_count": 5,
   "metadata": {
    "id": "7iQyg6ChNl3j"
   },
   "outputs": [
    {
     "data": {
      "text/plain": [
       "array([3., 2., 1.])"
      ]
     },
     "execution_count": 5,
     "metadata": {},
     "output_type": "execute_result"
    }
   ],
   "source": [
    "#Code here\n",
    "\n",
    "input_str = input().strip()\n",
    "\n",
    "# Convert to a NumPy array of floats\n",
    "arr = np.array(input_str.split(), dtype=float)\n",
    "\n",
    "reversed_arr = arr[::-1]\n",
    "reversed_arr"
   ]
  },
  {
   "cell_type": "markdown",
   "metadata": {
    "id": "TPxD7jM8Sjz9"
   },
   "source": [
    "### `Q-10:` Elements count\n",
    "\n",
    "Count the number of elements of a numpy array.\n",
    "\n"
   ]
  },
  {
   "cell_type": "markdown",
   "metadata": {
    "id": "oHTiTz_jNkAU"
   },
   "source": [
    "**Example 1:**\n",
    "\n",
    "Input:\n",
    "```bash\n",
    "np.array([])\n",
    "```\n",
    "\n",
    "Output:\n",
    "```bash\n",
    "elements_count :  0\n",
    "```\n",
    "\n",
    "**Example 2:**\n",
    "\n",
    "Input:\n",
    "```bash\n",
    "np.array([1, 2])\n",
    "```\n",
    "\n",
    "Output:\n",
    "```bash\n",
    "elements_count :  2\n",
    "```"
   ]
  },
  {
   "cell_type": "code",
   "execution_count": 6,
   "metadata": {
    "id": "RG0H2I-TNeGN"
   },
   "outputs": [
    {
     "name": "stdout",
     "output_type": "stream",
     "text": [
      "elements_count : 2\n"
     ]
    }
   ],
   "source": [
    "#Code here\n",
    "arr = np.array([1, 2])\n",
    "\n",
    "count = arr.size\n",
    "print(\"elements_count :\", count)"
   ]
  },
  {
   "cell_type": "markdown",
   "metadata": {
    "id": "pwgPz-3l5ic5"
   },
   "source": [
    "### `Q-11:` Softmax function\n",
    "\n",
    "Create a Python function to calculate the Softmax of the given numpy 1D array. The function only accepts the numpy 1D array, otherwise raise error.\n",
    "\n",
    "$$\\Large \\sigma(\\vec z)_i = \\frac{e^{z_i}}{\\sum_{j=i}^{K}{e^{z_j}}}$$\n",
    "\n",
    "https://en.wikipedia.org/wiki/Softmax_function\n",
    "\n"
   ]
  },
  {
   "cell_type": "markdown",
   "metadata": {
    "id": "eZ3WJt6UM1ul"
   },
   "source": [
    "**Example 1:**\n",
    "\n",
    "Input:\n",
    "```bash\n",
    "[86.03331084 37.7285648  48.64908087 87.16563062 38.40852563 37.20006318]\n",
    "```\n",
    "\n",
    "Output:\n",
    "```bash\n",
    "[2.43733249e-01, 2.56112115e-22, 1.41628284e-17, 7.56266751e-01, \n",
    "       5.05514197e-22, 1.50974911e-22]\n",
    "```\n",
    "\n",
    "**Example 2:**\n",
    "\n",
    "Input:\n",
    "```bash\n",
    "[33.17344305 45.61961654 82.05405781 80.9647098  68.82830233 91.52064278]\n",
    "```\n",
    "\n",
    "Output:\n",
    "```bash\n",
    "[4.57181035e-26, 1.16249923e-20, 7.73872596e-05, 2.60358426e-05,\n",
    "       1.39571531e-10, 9.99896577e-01]\n",
    "```"
   ]
  },
  {
   "cell_type": "code",
   "execution_count": null,
   "metadata": {
    "id": "VNzj05lkNaNi"
   },
   "outputs": [],
   "source": [
    "#Code here\n",
    "def softmax(arr):\n",
    "  # Check if input is a 1D NumPy array\n",
    "  if not isinstance(arr, np.ndarray) or arr.ndim != 1:\n",
    "    raise ValueError(\"Input must be a 1D NumPy array\")\n",
    "\n",
    "  # Subtract max for numerical stability\n",
    "  e_x = np.exp(arr - np.max(arr))\n",
    "  return e_x / e_x.sum()"
   ]
  },
  {
   "cell_type": "markdown",
   "metadata": {
    "id": "k4JWSwWu_HXg"
   },
   "source": [
    "### `Q-12:` Vertical stack\n",
    "\n",
    "Write a python function that accepts infinite number of numpy arrays and do the vertical stack to them. Then return that new array as result. The function only accepts the numpy array, otherwise raise error.\n",
    "\n"
   ]
  },
  {
   "cell_type": "markdown",
   "metadata": {
    "id": "XhhV3mraNAWr"
   },
   "source": [
    "**Example 1:**\n",
    "\n",
    "Input:\n",
    "```bash\n",
    "a= [[0 1 2 3 4]\n",
    " [5 6 7 8 9]]\n",
    "\n",
    "b= [[1 1 1 1 1]\n",
    " [1 1 1 1 1]]\n",
    "```\n",
    "\n",
    "Output:\n",
    "\n",
    "```bash\n",
    "[[0 1 2 3 4]\n",
    " [5 6 7 8 9]\n",
    " [1 1 1 1 1]\n",
    " [1 1 1 1 1]]\n",
    "```\n",
    "\n",
    "**Example 2:**\n",
    "\n",
    "Input:\n",
    "```bash\n",
    "a= [[0 1 2 3 4]\n",
    " [5 6 7 8 9]]\n",
    "\n",
    "b= [[1 1 1 1 1]\n",
    " [1 1 1 1 1]]\n",
    "\n",
    "c= [[0.10117373 0.1677244  0.73764059 0.83166097 0.48985695]\n",
    " [0.44581567 0.13502419 0.55692335 0.16479622 0.61193593]] \n",
    "```\n",
    "\n",
    "Output:\n",
    "```bash\n",
    "[[0.         1.         2.         3.         4.        ]\n",
    " [5.         6.         7.         8.         9.        ]\n",
    " [1.         1.         1.         1.         1.        ]\n",
    " [1.         1.         1.         1.         1.        ]\n",
    " [0.10117373 0.1677244  0.73764059 0.83166097 0.48985695]\n",
    " [0.44581567 0.13502419 0.55692335 0.16479622 0.61193593]]\n",
    "```"
   ]
  },
  {
   "cell_type": "code",
   "execution_count": 8,
   "metadata": {
    "id": "dhtnbSj6NP8z"
   },
   "outputs": [],
   "source": [
    "#Coder here\n",
    "def vertical_stack(*arrays):\n",
    "  for arr in arrays:\n",
    "    if not isinstance(arr, np.ndarray):\n",
    "      raise TypeError(\"All inputs must be NumPy arrays.\")\n",
    "\n",
    "  return np.vstack(arrays)"
   ]
  },
  {
   "cell_type": "code",
   "execution_count": 9,
   "metadata": {},
   "outputs": [
    {
     "name": "stdout",
     "output_type": "stream",
     "text": [
      "[[0 1 2 3 4]\n",
      " [5 6 7 8 9]\n",
      " [1 1 1 1 1]\n",
      " [1 1 1 1 1]]\n"
     ]
    }
   ],
   "source": [
    "a = np.array([[0, 1, 2, 3, 4],\n",
    "              [5, 6, 7, 8, 9]])\n",
    "\n",
    "b = np.array([[1, 1, 1, 1, 1],\n",
    "              [1, 1, 1, 1, 1]])\n",
    "\n",
    "result = vertical_stack(a, b)\n",
    "print(result)"
   ]
  },
  {
   "cell_type": "markdown",
   "metadata": {
    "id": "3mk8T6CuC2DP"
   },
   "source": [
    "### `Q-13:` Dates\n",
    "\n",
    "Create a python function named **date_array** that accepts two dates as string format and returns a numpy array of dates between those 2 dates. The function only accept 2 strings, otherwise raise error. The date format should be like this only: `2022-12-6`. The end date should be included and for simplicity, choose dates from a same year.\n",
    "\n"
   ]
  },
  {
   "cell_type": "markdown",
   "metadata": {
    "id": "E3IgjnTTNFEk"
   },
   "source": [
    "**Example 1:**\n",
    "\n",
    "Input:\n",
    "```bash\n",
    "date_array(start = '2020-09-15', end = '2020-09-25')\n",
    "```\n",
    "\n",
    "Output:\n",
    "```bash\n",
    "['2020-09-15', '2020-09-16', '2020-09-17', '2020-09-18',\n",
    " '2020-09-19', '2020-09-20', '2020-09-21', '2020-09-22',\n",
    " '2020-09-23', '2020-09-24', '2020-09-25']\n",
    "```\n",
    "\n",
    "**Example 2:**\n",
    "\n",
    "Input:\n",
    "```bash\n",
    "date_array(start = '2022-12-01', end = '2022-12-06')\n",
    "```\n",
    "\n",
    "Output:\n",
    "```bash\n",
    "['2022-12-01', '2022-12-02', '2022-12-03', '2022-12-04', '2022-12-05', '2022-12-06']\n",
    "```\n",
    "\n",
    "**Example 3:**\n",
    "\n",
    "Input:\n",
    "```bash\n",
    "date_array(start = '2020-11-25', end = '2020-11-30')\n",
    "```\n",
    "\n",
    "Output:\n",
    "```bash\n",
    "['2020-11-25', '2020-11-26', '2020-11-27', '2020-11-28',\n",
    " '2020-11-29', '2020-11-30']\n",
    "```"
   ]
  },
  {
   "cell_type": "code",
   "execution_count": 10,
   "metadata": {
    "id": "Yj5PBfQQNTnL"
   },
   "outputs": [],
   "source": [
    "#Code here\n",
    "from datetime import datetime\n",
    "\n",
    "def date_array(start, end):\n",
    "  # Validate types\n",
    "  if not (isinstance(start, str) and isinstance(end, str)):\n",
    "    raise TypeError(\"Both start and end must be strings in 'YYYY-MM-DD' format.\")\n",
    "\n",
    "  try:\n",
    "    # Parse strings to datetime objects\n",
    "    start_date = datetime.strptime(start, '%Y-%m-%d')\n",
    "    end_date = datetime.strptime(end, '%Y-%m-%d')\n",
    "  except ValueError:\n",
    "    raise ValueError(\"Date format must be 'YYYY-MM-DD'.\")\n",
    "\n",
    "  # Ensure same year\n",
    "  if start_date.year != end_date.year:\n",
    "    raise ValueError(\"Start and end dates must be in the same year.\")\n",
    "\n",
    "  # Generate dates using numpy\n",
    "  num_days = (end_date - start_date).days + 1  # inclusive\n",
    "  date_list = np.arange(start_date, end_date + np.timedelta64(1, 'D'), dtype='datetime64[D]')\n",
    "\n",
    "  # Convert to string format\n",
    "  return date_list.astype(str)"
   ]
  },
  {
   "cell_type": "code",
   "execution_count": 12,
   "metadata": {},
   "outputs": [
    {
     "name": "stdout",
     "output_type": "stream",
     "text": [
      "['2020-09-15' '2020-09-16' '2020-09-17' '2020-09-18' '2020-09-19'\n",
      " '2020-09-20' '2020-09-21' '2020-09-22' '2020-09-23' '2020-09-24'\n",
      " '2020-09-25']\n"
     ]
    }
   ],
   "source": [
    "print(date_array(start='2020-09-15', end='2020-09-25'))"
   ]
  },
  {
   "cell_type": "markdown",
   "metadata": {
    "id": "bcEp0wTWQijK"
   },
   "source": [
    "###`Q-14:` Subtract the mean of each row from a matrix."
   ]
  },
  {
   "cell_type": "code",
   "execution_count": 13,
   "metadata": {
    "id": "rpILVGcgQzMo"
   },
   "outputs": [
    {
     "name": "stdout",
     "output_type": "stream",
     "text": [
      "Original matrix:\n",
      "[[1 2 3]\n",
      " [4 5 6]\n",
      " [7 8 9]]\n",
      "\n",
      "Matrix after subtracting row-wise mean:\n",
      "[[-1.  0.  1.]\n",
      " [-1.  0.  1.]\n",
      " [-1.  0.  1.]]\n"
     ]
    }
   ],
   "source": [
    "#code here\n",
    "# Sample matrix\n",
    "matrix = np.array([[1, 2, 3],\n",
    "                   [4, 5, 6],\n",
    "                   [7, 8, 9]])\n",
    "\n",
    "# Subtract row-wise mean\n",
    "result = matrix - matrix.mean(axis=1, keepdims=True)\n",
    "\n",
    "print(\"Original matrix:\")\n",
    "print(matrix)\n",
    "\n",
    "print(\"\\nMatrix after subtracting row-wise mean:\")\n",
    "print(result)"
   ]
  },
  {
   "cell_type": "markdown",
   "metadata": {
    "id": "A-dMVlPPSBTT"
   },
   "source": [
    "###`Q-15:` Swap column-1 of array with column-2 in the array."
   ]
  },
  {
   "cell_type": "code",
   "execution_count": 15,
   "metadata": {
    "id": "3RtngM9-Q6S7"
   },
   "outputs": [
    {
     "name": "stdout",
     "output_type": "stream",
     "text": [
      "Original Array: \n",
      "[[1 2 3]\n",
      " [4 5 6]\n",
      " [7 8 9]]\n",
      "Array after swapping column 1 with column 2:\n",
      "[[2 1 3]\n",
      " [5 4 6]\n",
      " [8 7 9]]\n"
     ]
    }
   ],
   "source": [
    "#Code here\n",
    "# Sample array (2D)\n",
    "arr = np.array([[1, 2, 3],\n",
    "                [4, 5, 6],\n",
    "                [7, 8, 9]])\n",
    "\n",
    "print(\"Original Array: \")\n",
    "print(arr)\n",
    "\n",
    "# Swap column 1 (index 0) with column 2 (index 1)\n",
    "arr[:, [0, 1]] = arr[:, [1, 0]]\n",
    "\n",
    "print(\"Array after swapping column 1 with column 2:\")\n",
    "print(arr)"
   ]
  },
  {
   "cell_type": "markdown",
   "metadata": {
    "id": "cB4VMexvS6Zi"
   },
   "source": [
    "###`Q-16:` Replace odd elements in arrays with -1."
   ]
  },
  {
   "cell_type": "code",
   "execution_count": 16,
   "metadata": {
    "id": "Bt83nXEVS5O4"
   },
   "outputs": [
    {
     "name": "stdout",
     "output_type": "stream",
     "text": [
      "Array after replacing odd numbers with -1:\n",
      "[-1  2 -1  4 -1  6 -1  8 -1]\n"
     ]
    }
   ],
   "source": [
    "#Code here\n",
    "arr = np.array([1, 2, 3, 4, 5, 6, 7, 8, 9])\n",
    "\n",
    "# Replace odd numbers with -1\n",
    "arr[arr % 2 != 0] = -1\n",
    "\n",
    "print(\"Array after replacing odd numbers with -1:\")\n",
    "print(arr)"
   ]
  },
  {
   "cell_type": "markdown",
   "metadata": {
    "id": "kf_qvmBxWIT_"
   },
   "source": [
    "###`Q-17:` Given two arrays of same shape make an array of max out of two arrays. (Numpy way)\n",
    "```\n",
    "a=np.array([6,3,1,5,8])\n",
    "b=np.array([3,2,1,7,2])\n",
    "\n",
    "Result-> [6 3 1 7 8]\n",
    "```"
   ]
  },
  {
   "cell_type": "code",
   "execution_count": 17,
   "metadata": {
    "id": "TB9ZvF-EZSfu"
   },
   "outputs": [
    {
     "name": "stdout",
     "output_type": "stream",
     "text": [
      "Result -> [6 3 1 7 8]\n"
     ]
    }
   ],
   "source": [
    "#Code here\n",
    "a = np.array([6, 3, 1, 5, 8])\n",
    "b = np.array([3, 2, 1, 7, 2])\n",
    "\n",
    "# Element-wise maximum\n",
    "result = np.maximum(a, b)\n",
    "\n",
    "print(\"Result ->\", result)"
   ]
  },
  {
   "cell_type": "markdown",
   "metadata": {
    "id": "iOQLUIeGc3zA"
   },
   "source": [
    "###`Q-18` Answer below asked questions on given array:\n",
    "1. Fetch Every alternate column of the array\n",
    "2. Normalise the given array\n",
    "\n",
    "https://en.wikipedia.org/wiki/Normalization_(statistics)\n",
    "\n",
    "There are different form of normalisation for this question use below formula.\n",
    "\n",
    "$$\\large X_{normalized} = \\frac{X - X_{min}}{X_{max} - X_{min}}$$\n",
    "\n",
    "```python\n",
    "arr1=np.random.randint(low=1, high=10000, size=40).reshape(8,5)\n",
    "```\n"
   ]
  },
  {
   "cell_type": "code",
   "execution_count": 19,
   "metadata": {
    "colab": {
     "base_uri": "https://localhost:8080/"
    },
    "executionInfo": {
     "elapsed": 1676,
     "status": "ok",
     "timestamp": 1670330723996,
     "user": {
      "displayName": "CampusX Official",
      "userId": "12213120911843971958"
     },
     "user_tz": -330
    },
    "id": "vjSm18k3d_1p",
    "outputId": "83d23b61-d2ae-41bc-e91e-0e0722667521"
   },
   "outputs": [
    {
     "data": {
      "text/plain": [
       "array([[ 331, 4819, 8621, 3480, 9296],\n",
       "       [4927,  514, 6025, 4483, 4654],\n",
       "       [7436, 3832, 9344, 4544,  137],\n",
       "       [4524, 2287, 9439, 7025, 8707],\n",
       "       [7731, 5740, 4794,  805, 7250],\n",
       "       [9527,  942, 6405, 7338, 6203],\n",
       "       [ 828, 7369,  650, 1522, 2957],\n",
       "       [7363, 1166, 7649, 4233, 1094]], dtype=int32)"
      ]
     },
     "execution_count": 19,
     "metadata": {},
     "output_type": "execute_result"
    }
   ],
   "source": [
    "# Given\n",
    "arr1=np.random.randint(low=1, high=10000, size=40).reshape(8,5)\n",
    "arr1"
   ]
  },
  {
   "cell_type": "code",
   "execution_count": 22,
   "metadata": {
    "id": "d7u8DB47eBfQ"
   },
   "outputs": [
    {
     "name": "stdout",
     "output_type": "stream",
     "text": [
      "\n",
      "Every alternate column:\n",
      " [[ 331 8621 9296]\n",
      " [4927 6025 4654]\n",
      " [7436 9344  137]\n",
      " [4524 9439 8707]\n",
      " [7731 4794 7250]\n",
      " [9527 6405 6203]\n",
      " [ 828  650 2957]\n",
      " [7363 7649 1094]]\n"
     ]
    }
   ],
   "source": [
    "#Code here\n",
    "alternate_columns = arr1[:, ::2]\n",
    "print(\"\\nEvery alternate column:\\n\", alternate_columns)"
   ]
  },
  {
   "cell_type": "code",
   "execution_count": null,
   "metadata": {},
   "outputs": [],
   "source": []
  },
  {
   "cell_type": "code",
   "execution_count": 21,
   "metadata": {},
   "outputs": [
    {
     "name": "stdout",
     "output_type": "stream",
     "text": [
      "\n",
      "Normalized Array:\n",
      " [[0.02066028 0.49861555 0.90351438 0.35601704 0.97539936]\n",
      " [0.51011715 0.04014909 0.62705005 0.4628328  0.48104366]\n",
      " [0.77731629 0.39350373 0.98051118 0.46932907 0.        ]\n",
      " [0.46719915 0.22896699 0.99062833 0.73354633 0.91267306]\n",
      " [0.80873269 0.59669862 0.49595314 0.07113951 0.75750799]\n",
      " [1.         0.0857295  0.66751864 0.76687966 0.64600639]\n",
      " [0.07358892 0.77018104 0.05463259 0.14749734 0.30031949]\n",
      " [0.76954207 0.10958466 0.8        0.43620873 0.10191693]]\n"
     ]
    }
   ],
   "source": [
    "\n",
    "arr1_min = arr1.min()\n",
    "arr1_max = arr1.max()\n",
    "\n",
    "arr1_normalized = (arr1 - arr1_min) / (arr1_max - arr1_min)\n",
    "print(\"\\nNormalized Array:\\n\", arr1_normalized)"
   ]
  },
  {
   "cell_type": "markdown",
   "metadata": {
    "id": "jCzsVEKLgGNo"
   },
   "source": [
    "###`Q-19:` Write a function which will accept 2 arguments.\n",
    "First: A 1D numpy array arr\n",
    "\n",
    "Second: An integer n {Please make sure n<=len(arr)}\n",
    "\n",
    "Output: The output should be the nth largest item out of the array\n",
    "```\n",
    "# Example1 : arr=(12,34,40,7,1,0) and n=3, the output should be 12\n",
    "# Example2 : arr=(12,34,40,7,1,0) and n=1, the output should be 40\n",
    "```"
   ]
  },
  {
   "cell_type": "code",
   "execution_count": 23,
   "metadata": {
    "id": "J4AzkDk7gXSG"
   },
   "outputs": [],
   "source": [
    "#Code here\n",
    "def nth_largest(arr, n):\n",
    "  if not isinstance(arr, np.ndarray) or arr.ndim != 1:\n",
    "    raise ValueError(\"First argument must be a 1D NumPy array.\")\n",
    "  if not isinstance(n, int) or n < 1 or n > len(arr):\n",
    "    raise ValueError(\"Second argument must be an integer in the range [1, len(arr)].\")\n",
    "\n",
    "  # Use numpy's sort and indexing to get nth largest\n",
    "  sorted_arr = np.sort(arr)[::-1]  # Sort in descending order\n",
    "  return sorted_arr[n - 1]"
   ]
  },
  {
   "cell_type": "code",
   "execution_count": 24,
   "metadata": {},
   "outputs": [
    {
     "name": "stdout",
     "output_type": "stream",
     "text": [
      "12\n",
      "40\n"
     ]
    }
   ],
   "source": [
    "print(nth_largest(np.array([12, 34, 40, 7, 1, 0]), 3))  # Output: 12\n",
    "print(nth_largest(np.array([12, 34, 40, 7, 1, 0]), 1))  # Output: 40"
   ]
  },
  {
   "cell_type": "markdown",
   "metadata": {
    "id": "ja0xPCgjhBsg"
   },
   "source": [
    "###`Q-20:` Create the following pattern without hardcoding. Use only numpy functions and the below input array a.\n",
    "```\n",
    "# Input: a = np.array([1,2,3])\n",
    "# Output: array([1, 1, 1, 2, 2, 2, 3, 3, 3, 1, 2, 3, 1, 2, 3, 1, 2, 3])\n",
    "```"
   ]
  },
  {
   "cell_type": "code",
   "execution_count": null,
   "metadata": {
    "id": "CndS8TTNhG0F"
   },
   "outputs": [
    {
     "name": "stdout",
     "output_type": "stream",
     "text": [
      "Patterned Array:\n",
      " [1 1 1 2 2 2 3 3 3 1 2 3 1 2 3 1 2 3]\n"
     ]
    }
   ],
   "source": [
    "#code here\n",
    "a = np.array([1, 2, 3])\n",
    "\n",
    "# First part: Repeat each element 3 times\n",
    "part1 = np.repeat(a, 3)\n",
    "\n",
    "# Second part: Tile the array 3 times\n",
    "part2 = np.tile(a, 3)\n",
    "\n",
    "# Combine both\n",
    "result = np.concatenate((part1, part2))\n",
    "print(\"Patterned Array:\\n\", result)"
   ]
  }
 ],
 "metadata": {
  "colab": {
   "authorship_tag": "ABX9TyOuBG7GlHXIyryLSKEsrxZj",
   "provenance": []
  },
  "kernelspec": {
   "display_name": "Python 3",
   "name": "python3"
  },
  "language_info": {
   "codemirror_mode": {
    "name": "ipython",
    "version": 3
   },
   "file_extension": ".py",
   "mimetype": "text/x-python",
   "name": "python",
   "nbconvert_exporter": "python",
   "pygments_lexer": "ipython3",
   "version": "3.13.5"
  }
 },
 "nbformat": 4,
 "nbformat_minor": 0
}
