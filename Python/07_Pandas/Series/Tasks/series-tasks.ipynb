{
 "cells": [
  {
   "cell_type": "code",
   "execution_count": 6,
   "metadata": {
    "id": "zxrbXftDYalU"
   },
   "outputs": [],
   "source": [
    "import numpy as np\n",
    "import pandas as pd"
   ]
  },
  {
   "cell_type": "markdown",
   "metadata": {
    "id": "MetYTZJpYfdz"
   },
   "source": [
    "###`Q-1:` Write a program to create an empty series."
   ]
  },
  {
   "cell_type": "code",
   "execution_count": 9,
   "metadata": {
    "id": "KUcgT935YgC5"
   },
   "outputs": [
    {
     "data": {
      "text/plain": [
       "Series([], dtype: float64)"
      ]
     },
     "execution_count": 9,
     "metadata": {},
     "output_type": "execute_result"
    }
   ],
   "source": [
    "# code here\n",
    "series = pd.Series(dtype='float64')\n",
    "series"
   ]
  },
  {
   "cell_type": "markdown",
   "metadata": {
    "id": "jw5ybzU6YhOo"
   },
   "source": [
    "###`Q-2:` Write a Pandas program to add, subtract, multiple and divide two Pandas Series."
   ]
  },
  {
   "cell_type": "code",
   "execution_count": 11,
   "metadata": {
    "id": "EF3GgVFjYjwG"
   },
   "outputs": [
    {
     "name": "stdout",
     "output_type": "stream",
     "text": [
      "Add: \n",
      " 0    2\n",
      "1    4\n",
      "2    6\n",
      "dtype: int64\n",
      "Subtract: \n",
      " 0    0\n",
      "1    0\n",
      "2    0\n",
      "dtype: int64\n",
      "Multiple: \n",
      " 0    1\n",
      "1    4\n",
      "2    9\n",
      "dtype: int64\n",
      "Divide: \n",
      " 0    1.0\n",
      "1    1.0\n",
      "2    1.0\n",
      "dtype: float64\n"
     ]
    }
   ],
   "source": [
    "# code here\n",
    "a = pd.Series([1,2,3])\n",
    "b = pd.Series([1,2,3])\n",
    "\n",
    "add = a + b\n",
    "subtract = a - b\n",
    "multiple = a * b\n",
    "divide = a / b\n",
    "\n",
    "print(\"Add: \\n\", add)\n",
    "print(\"Subtract: \\n\", subtract)\n",
    "print(\"Multiple: \\n\", multiple)\n",
    "print(\"Divide: \\n\", divide)"
   ]
  },
  {
   "cell_type": "markdown",
   "metadata": {
    "id": "TZDp25jeYlB6"
   },
   "source": [
    "###`Q-3` Write a Pandas program to compare the elements of the two Pandas Series.\n",
    "Sample Series: [2, 4, 6, 8, 10], [1, 3, 5, 7, 10]\n",
    "\n"
   ]
  },
  {
   "cell_type": "code",
   "execution_count": 12,
   "metadata": {
    "id": "gFNil8ruYp1y"
   },
   "outputs": [
    {
     "name": "stdout",
     "output_type": "stream",
     "text": [
      "Series 1:\n",
      " 0     2\n",
      "1     4\n",
      "2     6\n",
      "3     8\n",
      "4    10\n",
      "dtype: int64\n",
      "\n",
      "Series 2:\n",
      " 0     1\n",
      "1     3\n",
      "2     5\n",
      "3     7\n",
      "4    10\n",
      "dtype: int64\n",
      "\n",
      "Element-wise Comparison:\n",
      "Equal:\n",
      " 0    False\n",
      "1    False\n",
      "2    False\n",
      "3    False\n",
      "4     True\n",
      "dtype: bool\n",
      "Greater than:\n",
      " 0     True\n",
      "1     True\n",
      "2     True\n",
      "3     True\n",
      "4    False\n",
      "dtype: bool\n",
      "Less than:\n",
      " 0    False\n",
      "1    False\n",
      "2    False\n",
      "3    False\n",
      "4    False\n",
      "dtype: bool\n"
     ]
    }
   ],
   "source": [
    "# code here\n",
    "s1 = pd.Series([2, 4, 6, 8, 10])\n",
    "s2 = pd.Series([1, 3, 5, 7, 10])\n",
    "\n",
    "# Comparison\n",
    "print(\"Series 1:\\n\", s1)\n",
    "print(\"\\nSeries 2:\\n\", s2)\n",
    "\n",
    "print(\"\\nElement-wise Comparison:\")\n",
    "print(\"Equal:\\n\", s1 == s2)\n",
    "print(\"Greater than:\\n\", s1 > s2)\n",
    "print(\"Less than:\\n\", s1 < s2)\n"
   ]
  },
  {
   "cell_type": "markdown",
   "metadata": {
    "id": "HlOBn_N6YrZz"
   },
   "source": [
    "###`Q-5.`Write a function to change the data type of given a column or a Series. Function takes series and data type as input, returns the converted series.\n",
    "```\n",
    "series = pd.Series([1,2,'Python', 2.0, True, 100])\n",
    "change to float type data\n",
    "```\n",
    "Note: Read about pd.to_numeric()"
   ]
  },
  {
   "cell_type": "code",
   "execution_count": 13,
   "metadata": {
    "id": "_SWQJCUJYwXm"
   },
   "outputs": [
    {
     "name": "stdout",
     "output_type": "stream",
     "text": [
      "Original Series:\n",
      "0         1\n",
      "1         2\n",
      "2    Python\n",
      "3       2.0\n",
      "4      True\n",
      "5       100\n",
      "dtype: object\n",
      "\n",
      "Converted Series (to float using 'numeric'):\n",
      "0      1.0\n",
      "1      2.0\n",
      "2      NaN\n",
      "3      2.0\n",
      "4      1.0\n",
      "5    100.0\n",
      "dtype: float64\n"
     ]
    }
   ],
   "source": [
    "# code here\n",
    "def change_dtype(series, dtype):\n",
    "    try:\n",
    "        if dtype == 'numeric':\n",
    "            # Converts to numeric (float or int); invalid parsing will raise an error unless errors='coerce'\n",
    "            return pd.to_numeric(series, errors='coerce')\n",
    "        else:\n",
    "            return series.astype(dtype)\n",
    "    except Exception as e:\n",
    "        print(\"Error:\", e)\n",
    "        return None\n",
    "\n",
    "# Example usage\n",
    "series = pd.Series([1, 2, 'Python', 2.0, True, 100])\n",
    "converted_series = change_dtype(series, 'numeric')\n",
    "\n",
    "print(\"Original Series:\")\n",
    "print(series)\n",
    "\n",
    "print(\"\\nConverted Series (to float using 'numeric'):\")\n",
    "print(converted_series)"
   ]
  },
  {
   "cell_type": "markdown",
   "metadata": {
    "id": "PGp3OqRIY0Va"
   },
   "source": [
    "Download data - https://drive.google.com/file/d/1LRhXwbEodeWXtzPhJCX0X9Lf_BECzvqb/view?usp=share_link\n",
    "All Batsman runs series in IPL 2008 to 2022.\n",
    "\n",
    "Below questions are based on this data."
   ]
  },
  {
   "cell_type": "markdown",
   "metadata": {
    "id": "TxFkp-L4Y23d"
   },
   "source": [
    "###`Q-6` Find top 10 most run getter from the series."
   ]
  },
  {
   "cell_type": "code",
   "execution_count": 27,
   "metadata": {
    "id": "muBgocA6Y2Bg"
   },
   "outputs": [
    {
     "name": "stdout",
     "output_type": "stream",
     "text": [
      "🏆 Top 10 Run Getters (2008-2022):\n",
      "batter\n",
      "V Kohli           6634\n",
      "S Dhawan          6244\n",
      "DA Warner         5883\n",
      "RG Sharma         5881\n",
      "SK Raina          5536\n",
      "AB de Villiers    5181\n",
      "CH Gayle          4997\n",
      "MS Dhoni          4978\n",
      "RV Uthappa        4954\n",
      "KD Karthik        4377\n",
      "Name: batsman_run, dtype: int64\n"
     ]
    }
   ],
   "source": [
    "# code here\n",
    "batsman_runs = pd.read_csv('batsman_runs_series.csv')\n",
    "\n",
    "# Group by batsman and sum their total runs\n",
    "top_scorers = batsman_runs.groupby('batter')['batsman_run'].sum()\n",
    "\n",
    "# Sort the result in descending order and get the top 10\n",
    "top_10_scorers = top_scorers.sort_values(ascending=False).head(10)\n",
    "\n",
    "# Display the result\n",
    "print(\"🏆 Top 10 Run Getters (2008-2022):\")\n",
    "print(top_10_scorers)"
   ]
  },
  {
   "cell_type": "markdown",
   "metadata": {
    "id": "GzlCFBM_Y83g"
   },
   "source": [
    "###`Q-7` No of players having runs above 3000"
   ]
  },
  {
   "cell_type": "code",
   "execution_count": 29,
   "metadata": {
    "id": "JdNchHRWY1B-"
   },
   "outputs": [
    {
     "data": {
      "text/html": [
       "<div>\n",
       "<style scoped>\n",
       "    .dataframe tbody tr th:only-of-type {\n",
       "        vertical-align: middle;\n",
       "    }\n",
       "\n",
       "    .dataframe tbody tr th {\n",
       "        vertical-align: top;\n",
       "    }\n",
       "\n",
       "    .dataframe thead th {\n",
       "        text-align: right;\n",
       "    }\n",
       "</style>\n",
       "<table border=\"1\" class=\"dataframe\">\n",
       "  <thead>\n",
       "    <tr style=\"text-align: right;\">\n",
       "      <th></th>\n",
       "      <th>batter</th>\n",
       "      <th>batsman_run</th>\n",
       "    </tr>\n",
       "  </thead>\n",
       "  <tbody>\n",
       "    <tr>\n",
       "      <th>27</th>\n",
       "      <td>AB de Villiers</td>\n",
       "      <td>5181</td>\n",
       "    </tr>\n",
       "    <tr>\n",
       "      <th>46</th>\n",
       "      <td>AM Rahane</td>\n",
       "      <td>4074</td>\n",
       "    </tr>\n",
       "    <tr>\n",
       "      <th>60</th>\n",
       "      <td>AT Rayudu</td>\n",
       "      <td>4190</td>\n",
       "    </tr>\n",
       "    <tr>\n",
       "      <th>108</th>\n",
       "      <td>CH Gayle</td>\n",
       "      <td>4997</td>\n",
       "    </tr>\n",
       "    <tr>\n",
       "      <th>130</th>\n",
       "      <td>DA Warner</td>\n",
       "      <td>5883</td>\n",
       "    </tr>\n",
       "    <tr>\n",
       "      <th>169</th>\n",
       "      <td>F du Plessis</td>\n",
       "      <td>3403</td>\n",
       "    </tr>\n",
       "    <tr>\n",
       "      <th>174</th>\n",
       "      <td>G Gambhir</td>\n",
       "      <td>4217</td>\n",
       "    </tr>\n",
       "    <tr>\n",
       "      <th>251</th>\n",
       "      <td>KA Pollard</td>\n",
       "      <td>3437</td>\n",
       "    </tr>\n",
       "    <tr>\n",
       "      <th>256</th>\n",
       "      <td>KD Karthik</td>\n",
       "      <td>4377</td>\n",
       "    </tr>\n",
       "    <tr>\n",
       "      <th>263</th>\n",
       "      <td>KL Rahul</td>\n",
       "      <td>3895</td>\n",
       "    </tr>\n",
       "    <tr>\n",
       "      <th>328</th>\n",
       "      <td>MK Pandey</td>\n",
       "      <td>3657</td>\n",
       "    </tr>\n",
       "    <tr>\n",
       "      <th>339</th>\n",
       "      <td>MS Dhoni</td>\n",
       "      <td>4978</td>\n",
       "    </tr>\n",
       "    <tr>\n",
       "      <th>430</th>\n",
       "      <td>RG Sharma</td>\n",
       "      <td>5881</td>\n",
       "    </tr>\n",
       "    <tr>\n",
       "      <th>452</th>\n",
       "      <td>RV Uthappa</td>\n",
       "      <td>4954</td>\n",
       "    </tr>\n",
       "    <tr>\n",
       "      <th>462</th>\n",
       "      <td>S Dhawan</td>\n",
       "      <td>6244</td>\n",
       "    </tr>\n",
       "    <tr>\n",
       "      <th>493</th>\n",
       "      <td>SK Raina</td>\n",
       "      <td>5536</td>\n",
       "    </tr>\n",
       "    <tr>\n",
       "      <th>511</th>\n",
       "      <td>SR Watson</td>\n",
       "      <td>3880</td>\n",
       "    </tr>\n",
       "    <tr>\n",
       "      <th>519</th>\n",
       "      <td>SV Samson</td>\n",
       "      <td>3526</td>\n",
       "    </tr>\n",
       "    <tr>\n",
       "      <th>569</th>\n",
       "      <td>V Kohli</td>\n",
       "      <td>6634</td>\n",
       "    </tr>\n",
       "    <tr>\n",
       "      <th>597</th>\n",
       "      <td>YK Pathan</td>\n",
       "      <td>3222</td>\n",
       "    </tr>\n",
       "  </tbody>\n",
       "</table>\n",
       "</div>"
      ],
      "text/plain": [
       "             batter  batsman_run\n",
       "27   AB de Villiers         5181\n",
       "46        AM Rahane         4074\n",
       "60        AT Rayudu         4190\n",
       "108        CH Gayle         4997\n",
       "130       DA Warner         5883\n",
       "169    F du Plessis         3403\n",
       "174       G Gambhir         4217\n",
       "251      KA Pollard         3437\n",
       "256      KD Karthik         4377\n",
       "263        KL Rahul         3895\n",
       "328       MK Pandey         3657\n",
       "339        MS Dhoni         4978\n",
       "430       RG Sharma         5881\n",
       "452      RV Uthappa         4954\n",
       "462        S Dhawan         6244\n",
       "493        SK Raina         5536\n",
       "511       SR Watson         3880\n",
       "519       SV Samson         3526\n",
       "569         V Kohli         6634\n",
       "597       YK Pathan         3222"
      ]
     },
     "execution_count": 29,
     "metadata": {},
     "output_type": "execute_result"
    }
   ],
   "source": [
    "# code here\n",
    "batsman_runs[batsman_runs['batsman_run'] > 3000]"
   ]
  },
  {
   "cell_type": "markdown",
   "metadata": {
    "id": "pMBEoCL1Y-vh"
   },
   "source": [
    "###`Q-8` No of players having runs above mean value?"
   ]
  },
  {
   "cell_type": "code",
   "execution_count": 33,
   "metadata": {
    "id": "LgtViVFZZBIu"
   },
   "outputs": [
    {
     "data": {
      "text/html": [
       "<div>\n",
       "<style scoped>\n",
       "    .dataframe tbody tr th:only-of-type {\n",
       "        vertical-align: middle;\n",
       "    }\n",
       "\n",
       "    .dataframe tbody tr th {\n",
       "        vertical-align: top;\n",
       "    }\n",
       "\n",
       "    .dataframe thead th {\n",
       "        text-align: right;\n",
       "    }\n",
       "</style>\n",
       "<table border=\"1\" class=\"dataframe\">\n",
       "  <thead>\n",
       "    <tr style=\"text-align: right;\">\n",
       "      <th></th>\n",
       "      <th>batter</th>\n",
       "      <th>batsman_run</th>\n",
       "    </tr>\n",
       "  </thead>\n",
       "  <tbody>\n",
       "    <tr>\n",
       "      <th>15</th>\n",
       "      <td>A Symonds</td>\n",
       "      <td>974</td>\n",
       "    </tr>\n",
       "    <tr>\n",
       "      <th>27</th>\n",
       "      <td>AB de Villiers</td>\n",
       "      <td>5181</td>\n",
       "    </tr>\n",
       "    <tr>\n",
       "      <th>29</th>\n",
       "      <td>AC Gilchrist</td>\n",
       "      <td>2069</td>\n",
       "    </tr>\n",
       "    <tr>\n",
       "      <th>34</th>\n",
       "      <td>AD Mathews</td>\n",
       "      <td>724</td>\n",
       "    </tr>\n",
       "    <tr>\n",
       "      <th>36</th>\n",
       "      <td>AD Russell</td>\n",
       "      <td>2039</td>\n",
       "    </tr>\n",
       "    <tr>\n",
       "      <th>...</th>\n",
       "      <td>...</td>\n",
       "      <td>...</td>\n",
       "    </tr>\n",
       "    <tr>\n",
       "      <th>587</th>\n",
       "      <td>WP Saha</td>\n",
       "      <td>2427</td>\n",
       "    </tr>\n",
       "    <tr>\n",
       "      <th>594</th>\n",
       "      <td>Y Venugopal Rao</td>\n",
       "      <td>985</td>\n",
       "    </tr>\n",
       "    <tr>\n",
       "      <th>596</th>\n",
       "      <td>YBK Jaiswal</td>\n",
       "      <td>547</td>\n",
       "    </tr>\n",
       "    <tr>\n",
       "      <th>597</th>\n",
       "      <td>YK Pathan</td>\n",
       "      <td>3222</td>\n",
       "    </tr>\n",
       "    <tr>\n",
       "      <th>603</th>\n",
       "      <td>Yuvraj Singh</td>\n",
       "      <td>2754</td>\n",
       "    </tr>\n",
       "  </tbody>\n",
       "</table>\n",
       "<p>128 rows × 2 columns</p>\n",
       "</div>"
      ],
      "text/plain": [
       "              batter  batsman_run\n",
       "15         A Symonds          974\n",
       "27    AB de Villiers         5181\n",
       "29      AC Gilchrist         2069\n",
       "34        AD Mathews          724\n",
       "36        AD Russell         2039\n",
       "..               ...          ...\n",
       "587          WP Saha         2427\n",
       "594  Y Venugopal Rao          985\n",
       "596      YBK Jaiswal          547\n",
       "597        YK Pathan         3222\n",
       "603     Yuvraj Singh         2754\n",
       "\n",
       "[128 rows x 2 columns]"
      ]
     },
     "execution_count": 33,
     "metadata": {},
     "output_type": "execute_result"
    }
   ],
   "source": [
    "# code here\n",
    "batsman_runs[batsman_runs['batsman_run'] > batsman_runs['batsman_run'].mean()]"
   ]
  },
  {
   "cell_type": "markdown",
   "metadata": {
    "id": "OAB1CgdgZEqE"
   },
   "source": [
    "Download data - https://drive.google.com/file/d/1QZuZ5bypUInfVvarHACLAi8tXXHvb8xd/view?usp=share_link\n",
    "\n",
    "file name - items.csv\n",
    "\n"
   ]
  },
  {
   "cell_type": "markdown",
   "metadata": {
    "id": "1UTQQImxZGLu"
   },
   "source": [
    "###`Q-9` \n",
    "    i. Read `items.csv` making `item_name` as index.\n",
    "    ii. Show no of nan values\n",
    "    ii. Item price is given in $, so convert it to rupees without currency symbol.\n",
    "    iii. Make data type of newly made series as float.\n",
    "    iv. Fill nan with mean of the series\n",
    "\n",
    "\n",
    "How csv file looks\n",
    "\n",
    "```\n",
    "item_name\titem_price\n",
    "Chips and Fresh Tomato Salsa\t$2.39\n",
    "Izze\t$3.39\n",
    "Nantucket Nectar\t$3.39\n",
    "Chips and Tomatillo-Green Chili Salsa\t$2.39\n",
    "Chicken Bowl\t$16.98\n",
    "\n",
    "```"
   ]
  },
  {
   "cell_type": "code",
   "execution_count": 48,
   "metadata": {
    "id": "1xaWkoMJZFNK"
   },
   "outputs": [
    {
     "name": "stdout",
     "output_type": "stream",
     "text": [
      "I:  <bound method DataFrame.sum of                                        item_price\n",
      "item_name                                        \n",
      "Chips and Fresh Tomato Salsa                False\n",
      "Izze                                        False\n",
      "Nantucket Nectar                            False\n",
      "Chips and Tomatillo-Green Chili Salsa       False\n",
      "Chicken Bowl                                False\n",
      "...                                           ...\n",
      "Steak Burrito                               False\n",
      "Steak Burrito                               False\n",
      "Chicken Salad Bowl                          False\n",
      "Chicken Salad Bowl                          False\n",
      "Chicken Salad Bowl                          False\n",
      "\n",
      "[4622 rows x 1 columns]>\n",
      "\n",
      "✅ Final Items:\n",
      "                                       item_price  item_price_rupees\n",
      "item_name                                                           \n",
      "Chips and Fresh Tomato Salsa                 2.39              669.2\n",
      "Izze                                         3.39              949.2\n",
      "Nantucket Nectar                             3.39              949.2\n",
      "Chips and Tomatillo-Green Chili Salsa        2.39              669.2\n",
      "Chicken Bowl                                16.98             4754.4\n"
     ]
    }
   ],
   "source": [
    "# code here\n",
    "items = pd.read_csv('items.csv', index_col='item_name')\n",
    "\n",
    "print(\"I: \", items.isna().sum)\n",
    "\n",
    "items['item_price'] = items['item_price'].str.replace('$', '', regex=False).astype(float)\n",
    "\n",
    "# Multiply by 280 to convert to rupees\n",
    "items['item_price_rupees'] = items['item_price'] * 280\n",
    "\n",
    "# iv. Fill NaN (if any) in the new series with its mean\n",
    "items['item_price_rupees'] = items['item_price_rupees'].fillna(items['item_price_rupees'].mean())\n",
    "\n",
    "print(\"\\n✅ Final Items:\")\n",
    "print(items.head())"
   ]
  },
  {
   "cell_type": "markdown",
   "metadata": {
    "id": "UHc_4e9cZK8r"
   },
   "source": [
    "###`Q-10`: \n",
    "    i. Find mean price\n",
    "    ii. Find 30th and 6th percentile value\n",
    "    iii. Plot Histogram on price with bin size 50\n",
    "    iv. No of items price lies between [1000 to 2000]\n",
    "\n"
   ]
  },
  {
   "cell_type": "code",
   "execution_count": 52,
   "metadata": {
    "id": "Eh3xX9FpZNmE"
   },
   "outputs": [
    {
     "name": "stdout",
     "output_type": "stream",
     "text": [
      "Mean:  2089.6488188976377\n",
      "30th Percentile:  1246.0\n",
      "6th Percentile:  350.0\n"
     ]
    }
   ],
   "source": [
    "# code here\n",
    "mean = items['item_price_rupees'].mean()\n",
    "p30 = items['item_price_rupees'].quantile(0.30)\n",
    "p6 = items['item_price_rupees'].quantile(0.06)\n",
    "\n",
    "print(\"Mean: \", mean)\n",
    "print(\"30th Percentile: \", p30)\n",
    "print(\"6th Percentile: \", p6)"
   ]
  },
  {
   "cell_type": "code",
   "execution_count": 55,
   "metadata": {},
   "outputs": [
    {
     "data": {
      "image/png": "[encoded data removed]",
      "text/plain": [
       "<Figure size 800x500 with 1 Axes>"
      ]
     },
     "metadata": {},
     "output_type": "display_data"
    }
   ],
   "source": [
    "import matplotlib.pyplot as plt\n",
    "\n",
    "# iii. Plot Histogram with bin size 50\n",
    "plt.figure(figsize=(8, 5))\n",
    "plt.hist(items['item_price_rupees'], bins=range(0, int(items['item_price_rupees'].max()) + 50, 50), edgecolor='black')\n",
    "plt.title(\"Histogram of Item Prices (in PKR)\")\n",
    "plt.xlabel(\"Price (PKR)\")\n",
    "plt.ylabel(\"Number of Items\")\n",
    "plt.grid(True)\n",
    "plt.show()"
   ]
  },
  {
   "cell_type": "code",
   "execution_count": 56,
   "metadata": {},
   "outputs": [
    {
     "data": {
      "text/html": [
       "<div>\n",
       "<style scoped>\n",
       "    .dataframe tbody tr th:only-of-type {\n",
       "        vertical-align: middle;\n",
       "    }\n",
       "\n",
       "    .dataframe tbody tr th {\n",
       "        vertical-align: top;\n",
       "    }\n",
       "\n",
       "    .dataframe thead th {\n",
       "        text-align: right;\n",
       "    }\n",
       "</style>\n",
       "<table border=\"1\" class=\"dataframe\">\n",
       "  <thead>\n",
       "    <tr style=\"text-align: right;\">\n",
       "      <th></th>\n",
       "      <th>item_price</th>\n",
       "      <th>item_price_rupees</th>\n",
       "    </tr>\n",
       "    <tr>\n",
       "      <th>item_name</th>\n",
       "      <th></th>\n",
       "      <th></th>\n",
       "    </tr>\n",
       "  </thead>\n",
       "  <tbody>\n",
       "    <tr>\n",
       "      <th>Chips and Guacamole</th>\n",
       "      <td>4.45</td>\n",
       "      <td>1246.0</td>\n",
       "    </tr>\n",
       "    <tr>\n",
       "      <th>Chips and Guacamole</th>\n",
       "      <td>4.45</td>\n",
       "      <td>1246.0</td>\n",
       "    </tr>\n",
       "    <tr>\n",
       "      <th>Chips and Guacamole</th>\n",
       "      <td>4.45</td>\n",
       "      <td>1246.0</td>\n",
       "    </tr>\n",
       "    <tr>\n",
       "      <th>Chips and Guacamole</th>\n",
       "      <td>4.45</td>\n",
       "      <td>1246.0</td>\n",
       "    </tr>\n",
       "    <tr>\n",
       "      <th>Chips and Guacamole</th>\n",
       "      <td>4.45</td>\n",
       "      <td>1246.0</td>\n",
       "    </tr>\n",
       "    <tr>\n",
       "      <th>...</th>\n",
       "      <td>...</td>\n",
       "      <td>...</td>\n",
       "    </tr>\n",
       "    <tr>\n",
       "      <th>Chips and Guacamole</th>\n",
       "      <td>4.45</td>\n",
       "      <td>1246.0</td>\n",
       "    </tr>\n",
       "    <tr>\n",
       "      <th>Chips and Guacamole</th>\n",
       "      <td>4.45</td>\n",
       "      <td>1246.0</td>\n",
       "    </tr>\n",
       "    <tr>\n",
       "      <th>Chips and Guacamole</th>\n",
       "      <td>4.45</td>\n",
       "      <td>1246.0</td>\n",
       "    </tr>\n",
       "    <tr>\n",
       "      <th>Chips and Guacamole</th>\n",
       "      <td>4.45</td>\n",
       "      <td>1246.0</td>\n",
       "    </tr>\n",
       "    <tr>\n",
       "      <th>Chips and Guacamole</th>\n",
       "      <td>4.45</td>\n",
       "      <td>1246.0</td>\n",
       "    </tr>\n",
       "  </tbody>\n",
       "</table>\n",
       "<p>553 rows × 2 columns</p>\n",
       "</div>"
      ],
      "text/plain": [
       "                     item_price  item_price_rupees\n",
       "item_name                                         \n",
       "Chips and Guacamole        4.45             1246.0\n",
       "Chips and Guacamole        4.45             1246.0\n",
       "Chips and Guacamole        4.45             1246.0\n",
       "Chips and Guacamole        4.45             1246.0\n",
       "Chips and Guacamole        4.45             1246.0\n",
       "...                         ...                ...\n",
       "Chips and Guacamole        4.45             1246.0\n",
       "Chips and Guacamole        4.45             1246.0\n",
       "Chips and Guacamole        4.45             1246.0\n",
       "Chips and Guacamole        4.45             1246.0\n",
       "Chips and Guacamole        4.45             1246.0\n",
       "\n",
       "[553 rows x 2 columns]"
      ]
     },
     "execution_count": 56,
     "metadata": {},
     "output_type": "execute_result"
    }
   ],
   "source": [
    "items[(items['item_price_rupees'] > 1000) & (items['item_price_rupees'] < 2000)] "
   ]
  }
 ],
 "metadata": {
  "colab": {
   "authorship_tag": "ABX9TyN0Z9SWb14COYG2fwcj+bud",
   "provenance": []
  },
  "kernelspec": {
   "display_name": "Python 3 (ipykernel)",
   "language": "python",
   "name": "python3"
  },
  "language_info": {
   "codemirror_mode": {
    "name": "ipython",
    "version": 3
   },
   "file_extension": ".py",
   "mimetype": "text/x-python",
   "name": "python",
   "nbconvert_exporter": "python",
   "pygments_lexer": "ipython3",
   "version": "3.13.5"
  }
 },
 "nbformat": 4,
 "nbformat_minor": 4
}
