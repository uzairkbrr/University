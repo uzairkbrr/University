{
 "cells": [
  {
   "cell_type": "code",
   "execution_count": 10,
   "metadata": {
    "id": "u7ShJC6QbJOo"
   },
   "outputs": [
    {
     "data": {
      "text/plain": [
       "'https://raw.githubusercontent.com/justmarkham/DAT8/master/data/chipotle.tsv'"
      ]
     },
     "execution_count": 10,
     "metadata": {},
     "output_type": "execute_result"
    }
   ],
   "source": [
    "\"https://raw.githubusercontent.com/justmarkham/DAT8/master/data/chipotle.tsv\""
   ]
  },
  {
   "cell_type": "markdown",
   "metadata": {
    "id": "sM-WXcZmbTCW"
   },
   "source": [
    "## Basic DataFrame\n",
    "\n",
    "Consider the following Python dictionary data and Python list labels:\n",
    "\n",
    "```\n",
    "data = {'birds': ['Cranes', 'Cranes', 'plovers', 'spoonbills', 'spoonbills', 'Cranes', 'plovers', 'Cranes', 'spoonbills', 'spoonbills', 'Cranes'], \n",
    "        'age': [3.5, 4, 1.5, np.nan, 6, 3, 5.5, np.nan, 8, 4, 3.5], 'visits': [2, 4, 3, 4, 3, 4, 2, 2, 3, 2, 2], \n",
    "        'priority': ['yes', 'yes', 'no', np.nan, 'no', 'no', 'no', 'yes', 'no', 'no','yes']}\n",
    "```\n",
    "```\n",
    "labels = ['a', 'b', 'c', 'd', 'e', 'f', 'g', 'h', 'i', 'j', 'k']\n",
    "```"
   ]
  },
  {
   "cell_type": "markdown",
   "metadata": {
    "id": "fbl_dILPbZ9e"
   },
   "source": [
    "###`Q-1:` \n",
    "i. Create a DataFrame birds from the above dictionary data which has the index labels. \n",
    "\n",
    "ii. Display basic information about the dataFrame.\n",
    "\n",
    "iii. Show Alternate rows of the dataframe."
   ]
  },
  {
   "cell_type": "code",
   "execution_count": 11,
   "metadata": {},
   "outputs": [],
   "source": [
    "import pandas as pd\n",
    "import numpy as np"
   ]
  },
  {
   "cell_type": "code",
   "execution_count": 12,
   "metadata": {
    "id": "FsGlueHWbZCr"
   },
   "outputs": [],
   "source": [
    "# code here\n",
    "\n",
    "# Read the TSV (tab-separated) file from URL\n",
    "url = \"https://raw.githubusercontent.com/justmarkham/DAT8/master/data/chipotle.tsv\"\n",
    "df = pd.read_csv(url, sep='\\t')"
   ]
  },
  {
   "cell_type": "code",
   "execution_count": 13,
   "metadata": {},
   "outputs": [
    {
     "name": "stdout",
     "output_type": "stream",
     "text": [
      "<class 'pandas.core.frame.DataFrame'>\n",
      "RangeIndex: 4622 entries, 0 to 4621\n",
      "Data columns (total 5 columns):\n",
      " #   Column              Non-Null Count  Dtype \n",
      "---  ------              --------------  ----- \n",
      " 0   order_id            4622 non-null   int64 \n",
      " 1   quantity            4622 non-null   int64 \n",
      " 2   item_name           4622 non-null   object\n",
      " 3   choice_description  3376 non-null   object\n",
      " 4   item_price          4622 non-null   object\n",
      "dtypes: int64(2), object(3)\n",
      "memory usage: 180.7+ KB\n"
     ]
    }
   ],
   "source": [
    "df.info()"
   ]
  },
  {
   "cell_type": "code",
   "execution_count": 14,
   "metadata": {},
   "outputs": [
    {
     "name": "stdout",
     "output_type": "stream",
     "text": [
      "\n",
      "📄 Alternate Rows:\n",
      "      order_id  quantity                     item_name  \\\n",
      "0            1         1  Chips and Fresh Tomato Salsa   \n",
      "2            1         1              Nantucket Nectar   \n",
      "4            2         2                  Chicken Bowl   \n",
      "6            3         1                 Side of Chips   \n",
      "8            4         1              Steak Soft Tacos   \n",
      "...        ...       ...                           ...   \n",
      "4612      1831         1                 Carnitas Bowl   \n",
      "4614      1831         1                 Bottled Water   \n",
      "4616      1832         1           Chips and Guacamole   \n",
      "4618      1833         1                 Steak Burrito   \n",
      "4620      1834         1            Chicken Salad Bowl   \n",
      "\n",
      "                                     choice_description item_price  \n",
      "0                                                   NaN     $2.39   \n",
      "2                                               [Apple]     $3.39   \n",
      "4     [Tomatillo-Red Chili Salsa (Hot), [Black Beans...    $16.98   \n",
      "6                                                   NaN     $1.69   \n",
      "8     [Tomatillo Green Chili Salsa, [Pinto Beans, Ch...     $9.25   \n",
      "...                                                 ...        ...  \n",
      "4612  [Fresh Tomato Salsa, [Fajita Vegetables, Rice,...     $9.25   \n",
      "4614                                                NaN     $1.50   \n",
      "4616                                                NaN     $4.45   \n",
      "4618  [Fresh Tomato Salsa, [Rice, Sour Cream, Cheese...    $11.75   \n",
      "4620  [Fresh Tomato Salsa, [Fajita Vegetables, Lettu...     $8.75   \n",
      "\n",
      "[2311 rows x 5 columns]\n"
     ]
    }
   ],
   "source": [
    "print(\"\\n📄 Alternate Rows:\")\n",
    "print(df.iloc[::2])"
   ]
  },
  {
   "cell_type": "markdown",
   "metadata": {
    "id": "06X1G_sbbe2K"
   },
   "source": [
    "###`Q-2:` \n",
    "i. Show only rows [1st, 3rd, 7th] from columns ['bird', 'age']\n",
    "\n",
    "ii. Select rows where the number of visits is less than 4."
   ]
  },
  {
   "cell_type": "code",
   "execution_count": 26,
   "metadata": {
    "id": "5ceryOqrbhB6"
   },
   "outputs": [],
   "source": [
    "# There's no column like bird and age in the dataset."
   ]
  },
  {
   "cell_type": "markdown",
   "metadata": {
    "id": "biVrhUo2biZm"
   },
   "source": [
    "###`Q-3:` \n",
    "i. Select all rows with nan values in age and visits column.\n",
    "\n",
    "ii. Fill nan with respective series mode value."
   ]
  },
  {
   "cell_type": "code",
   "execution_count": 29,
   "metadata": {
    "id": "Qe8KrN_UbkPW"
   },
   "outputs": [
    {
     "data": {
      "text/html": [
       "<div>\n",
       "<style scoped>\n",
       "    .dataframe tbody tr th:only-of-type {\n",
       "        vertical-align: middle;\n",
       "    }\n",
       "\n",
       "    .dataframe tbody tr th {\n",
       "        vertical-align: top;\n",
       "    }\n",
       "\n",
       "    .dataframe thead th {\n",
       "        text-align: right;\n",
       "    }\n",
       "</style>\n",
       "<table border=\"1\" class=\"dataframe\">\n",
       "  <thead>\n",
       "    <tr style=\"text-align: right;\">\n",
       "      <th></th>\n",
       "      <th>order_id</th>\n",
       "      <th>quantity</th>\n",
       "      <th>item_name</th>\n",
       "      <th>choice_description</th>\n",
       "      <th>item_price</th>\n",
       "    </tr>\n",
       "  </thead>\n",
       "  <tbody>\n",
       "    <tr>\n",
       "      <th>0</th>\n",
       "      <td>False</td>\n",
       "      <td>False</td>\n",
       "      <td>False</td>\n",
       "      <td>True</td>\n",
       "      <td>False</td>\n",
       "    </tr>\n",
       "    <tr>\n",
       "      <th>1</th>\n",
       "      <td>False</td>\n",
       "      <td>False</td>\n",
       "      <td>False</td>\n",
       "      <td>False</td>\n",
       "      <td>False</td>\n",
       "    </tr>\n",
       "    <tr>\n",
       "      <th>2</th>\n",
       "      <td>False</td>\n",
       "      <td>False</td>\n",
       "      <td>False</td>\n",
       "      <td>False</td>\n",
       "      <td>False</td>\n",
       "    </tr>\n",
       "    <tr>\n",
       "      <th>3</th>\n",
       "      <td>False</td>\n",
       "      <td>False</td>\n",
       "      <td>False</td>\n",
       "      <td>True</td>\n",
       "      <td>False</td>\n",
       "    </tr>\n",
       "    <tr>\n",
       "      <th>4</th>\n",
       "      <td>False</td>\n",
       "      <td>False</td>\n",
       "      <td>False</td>\n",
       "      <td>False</td>\n",
       "      <td>False</td>\n",
       "    </tr>\n",
       "    <tr>\n",
       "      <th>...</th>\n",
       "      <td>...</td>\n",
       "      <td>...</td>\n",
       "      <td>...</td>\n",
       "      <td>...</td>\n",
       "      <td>...</td>\n",
       "    </tr>\n",
       "    <tr>\n",
       "      <th>4617</th>\n",
       "      <td>False</td>\n",
       "      <td>False</td>\n",
       "      <td>False</td>\n",
       "      <td>False</td>\n",
       "      <td>False</td>\n",
       "    </tr>\n",
       "    <tr>\n",
       "      <th>4618</th>\n",
       "      <td>False</td>\n",
       "      <td>False</td>\n",
       "      <td>False</td>\n",
       "      <td>False</td>\n",
       "      <td>False</td>\n",
       "    </tr>\n",
       "    <tr>\n",
       "      <th>4619</th>\n",
       "      <td>False</td>\n",
       "      <td>False</td>\n",
       "      <td>False</td>\n",
       "      <td>False</td>\n",
       "      <td>False</td>\n",
       "    </tr>\n",
       "    <tr>\n",
       "      <th>4620</th>\n",
       "      <td>False</td>\n",
       "      <td>False</td>\n",
       "      <td>False</td>\n",
       "      <td>False</td>\n",
       "      <td>False</td>\n",
       "    </tr>\n",
       "    <tr>\n",
       "      <th>4621</th>\n",
       "      <td>False</td>\n",
       "      <td>False</td>\n",
       "      <td>False</td>\n",
       "      <td>False</td>\n",
       "      <td>False</td>\n",
       "    </tr>\n",
       "  </tbody>\n",
       "</table>\n",
       "<p>4622 rows × 5 columns</p>\n",
       "</div>"
      ],
      "text/plain": [
       "      order_id  quantity  item_name  choice_description  item_price\n",
       "0        False     False      False                True       False\n",
       "1        False     False      False               False       False\n",
       "2        False     False      False               False       False\n",
       "3        False     False      False                True       False\n",
       "4        False     False      False               False       False\n",
       "...        ...       ...        ...                 ...         ...\n",
       "4617     False     False      False               False       False\n",
       "4618     False     False      False               False       False\n",
       "4619     False     False      False               False       False\n",
       "4620     False     False      False               False       False\n",
       "4621     False     False      False               False       False\n",
       "\n",
       "[4622 rows x 5 columns]"
      ]
     },
     "execution_count": 29,
     "metadata": {},
     "output_type": "execute_result"
    }
   ],
   "source": [
    "# code here\n",
    "df.isna()\n",
    "# the questions and data is different"
   ]
  },
  {
   "cell_type": "markdown",
   "metadata": {
    "id": "PcYTOjqUblrF"
   },
   "source": [
    "###`Q-4`\n",
    "i. Find the total number of visits of the bird Cranes\n",
    "\n",
    "ii. Find the number of each type of birds in dataframe.\n",
    "\n",
    "iii. Print no of duplicate rows\n",
    "\n",
    "iv. Drop Duplicates rows and make this changes permanent. Show dataframe after changes."
   ]
  },
  {
   "cell_type": "code",
   "execution_count": 17,
   "metadata": {
    "id": "O92x1vp0bngT"
   },
   "outputs": [],
   "source": [
    "# code here"
   ]
  },
  {
   "cell_type": "markdown",
   "metadata": {
    "id": "sqOZLR5YbpD3"
   },
   "source": [
    "##Question on IPL Data\n",
    "\n",
    "IPL Data Link :  https://drive.google.com/file/d/1yKVUuexl6lIKuFQy7uIPgDgXhJ0L4SIg/view?usp=share_link\n",
    "\n",
    "https://www.kaggle.com/datasets/vora1011/ipl-2008-to-2021-all-match-dataset?select=IPL_Matches_2008_2022.csv\n",
    "\n",
    "Download ipl matches 2008-2022 file."
   ]
  },
  {
   "cell_type": "markdown",
   "metadata": {
    "id": "MCNrLdLxbvuq"
   },
   "source": [
    "###`Q-5:` In IPL matches dataset some teams name has changed. \n",
    "You will have to consider them as same.\n",
    "```\n",
    "'Delhi Capitals' formerly as 'Delhi Daredevils' \n",
    "'Punjab Kings' formerly as 'Kings XI Punjab'\n",
    "'Rising Pune Supergiant' formerly as 'Rising Pune Supergiants'\n",
    "```\n",
    "You need to make changes accordingly. Consider current name for each teams.\n",
    "\n",
    "Be careful Gujrat Titans and Gujrat Lions are different teams. "
   ]
  },
  {
   "cell_type": "markdown",
   "metadata": {
    "id": "vL5TaqJxbzUd"
   },
   "source": [
    "###`Q-6` Write a code which can display the bar chart of top 5 teams who have played maximum number of matches in the IPL.\n",
    ">  Hint: Be careful the data is divided in 2 different cols(Team 1 and Team 2)\n"
   ]
  },
  {
   "cell_type": "code",
   "execution_count": 36,
   "metadata": {
    "id": "gf1uEhRlbunm"
   },
   "outputs": [],
   "source": [
    "# code here\n",
    "df = pd.read_csv('IPL_Matches_2008_2022.csv')\n",
    "\n",
    "all_teams = pd.concat([df['Team1'], df['Team2']])\n",
    "match_counts = all_teams.value_counts()\n",
    "top_5_teams = match_counts.head(5)"
   ]
  },
  {
   "cell_type": "code",
   "execution_count": 37,
   "metadata": {},
   "outputs": [],
   "source": [
    "import matplotlib.pyplot as plt"
   ]
  },
  {
   "cell_type": "code",
   "execution_count": 44,
   "metadata": {},
   "outputs": [
    {
     "data": {
      "image/png": "[encoded data removed]",
      "text/plain": [
       "<Figure size 800x500 with 1 Axes>"
      ]
     },
     "metadata": {},
     "output_type": "display_data"
    }
   ],
   "source": [
    "plt.figure(figsize=(8,5))\n",
    "top_5_teams.plot(kind='bar', color='skyblue', edgecolor='black')\n",
    "plt.title(\"Top 5 Teams with Most Matches Played in IPL\")\n",
    "plt.xlabel(\"Team\")\n",
    "plt.ylabel(\"Number of Matches\")\n",
    "plt.xticks(rotation=45)\n",
    "plt.grid(axis='y', linestyle='--', alpha=0.7)\n",
    "plt.tight_layout()\n",
    "plt.show()"
   ]
  },
  {
   "cell_type": "markdown",
   "metadata": {
    "id": "VORfLMaVb3E2"
   },
   "source": [
    "###`Q-7:` Player who got Most no. of player of the match award playing against Mumbai Indians.\n",
    "> Just for this question assume player of the match award is given to players from winning team. Although this is true in most of the cases.\n"
   ]
  },
  {
   "cell_type": "code",
   "execution_count": 46,
   "metadata": {},
   "outputs": [
    {
     "data": {
      "text/html": [
       "<div>\n",
       "<style scoped>\n",
       "    .dataframe tbody tr th:only-of-type {\n",
       "        vertical-align: middle;\n",
       "    }\n",
       "\n",
       "    .dataframe tbody tr th {\n",
       "        vertical-align: top;\n",
       "    }\n",
       "\n",
       "    .dataframe thead th {\n",
       "        text-align: right;\n",
       "    }\n",
       "</style>\n",
       "<table border=\"1\" class=\"dataframe\">\n",
       "  <thead>\n",
       "    <tr style=\"text-align: right;\">\n",
       "      <th></th>\n",
       "      <th>ID</th>\n",
       "      <th>City</th>\n",
       "      <th>Date</th>\n",
       "      <th>Season</th>\n",
       "      <th>MatchNumber</th>\n",
       "      <th>Team1</th>\n",
       "      <th>Team2</th>\n",
       "      <th>Venue</th>\n",
       "      <th>TossWinner</th>\n",
       "      <th>TossDecision</th>\n",
       "      <th>SuperOver</th>\n",
       "      <th>WinningTeam</th>\n",
       "      <th>WonBy</th>\n",
       "      <th>Margin</th>\n",
       "      <th>method</th>\n",
       "      <th>Player_of_Match</th>\n",
       "      <th>Team1Players</th>\n",
       "      <th>Team2Players</th>\n",
       "      <th>Umpire1</th>\n",
       "      <th>Umpire2</th>\n",
       "    </tr>\n",
       "  </thead>\n",
       "  <tbody>\n",
       "    <tr>\n",
       "      <th>0</th>\n",
       "      <td>1312200</td>\n",
       "      <td>Ahmedabad</td>\n",
       "      <td>2022-05-29</td>\n",
       "      <td>2022</td>\n",
       "      <td>Final</td>\n",
       "      <td>Rajasthan Royals</td>\n",
       "      <td>Gujarat Titans</td>\n",
       "      <td>Narendra Modi Stadium, Ahmedabad</td>\n",
       "      <td>Rajasthan Royals</td>\n",
       "      <td>bat</td>\n",
       "      <td>N</td>\n",
       "      <td>Gujarat Titans</td>\n",
       "      <td>Wickets</td>\n",
       "      <td>7.0</td>\n",
       "      <td>NaN</td>\n",
       "      <td>HH Pandya</td>\n",
       "      <td>['YBK Jaiswal', 'JC Buttler', 'SV Samson', 'D ...</td>\n",
       "      <td>['WP Saha', 'Shubman Gill', 'MS Wade', 'HH Pan...</td>\n",
       "      <td>CB Gaffaney</td>\n",
       "      <td>Nitin Menon</td>\n",
       "    </tr>\n",
       "  </tbody>\n",
       "</table>\n",
       "</div>"
      ],
      "text/plain": [
       "        ID       City        Date Season MatchNumber             Team1  \\\n",
       "0  1312200  Ahmedabad  2022-05-29   2022       Final  Rajasthan Royals   \n",
       "\n",
       "            Team2                             Venue        TossWinner  \\\n",
       "0  Gujarat Titans  Narendra Modi Stadium, Ahmedabad  Rajasthan Royals   \n",
       "\n",
       "  TossDecision SuperOver     WinningTeam    WonBy  Margin method  \\\n",
       "0          bat         N  Gujarat Titans  Wickets     7.0    NaN   \n",
       "\n",
       "  Player_of_Match                                       Team1Players  \\\n",
       "0       HH Pandya  ['YBK Jaiswal', 'JC Buttler', 'SV Samson', 'D ...   \n",
       "\n",
       "                                        Team2Players      Umpire1      Umpire2  \n",
       "0  ['WP Saha', 'Shubman Gill', 'MS Wade', 'HH Pan...  CB Gaffaney  Nitin Menon  "
      ]
     },
     "execution_count": 46,
     "metadata": {},
     "output_type": "execute_result"
    }
   ],
   "source": [
    "df.head(1)"
   ]
  },
  {
   "cell_type": "code",
   "execution_count": 51,
   "metadata": {
    "id": "9e5ZROJgb5ie"
   },
   "outputs": [
    {
     "name": "stdout",
     "output_type": "stream",
     "text": [
      "🏆 Player with most Player of the Match awards *against* Mumbai Indians: KL Rahul (4 times)\n"
     ]
    }
   ],
   "source": [
    "# code here\n",
    "# Step 1: Filter matches where Mumbai Indians were either Team1 or Team2\n",
    "mi_matches = df[(df['Team1'] == 'Mumbai Indians') | (df['Team2'] == 'Mumbai Indians')]\n",
    "\n",
    "# Step 2: Filter only matches where the Player of the Match is from the winning team\n",
    "# (Assumed as per question: the award is given to a player from the winning team)\n",
    "mi_matches = mi_matches[mi_matches['WinningTeam'].notna() & (mi_matches['Player_of_Match'].notna())]\n",
    "\n",
    "# Step 3: Keep only matches where the opponent beat Mumbai Indians\n",
    "# We need Player of the Match from matches where Mumbai Indians **lost**\n",
    "mi_opponent_wins = mi_matches[mi_matches['WinningTeam'] != 'Mumbai Indians']\n",
    "\n",
    "# Step 4: Group by 'Player_of_the_Match' and count\n",
    "top_player = mi_opponent_wins['Player_of_Match'].value_counts().idxmax()\n",
    "top_count = mi_opponent_wins['Player_of_Match'].value_counts().max()\n",
    "\n",
    "# Step 5: Display result\n",
    "print(f\"🏆 Player with most Player of the Match awards *against* Mumbai Indians: {top_player} ({top_count} times)\")"
   ]
  },
  {
   "cell_type": "markdown",
   "metadata": {
    "id": "cFLzm0egb7AT"
   },
   "source": [
    "###`Q-8:` Team1 vs Team2 Dashbord\n",
    "Create a function which will take two string(name of two teams) as input. Show win Loss record between them and player getting most player of the match award in matches between these two teams.\n",
    "```\n",
    "team1_vs_team2('Kolkata Knight Riders','Chennai Super Kings')\n",
    "```"
   ]
  },
  {
   "cell_type": "code",
   "execution_count": 53,
   "metadata": {
    "id": "2szkRN5Ab9Py"
   },
   "outputs": [
    {
     "name": "stdout",
     "output_type": "stream",
     "text": [
      "\n",
      "📊 Head-to-Head Record: Kolkata Knight Riders vs Chennai Super Kings\n",
      "WinningTeam\n",
      "Chennai Super Kings      17\n",
      "Kolkata Knight Riders     9\n",
      "\n",
      "🏆 Most Player of the Match awards:\n",
      "RA Jadeja (3 times)\n"
     ]
    }
   ],
   "source": [
    "# code here\n",
    "\n",
    "def team1_vs_team2(team_a, team_b):\n",
    "    # Step 1: Filter matches where both teams played against each other (in any order)\n",
    "    mask = (\n",
    "        ((df['Team1'] == team_a) & (df['Team2'] == team_b)) |\n",
    "        ((df['Team1'] == team_b) & (df['Team2'] == team_a))\n",
    "    )\n",
    "    matches = df[mask]\n",
    "    \n",
    "    # Step 2: Count wins for each team\n",
    "    win_counts = matches['WinningTeam'].value_counts()\n",
    "\n",
    "    # Step 3: Most Player of the Match winner in these matches\n",
    "    top_player = matches['Player_of_Match'].value_counts().idxmax()\n",
    "    top_awards = matches['Player_of_Match'].value_counts().max()\n",
    "\n",
    "    # Step 4: Display the result\n",
    "    print(f\"\\n📊 Head-to-Head Record: {team_a} vs {team_b}\")\n",
    "    print(win_counts.to_string())\n",
    "    \n",
    "    print(f\"\\n🏆 Most Player of the Match awards:\")\n",
    "    print(f\"{top_player} ({top_awards} times)\")\n",
    "\n",
    "# Example usage\n",
    "team1_vs_team2('Kolkata Knight Riders', 'Chennai Super Kings')"
   ]
  },
  {
   "cell_type": "markdown",
   "metadata": {
    "id": "sb0c3Gc1b-bd"
   },
   "source": [
    "### `Q-9:` Find out the top 7 cities where the matches of Kolkata Knight Riders are played frequently and plot the result as bar chart. \n",
    "\n",
    "*`.plot(kind = \"bar\")` can help you to plot the bar chart. Also you can learn more about this method from [here](https://pandas.pydata.org/docs/reference/api/pandas.DataFrame.plot.html)*\n",
    "\n"
   ]
  },
  {
   "cell_type": "code",
   "execution_count": 54,
   "metadata": {
    "id": "FH-Pq14ncAZy"
   },
   "outputs": [
    {
     "data": {
      "image/png": "[encoded data removed]",
      "text/plain": [
       "<Figure size 640x480 with 1 Axes>"
      ]
     },
     "metadata": {},
     "output_type": "display_data"
    }
   ],
   "source": [
    "# code here\n",
    "# Step 1: Filter matches where KKR played as Team1 or Team2\n",
    "kkr_matches = df[(df['Team1'] == 'Kolkata Knight Riders') | (df['Team2'] == 'Kolkata Knight Riders')]\n",
    "\n",
    "# Step 2: Count number of matches in each city\n",
    "city_counts = kkr_matches['City'].value_counts().head(7)\n",
    "\n",
    "# Step 3: Plot the bar chart\n",
    "city_counts.plot(kind='bar', color='purple', edgecolor='black')\n",
    "plt.title(\"Top 7 Cities Where KKR Played Most Frequently\")\n",
    "plt.xlabel(\"City\")\n",
    "plt.ylabel(\"Number of Matches\")\n",
    "plt.xticks(rotation=45)\n",
    "plt.grid(axis='y', linestyle='--', alpha=0.6)\n",
    "plt.tight_layout()\n",
    "plt.show()"
   ]
  },
  {
   "cell_type": "markdown",
   "metadata": {
    "id": "NPiPNoJUcBmk"
   },
   "source": [
    "### `Q-10:` Find out the average margin for the team Mumbai Indians for only the session 2011."
   ]
  },
  {
   "cell_type": "code",
   "execution_count": 75,
   "metadata": {
    "id": "WPbS12ThcEAj"
   },
   "outputs": [
    {
     "name": "stdout",
     "output_type": "stream",
     "text": [
      "📊 Average win margin for Mumbai Indians in 2011: nan\n"
     ]
    }
   ],
   "source": [
    "# code here\n",
    "\n",
    "# Normalize WinningTeam name\n",
    "df['WinningTeam'] = df['WinningTeam'].str.strip().str.title()\n",
    "\n",
    "# Filter MI wins in 2011\n",
    "mi_2011 = df[(df['Season'] == 2011) & (df['WinningTeam'] == 'Mumbai Indians')]\n",
    "\n",
    "# Convert Margin to numeric and calculate average\n",
    "mi_2011['Margin'] = pd.to_numeric(mi_2011['Margin'], errors='coerce')\n",
    "avg_margin = mi_2011['Margin'].mean()\n",
    "\n",
    "# There's no match of Mumbai Indians in 2011\n",
    "print(f\"📊 Average win margin for Mumbai Indians in 2011: {avg_margin:.2f}\")"
   ]
  }
 ],
 "metadata": {
  "colab": {
   "authorship_tag": "ABX9TyORcsfKCASdSGnzHHfQLLQZ",
   "provenance": []
  },
  "kernelspec": {
   "display_name": "Python 3 (ipykernel)",
   "language": "python",
   "name": "python3"
  },
  "language_info": {
   "codemirror_mode": {
    "name": "ipython",
    "version": 3
   },
   "file_extension": ".py",
   "mimetype": "text/x-python",
   "name": "python",
   "nbconvert_exporter": "python",
   "pygments_lexer": "ipython3",
   "version": "3.13.5"
  }
 },
 "nbformat": 4,
 "nbformat_minor": 4
}
