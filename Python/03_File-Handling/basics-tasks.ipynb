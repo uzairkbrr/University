{
 "cells": [
  {
   "cell_type": "markdown",
   "metadata": {
    "id": "MbeMdx5d5qRj"
   },
   "source": [
    "### `Q-1:` Write a function `get_final_line(filename)`, which takes filename as input and return final line of the file.\n",
    "\n",
    "Note: You can choose any file of your choice."
   ]
  },
  {
   "cell_type": "code",
   "execution_count": null,
   "metadata": {
    "id": "rjx9XRTq5uzD"
   },
   "outputs": [
    {
     "name": "stdout",
     "output_type": "stream",
     "text": [
      "['My name is Uzair ahmad\\n', \"and I'm learning Data Science\\n\", \"Currently, I'm working on a task to get last line of a file.\"]\n"
     ]
    },
    {
     "data": {
      "text/plain": [
       "\"Currently, I'm working on a task to get last line of a file.\""
      ]
     },
     "execution_count": 9,
     "metadata": {},
     "output_type": "execute_result"
    }
   ],
   "source": [
    "# Write code here\n",
    "def get_final_line(filename):\n",
    "  file = open(filename, 'r')\n",
    "  lines = file.readlines()\n",
    "  file.close()\n",
    "\n",
    "  if lines:\n",
    "    return lines[-1].strip()\n",
    "  else:\n",
    "    return \"File is empty\"\n",
    "\n",
    "\n",
    "file = 'q1.txt'\n",
    "get_final_line(file)"
   ]
  },
  {
   "cell_type": "markdown",
   "metadata": {
    "id": "B87Z6-yQ5wVO"
   },
   "source": [
    "###`Q-2:` Read through a text file, line by line. Use a dict to keep track of how many times each vowel (a, e, i, o, and u) appears in the file. Print the resulting tabulation -- dictionary. "
   ]
  },
  {
   "cell_type": "code",
   "execution_count": 13,
   "metadata": {
    "id": "XeXnOL7X50Sa"
   },
   "outputs": [
    {
     "data": {
      "text/plain": [
       "{'a': 12, 'i': 9, 'e': 8, 'o': 4, 'u': 2}"
      ]
     },
     "execution_count": 13,
     "metadata": {},
     "output_type": "execute_result"
    }
   ],
   "source": [
    "# Write code here\n",
    "vowels = {'a': 0, 'i': 0, 'e': 0, 'o': 0, 'u': 0}\n",
    "\n",
    "with open(file, 'r') as f:\n",
    "  lines = f.readlines()\n",
    "\n",
    "  for line in lines:\n",
    "    for char in line:\n",
    "      char = char.lower()\n",
    "      if char in vowels:\n",
    "        vowels[char] += 1\n",
    "\n",
    "vowels"
   ]
  },
  {
   "cell_type": "markdown",
   "metadata": {
    "id": "lRqQ2Y295-Gg"
   },
   "source": [
    "###`Q-3:` Create a text file (using an editor, not necessarily Python) containing two tab separated columns, with each column containing a number. Then use Python to read through the file you’ve created. For each line, multiply each first number by the second and include it in the file in third column. In last add a line Total, by summing the value of third column\n",
    "\n"
   ]
  },
  {
   "cell_type": "markdown",
   "metadata": {
    "id": "GtFfahZc6Bvg"
   },
   "source": [
    "Input File example: That you need to create\n",
    "```\n",
    "1   2\n",
    "3   4\n",
    "5   6\n",
    "7   8\n",
    "9   10\n",
    "\n",
    "```\n",
    "\n",
    "Output File Example:\n",
    "```\n",
    "1   2   2\n",
    "3   4   12\n",
    "5   6   30\n",
    "7   8   56\n",
    "9   10  90\n",
    "Total   190\n",
    "```\n"
   ]
  },
  {
   "cell_type": "code",
   "execution_count": 54,
   "metadata": {
    "id": "GiKvqHnr5-j2"
   },
   "outputs": [],
   "source": [
    "# write code here\n",
    "def process_file(input_file, output_file):\n",
    "  total = 0\n",
    "\n",
    "  with open(input_file, 'r') as infile, open(output_file, 'w') as outfile:\n",
    "    for line in infile:\n",
    "      parts = line.strip().split()\n",
    "      if len(parts) == 2:\n",
    "        num1 = int(parts[0])\n",
    "        num2 = int(parts[1])\n",
    "        product = num1 * num2\n",
    "        total += product\n",
    "        outfile.write(f\"{num1}\\t{num2}\\t{product}\\n\")\n",
    "\n",
    "    outfile.write(f\"Total\\t{total}\\n\")\n",
    "\n",
    "  with open(output_file, 'r') as result:\n",
    "    for line in result:\n",
    "      print(line.strip())\n"
   ]
  },
  {
   "cell_type": "code",
   "execution_count": null,
   "metadata": {},
   "outputs": [
    {
     "name": "stdout",
     "output_type": "stream",
     "text": [
      "1\t2\t2\n",
      "3\t4\t12\n",
      "5\t6\t30\n",
      "7\t8\t56\n",
      "9\t10\t90\n",
      "Total\t190\n"
     ]
    }
   ],
   "source": [
    "process_file('q3.txt', 'q3_result.txt')\n"
   ]
  },
  {
   "cell_type": "markdown",
   "metadata": {
    "id": "DunQepHC6J9r"
   },
   "source": [
    "###`Q-4:` Create line wise reverse of a file\n",
    "Write a function which takes two arguments: the names of the input file (to be read from) and the output file (which will be created)."
   ]
  },
  {
   "cell_type": "markdown",
   "metadata": {
    "id": "QxWEtFle6Nmu"
   },
   "source": [
    "For example, if a file looks like\n",
    " ```\n",
    "abc def\n",
    "ghi jkl\n",
    "```\n",
    "then the output file will be\n",
    "```\n",
    "fed cba\n",
    "lkj ihg\n",
    "```\n",
    "**Notice**: The newline remains at the end of the string, while the rest of the characters are all reversed."
   ]
  },
  {
   "cell_type": "code",
   "execution_count": null,
   "metadata": {
    "id": "aIJTJNAq6LD7"
   },
   "outputs": [
    {
     "name": "stdout",
     "output_type": "stream",
     "text": [
      "Result: \n",
      "fed cba\n",
      "lkj ihg"
     ]
    }
   ],
   "source": [
    "# write code here\n",
    "\n",
    "def reverse_store(input_file, output_file):\n",
    "  with open(input_file, 'r') as infile, open(output_file, 'w') as outfile:\n",
    "    for line in infile:\n",
    "      reversed = line[::-1]\n",
    "      outfile.write(reversed)\n",
    "\n",
    "  print(\"Result: \", end='')\n",
    "  with open(output_file, 'r') as result:\n",
    "    for line in result:\n",
    "      print(line, end='')\n",
    "\n",
    "input_file = 'q4.txt'\n",
    "output_file = 'q4_result.txt'\n",
    "\n",
    "reverse_store(input_file, output_file)"
   ]
  },
  {
   "cell_type": "markdown",
   "metadata": {
    "id": "wqvx3sMY6bou"
   },
   "source": [
    "###`Q-5:` Create a Serialized dict of frequency of words in the file. And from given list of words, using serialized dict show word count.\n",
    "\n",
    "* List of word will be given\n",
    "\n"
   ]
  },
  {
   "cell_type": "markdown",
   "metadata": {
    "id": "uc5MSUWg6cZG"
   },
   "source": [
    "Given String\n",
    "\n",
    "```\n",
    "strings = \"\"\"Alice was beginning to get very tired of sitting by her sister\n",
    "            on the bank, and of having nothing to do:  once or twice she had\n",
    "            peeped into the book her sister was reading, but it had no\n",
    "            pictures or conversations in it, `and what is the use of a book,'\n",
    "            thought Alice `without pictures or conversation?'\n",
    "\n",
    "            So she was considering in her own mind (as well as she could,\n",
    "            for the hot day made her feel very sleepy and stupid), whether\n",
    "            the pleasure of making a daisy-chain would be worth the trouble\n",
    "            of getting up and picking the daisies, when suddenly a White\n",
    "            Rabbit with pink eyes ran close by her.\n",
    "\n",
    "            There was nothing so VERY remarkable in that; nor did Alice\n",
    "            think it so VERY much out of the way to hear the Rabbit say to\n",
    "            itself, `Oh dear!  Oh dear!  I shall be late!'  (when she thought\n",
    "            it over afterwards, it occurred to her that she ought to have\n",
    "            wondered at this, but at the time it all seemed quite natural);\n",
    "            but when the Rabbit actually TOOK A WATCH OUT OF ITS WAISTCOAT-\n",
    "            POCKET, and looked at it, and then hurried on, Alice started to\n",
    "            her feet, for it flashed across her mind that she had never\n",
    "            before seen a rabbit with either a waistcoat-pocket, or a watch to\n",
    "            take out of it, and burning with curiosity, she ran across the\n",
    "            field after it, and fortunately was just in time to see it pop\n",
    "            down a large rabbit-hole under the hedge.\"\"\"\n",
    "\n",
    "word_list = ['alice', 'wonder', 'natural']\n",
    "```"
   ]
  },
  {
   "cell_type": "code",
   "execution_count": null,
   "metadata": {
    "id": "-SmtFFUq6a70"
   },
   "outputs": [
    {
     "name": "stdout",
     "output_type": "stream",
     "text": [
      "\n",
      "Word Frequencies from word_list:\n",
      "alice: 4\n",
      "wonder: 0\n",
      "natural: 1\n"
     ]
    }
   ],
   "source": [
    "# write code here\n",
    "import json\n",
    "import string\n",
    "\n",
    "# Provided string\n",
    "strings = \"\"\"Alice was beginning to get very tired of sitting by her sister\n",
    "            on the bank, and of having nothing to do:  once or twice she had\n",
    "            peeped into the book her sister was reading, but it had no\n",
    "            pictures or conversations in it, `and what is the use of a book,'\n",
    "            thought Alice `without pictures or conversation?'\n",
    "\n",
    "            So she was considering in her own mind (as well as she could,\n",
    "            for the hot day made her feel very sleepy and stupid), whether\n",
    "            the pleasure of making a daisy-chain would be worth the trouble\n",
    "            of getting up and picking the daisies, when suddenly a White\n",
    "            Rabbit with pink eyes ran close by her.\n",
    "\n",
    "            There was nothing so VERY remarkable in that; nor did Alice\n",
    "            think it so VERY much out of the way to hear the Rabbit say to\n",
    "            itself, `Oh dear!  Oh dear!  I shall be late!'  (when she thought\n",
    "            it over afterwards, it occurred to her that she ought to have\n",
    "            wondered at this, but at the time it all seemed quite natural);\n",
    "            but when the Rabbit actually TOOK A WATCH OUT OF ITS WAISTCOAT-\n",
    "            POCKET, and looked at it, and then hurried on, Alice started to\n",
    "            her feet, for it flashed across her mind that she had never\n",
    "            before seen a rabbit with either a waistcoat-pocket, or a watch to\n",
    "            take out of it, and burning with curiosity, she ran across the\n",
    "            field after it, and fortunately was just in time to see it pop\n",
    "            down a large rabbit-hole under the hedge.\"\"\"\n",
    "\n",
    "word_list = ['alice', 'wonder', 'natural']\n",
    "\n",
    "clean_text = strings.lower()\n",
    "clean_text = clean_text.translate(str.maketrans('', '', string.punctuation))\n",
    "words = clean_text.split()\n",
    "\n",
    "freq_dict = {}\n",
    "for word in words:\n",
    "  freq_dict[word] = freq_dict.get(word, 0) + 1\n",
    "\n",
    "serialized = json.dumps(freq_dict, indent=2)\n",
    "# print(\"Serialized Word Frequency Dict:\\n\", serialized)\n",
    "\n",
    "print(\"\\nWord Frequencies from word_list:\")\n",
    "for word in word_list:\n",
    "  print(f\"{word}: {freq_dict.get(word.lower(), 0)}\")\n"
   ]
  },
  {
   "cell_type": "markdown",
   "metadata": {
    "id": "Und2HuFW6kAw"
   },
   "source": [
    "### **`Q-6:`** Given a string calculate length of the string using recursion.\n",
    "\n",
    "**Example 1:**\n",
    "\n",
    "Input:\n",
    "```bash\n",
    "\"abcd\"\n",
    "```\n",
    "\n",
    "Output:\n",
    "\n",
    "```bash\n",
    "4\n",
    "```\n",
    "\n",
    "**Example 2:**\n",
    "\n",
    "Input:\n",
    "```bash\n",
    "DataScience\n",
    "```\n",
    "\n",
    "Output:\n",
    "\n",
    "```bash\n",
    "11\n",
    "```\n"
   ]
  },
  {
   "cell_type": "code",
   "execution_count": 3,
   "metadata": {
    "id": "9HE7lB5W61gT"
   },
   "outputs": [],
   "source": [
    "# Write code here\n",
    "def recursive_length(s):\n",
    "  if s == \"\":\n",
    "    return 0\n",
    "  return 1 + recursive_length(s[1:])"
   ]
  },
  {
   "cell_type": "code",
   "execution_count": 6,
   "metadata": {},
   "outputs": [
    {
     "name": "stdout",
     "output_type": "stream",
     "text": [
      "4\n",
      "11\n"
     ]
    }
   ],
   "source": [
    "print(recursive_length(\"abcd\"))\n",
    "print(recursive_length(\"DataScience\"))"
   ]
  },
  {
   "cell_type": "markdown",
   "metadata": {
    "id": "iUDvc-jl6759"
   },
   "source": [
    "### **`Q-7:`** Write a function that accepts two numbers and returns their greatest common divisior. Without using any loop\n",
    "\n",
    "def gcd(int, int) => int\n",
    "\n",
    "```\n",
    "gcd(16,24) will give 8\n",
    "```"
   ]
  },
  {
   "cell_type": "code",
   "execution_count": 7,
   "metadata": {
    "executionInfo": {
     "elapsed": 11,
     "status": "ok",
     "timestamp": 1669684080252,
     "user": {
      "displayName": "CampusX",
      "userId": "17274569631252575216"
     },
     "user_tz": -330
    },
    "id": "uMQnojHR7O2S"
   },
   "outputs": [],
   "source": [
    "# Write code here\n",
    "def gcd(a, b):\n",
    "  if b == 0:\n",
    "    return a\n",
    "  return gcd(b, a % b)\n"
   ]
  },
  {
   "cell_type": "code",
   "execution_count": null,
   "metadata": {},
   "outputs": [
    {
     "name": "stdout",
     "output_type": "stream",
     "text": [
      "8\n",
      "25\n",
      "1\n"
     ]
    }
   ],
   "source": [
    "print(gcd(16, 24))\n",
    "print(gcd(100, 25))\n",
    "print(gcd(9, 28))"
   ]
  },
  {
   "cell_type": "markdown",
   "metadata": {
    "id": "wFD35fva7Q_B"
   },
   "source": [
    " ### `Q-8:` String Edit Distance\n",
    "\n",
    " Use your recursive function to write a program that reads two strings from the\n",
    "user and displays the edit distance between them.\n",
    "\n",
    "*The edit distance between two strings is a measure of their similarity—the smaller the edit distance, the more similar the strings are with regard to the minimum number of insert, delete and substitute operations needed to transform one string into the other.*\n",
    "\n",
    "Consider the strings `kitten` and `sitting`. The first string can be transformed\n",
    "into the second string with the following operations: \n",
    "* Substitute the `k` with an `s`, \n",
    "* substitute the `e` with an `i`, \n",
    "* and insert a `g` at the end of the string. \n",
    "\n",
    "This is the smallest number of operations that can be performed to transform kitten into sitting. As a result, the edit distance is `3`.\n",
    "\n",
    "\n",
    "Write a recursive function that computes the edit distance between two strings.\n",
    "\n",
    "Use the following algorithm:\n",
    "\n",
    "```\n",
    "Let s and t be the strings\n",
    "    If the length of s is 0 then\n",
    "        Return the length of t\n",
    "    Else if the length of t is 0 then\n",
    "        Return the length of s\n",
    "    Else\n",
    "        Set cost to 0\n",
    "        If the last character in s does not equal the last character in t then\n",
    "            Set cost to 1\n",
    "        Set d1 equal to the edit distance between all characters except the last one in s, and all characters in t, plus 1\n",
    "        Set d2 equal to the edit distance between all characters in s, and all characters except the last one in t, plus 1\n",
    "\n",
    "        Set d3 equal to the edit distance between all characters except the last one in s, and all characters except the last one in t, plus cost\n",
    "        Return the minimum of d1, d2 and d3\n",
    "```\n",
    "\n",
    "\n",
    "\n"
   ]
  },
  {
   "cell_type": "code",
   "execution_count": 10,
   "metadata": {
    "id": "zlNy_Q987QOX"
   },
   "outputs": [],
   "source": [
    "# write code here\n",
    "def edit_distance(s, t):\n",
    "  if len(s) == 0:\n",
    "    return len(t)\n",
    "  elif len(t) == 0:\n",
    "    return len(s)\n",
    "  else:\n",
    "    cost = 0 if s[-1] == t[-1] else 1\n",
    "\n",
    "    d1 = edit_distance(s[:-1], t) + 1\n",
    "    d2 = edit_distance(s, t[:-1]) + 1\n",
    "    d3 = edit_distance(s[:-1], t[:-1]) + cost\n",
    "\n",
    "    return min(d1, d2, d3)"
   ]
  },
  {
   "cell_type": "code",
   "execution_count": 11,
   "metadata": {},
   "outputs": [
    {
     "name": "stdout",
     "output_type": "stream",
     "text": [
      "Edit distance: 0\n"
     ]
    }
   ],
   "source": [
    "s1 = input(\"Enter first string: \")\n",
    "s2 = input(\"Enter second string: \")\n",
    "print(f\"Edit distance: {edit_distance(s1, s2)}\")"
   ]
  },
  {
   "cell_type": "markdown",
   "metadata": {
    "id": "Hc9e-qES7iAK"
   },
   "source": [
    "###`Q-9:` Run-Length Encoding\n",
    "\n",
    "Run-length encoding is a simple data compression technique that can be effective when repeated values occur at adjacent positions within a list. Compression is achieved by replacing groups of repeated values with one copy of the value, followed by the number of times that the value should be repeated. For example, the list \n",
    "```\n",
    "[\"A\", \"A\", \"A\", \"A\", \"A\", \"A\", \"A\", \"A\", \"A\", \"A\", \"A\", \"A\", \"B\", \"B\", \"B\", \"B\", \"A\", \"A\", \"A\", \"A\", \"A\", \"A\", \"B\"]\n",
    "```\n",
    "would be compressed as `[\"A\", 12, \"B\", 4, \"A\", 6, \"B\", 1]`. \n",
    "\n",
    "Write a recursive function that implements the run-length compression technique\n",
    "described above. Your function will take a list or a string as its only parameter. It should return the run-length compressed list as its only result. Include a main program that reads a string from the user, compresses it, and displays the run-length encoded result."
   ]
  },
  {
   "cell_type": "code",
   "execution_count": 13,
   "metadata": {
    "id": "W2Wb_WzP7qM1"
   },
   "outputs": [],
   "source": [
    "# Write code here\n",
    "def run_length_encode(data, current=None, count=0, result=None):\n",
    "  if result is None:\n",
    "    result = []\n",
    "\n",
    "  if not data:\n",
    "    if current is not None:\n",
    "      result.extend([current, count])\n",
    "    return result\n",
    "\n",
    "  first = data[0]\n",
    "\n",
    "  if current is None:\n",
    "    return run_length_encode(data[1:], first, 1, result)\n",
    "\n",
    "  if first == current:\n",
    "    return run_length_encode(data[1:], current, count + 1, result)\n",
    "  else:\n",
    "    result.extend([current, count])\n",
    "    return run_length_encode(data[1:], first, 1, result)"
   ]
  },
  {
   "cell_type": "markdown",
   "metadata": {
    "id": "x6A-4vGC8SLs"
   },
   "source": [
    "###`Q-10:` Write a recursive function to convert a decimal to binary"
   ]
  },
  {
   "cell_type": "code",
   "execution_count": 14,
   "metadata": {
    "id": "izOr6D9V8aME"
   },
   "outputs": [
    {
     "name": "stdout",
     "output_type": "stream",
     "text": [
      "Run-Length Encoded Output: ['u', 1, 'z', 1, 'a', 1, 'i', 1, 'r', 1, ' ', 1, 'a', 1, 'h', 1, 'm', 1, 'a', 1, 'd', 1]\n"
     ]
    }
   ],
   "source": [
    "# Write code here\n",
    "user_input = input(\"Enter a string to compress: \")\n",
    "encoded = run_length_encode(list(user_input))\n",
    "print(\"Run-Length Encoded Output:\", encoded)"
   ]
  }
 ],
 "metadata": {
  "colab": {
   "authorship_tag": "ABX9TyMNyoa7wAf6EboNyJlzit6B",
   "provenance": []
  },
  "kernelspec": {
   "display_name": "Python 3",
   "name": "python3"
  },
  "language_info": {
   "codemirror_mode": {
    "name": "ipython",
    "version": 3
   },
   "file_extension": ".py",
   "mimetype": "text/x-python",
   "name": "python",
   "nbconvert_exporter": "python",
   "pygments_lexer": "ipython3",
   "version": "3.13.5"
  }
 },
 "nbformat": 4,
 "nbformat_minor": 0
}
