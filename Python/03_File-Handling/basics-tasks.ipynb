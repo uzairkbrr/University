{
 "cells": [
  {
   "cell_type": "markdown",
   "metadata": {
    "id": "MbeMdx5d5qRj"
   },
   "source": [
    "### `Q-1:` Write a function `get_final_line(filename)`, which takes filename as input and return final line of the file.\n",
    "\n",
    "Note: You can choose any file of your choice."
   ]
  },
  {
   "cell_type": "code",
   "execution_count": null,
   "metadata": {
    "id": "rjx9XRTq5uzD"
   },
   "outputs": [
    {
     "name": "stdout",
     "output_type": "stream",
     "text": [
      "['My name is Uzair ahmad\\n', \"and I'm learning Data Science\\n\", \"Currently, I'm working on a task to get last line of a file.\"]\n"
     ]
    },
    {
     "data": {
      "text/plain": [
       "\"Currently, I'm working on a task to get last line of a file.\""
      ]
     },
     "execution_count": 9,
     "metadata": {},
     "output_type": "execute_result"
    }
   ],
   "source": [
    "# Write code here\n",
    "def get_final_line(filename):\n",
    "  file = open(filename, 'r')\n",
    "  lines = file.readlines()\n",
    "  file.close()\n",
    "\n",
    "  if lines:\n",
    "    return lines[-1].strip()\n",
    "  else:\n",
    "    return \"File is empty\"\n",
    "\n",
    "\n",
    "file = 'q1.txt'\n",
    "get_final_line(file)"
   ]
  },
  {
   "cell_type": "markdown",
   "metadata": {
    "id": "B87Z6-yQ5wVO"
   },
   "source": [
    "###`Q-2:` Read through a text file, line by line. Use a dict to keep track of how many times each vowel (a, e, i, o, and u) appears in the file. Print the resulting tabulation -- dictionary. "
   ]
  },
  {
   "cell_type": "code",
   "execution_count": 13,
   "metadata": {
    "id": "XeXnOL7X50Sa"
   },
   "outputs": [
    {
     "data": {
      "text/plain": [
       "{'a': 12, 'i': 9, 'e': 8, 'o': 4, 'u': 2}"
      ]
     },
     "execution_count": 13,
     "metadata": {},
     "output_type": "execute_result"
    }
   ],
   "source": [
    "# Write code here\n",
    "vowels = {'a': 0, 'i': 0, 'e': 0, 'o': 0, 'u': 0}\n",
    "\n",
    "with open(file, 'r') as f:\n",
    "  lines = f.readlines()\n",
    "\n",
    "  for line in lines:\n",
    "    for char in line:\n",
    "      char = char.lower()\n",
    "      if char in vowels:\n",
    "        vowels[char] += 1\n",
    "\n",
    "vowels"
   ]
  },
  {
   "cell_type": "markdown",
   "metadata": {
    "id": "lRqQ2Y295-Gg"
   },
   "source": [
    "###`Q-3:` Create a text file (using an editor, not necessarily Python) containing two tab separated columns, with each column containing a number. Then use Python to read through the file you’ve created. For each line, multiply each first number by the second and include it in the file in third column. In last add a line Total, by summing the value of third column\n",
    "\n"
   ]
  },
  {
   "cell_type": "markdown",
   "metadata": {
    "id": "GtFfahZc6Bvg"
   },
   "source": [
    "Input File example: That you need to create\n",
    "```\n",
    "1   2\n",
    "3   4\n",
    "5   6\n",
    "7   8\n",
    "9   10\n",
    "\n",
    "```\n",
    "\n",
    "Output File Example:\n",
    "```\n",
    "1   2   2\n",
    "3   4   12\n",
    "5   6   30\n",
    "7   8   56\n",
    "9   10  90\n",
    "Total   190\n",
    "```\n"
   ]
  },
  {
   "cell_type": "code",
   "execution_count": 54,
   "metadata": {
    "id": "GiKvqHnr5-j2"
   },
   "outputs": [],
   "source": [
    "# write code here\n",
    "def process_file(input_file, output_file):\n",
    "  total = 0\n",
    "\n",
    "  with open(input_file, 'r') as infile, open(output_file, 'w') as outfile:\n",
    "    for line in infile:\n",
    "      parts = line.strip().split()\n",
    "      if len(parts) == 2:\n",
    "        num1 = int(parts[0])\n",
    "        num2 = int(parts[1])\n",
    "        product = num1 * num2\n",
    "        total += product\n",
    "        outfile.write(f\"{num1}\\t{num2}\\t{product}\\n\")\n",
    "\n",
    "    outfile.write(f\"Total\\t{total}\\n\")\n",
    "\n",
    "  with open(output_file, 'r') as result:\n",
    "    for line in result:\n",
    "      print(line.strip())\n"
   ]
  },
  {
   "cell_type": "code",
   "execution_count": null,
   "metadata": {},
   "outputs": [
    {
     "name": "stdout",
     "output_type": "stream",
     "text": [
      "1\t2\t2\n",
      "3\t4\t12\n",
      "5\t6\t30\n",
      "7\t8\t56\n",
      "9\t10\t90\n",
      "Total\t190\n"
     ]
    }
   ],
   "source": [
    "process_file('q3.txt', 'q3_result.txt')\n"
   ]
  },
  {
   "cell_type": "markdown",
   "metadata": {
    "id": "DunQepHC6J9r"
   },
   "source": [
    "###`Q-4:` Create line wise reverse of a file\n",
    "Write a function which takes two arguments: the names of the input file (to be read from) and the output file (which will be created)."
   ]
  },
  {
   "cell_type": "markdown",
   "metadata": {
    "id": "QxWEtFle6Nmu"
   },
   "source": [
    "For example, if a file looks like\n",
    " ```\n",
    "abc def\n",
    "ghi jkl\n",
    "```\n",
    "then the output file will be\n",
    "```\n",
    "fed cba\n",
    "lkj ihg\n",
    "```\n",
    "**Notice**: The newline remains at the end of the string, while the rest of the characters are all reversed."
   ]
  },
  {
   "cell_type": "code",
   "execution_count": null,
   "metadata": {
    "id": "aIJTJNAq6LD7"
   },
   "outputs": [
    {
     "name": "stdout",
     "output_type": "stream",
     "text": [
      "Result: \n",
      "fed cba\n",
      "lkj ihg"
     ]
    }
   ],
   "source": [
    "# write code here\n",
    "\n",
    "def reverse_store(input_file, output_file):\n",
    "  with open(input_file, 'r') as infile, open(output_file, 'w') as outfile:\n",
    "    for line in infile:\n",
    "      reversed = line[::-1]\n",
    "      outfile.write(reversed)\n",
    "\n",
    "  print(\"Result: \", end='')\n",
    "  with open(output_file, 'r') as result:\n",
    "    for line in result:\n",
    "      print(line, end='')\n",
    "\n",
    "input_file = 'q4.txt'\n",
    "output_file = 'q4_result.txt'\n",
    "\n",
    "reverse_store(input_file, output_file)"
   ]
  },
  {
   "cell_type": "markdown",
   "metadata": {
    "id": "wqvx3sMY6bou"
   },
   "source": [
    "###`Q-5:` Create a Serialized dict of frequency of words in the file. And from given list of words, using serialized dict show word count.\n",
    "\n",
    "* List of word will be given\n",
    "\n"
   ]
  },
  {
   "cell_type": "markdown",
   "metadata": {
    "id": "uc5MSUWg6cZG"
   },
   "source": [
    "Given String\n",
    "\n",
    "```\n",
    "strings = \"\"\"Alice was beginning to get very tired of sitting by her sister\n",
    "            on the bank, and of having nothing to do:  once or twice she had\n",
    "            peeped into the book her sister was reading, but it had no\n",
    "            pictures or conversations in it, `and what is the use of a book,'\n",
    "            thought Alice `without pictures or conversation?'\n",
    "\n",
    "            So she was considering in her own mind (as well as she could,\n",
    "            for the hot day made her feel very sleepy and stupid), whether\n",
    "            the pleasure of making a daisy-chain would be worth the trouble\n",
    "            of getting up and picking the daisies, when suddenly a White\n",
    "            Rabbit with pink eyes ran close by her.\n",
    "\n",
    "            There was nothing so VERY remarkable in that; nor did Alice\n",
    "            think it so VERY much out of the way to hear the Rabbit say to\n",
    "            itself, `Oh dear!  Oh dear!  I shall be late!'  (when she thought\n",
    "            it over afterwards, it occurred to her that she ought to have\n",
    "            wondered at this, but at the time it all seemed quite natural);\n",
    "            but when the Rabbit actually TOOK A WATCH OUT OF ITS WAISTCOAT-\n",
    "            POCKET, and looked at it, and then hurried on, Alice started to\n",
    "            her feet, for it flashed across her mind that she had never\n",
    "            before seen a rabbit with either a waistcoat-pocket, or a watch to\n",
    "            take out of it, and burning with curiosity, she ran across the\n",
    "            field after it, and fortunately was just in time to see it pop\n",
    "            down a large rabbit-hole under the hedge.\"\"\"\n",
    "\n",
    "word_list = ['alice', 'wonder', 'natural']\n",
    "```"
   ]
  },
  {
   "cell_type": "code",
   "execution_count": 72,
   "metadata": {
    "id": "-SmtFFUq6a70"
   },
   "outputs": [
    {
     "name": "stdout",
     "output_type": "stream",
     "text": [
      "Serialized Word Frequency Dict:\n",
      " {\n",
      "  \"alice\": 4,\n",
      "  \"was\": 5,\n",
      "  \"beginning\": 1,\n",
      "  \"to\": 9,\n",
      "  \"get\": 1,\n",
      "  \"very\": 4,\n",
      "  \"tired\": 1,\n",
      "  \"of\": 8,\n",
      "  \"sitting\": 1,\n",
      "  \"by\": 2,\n",
      "  \"her\": 8,\n",
      "  \"sister\": 2,\n",
      "  \"on\": 2,\n",
      "  \"the\": 13,\n",
      "  \"bank\": 1,\n",
      "  \"and\": 8,\n",
      "  \"having\": 1,\n",
      "  \"nothing\": 2,\n",
      "  \"do\": 1,\n",
      "  \"once\": 1,\n",
      "  \"or\": 4,\n",
      "  \"twice\": 1,\n",
      "  \"she\": 7,\n",
      "  \"had\": 3,\n",
      "  \"peeped\": 1,\n",
      "  \"into\": 1,\n",
      "  \"book\": 2,\n",
      "  \"reading\": 1,\n",
      "  \"but\": 3,\n",
      "  \"it\": 11,\n",
      "  \"no\": 1,\n",
      "  \"pictures\": 2,\n",
      "  \"conversations\": 1,\n",
      "  \"in\": 4,\n",
      "  \"what\": 1,\n",
      "  \"is\": 1,\n",
      "  \"use\": 1,\n",
      "  \"a\": 8,\n",
      "  \"thought\": 2,\n",
      "  \"without\": 1,\n",
      "  \"conversation\": 1,\n",
      "  \"so\": 3,\n",
      "  \"considering\": 1,\n",
      "  \"own\": 1,\n",
      "  \"mind\": 2,\n",
      "  \"as\": 2,\n",
      "  \"well\": 1,\n",
      "  \"could\": 1,\n",
      "  \"for\": 2,\n",
      "  \"hot\": 1,\n",
      "  \"day\": 1,\n",
      "  \"made\": 1,\n",
      "  \"feel\": 1,\n",
      "  \"sleepy\": 1,\n",
      "  \"stupid\": 1,\n",
      "  \"whether\": 1,\n",
      "  \"pleasure\": 1,\n",
      "  \"making\": 1,\n",
      "  \"daisychain\": 1,\n",
      "  \"would\": 1,\n",
      "  \"be\": 2,\n",
      "  \"worth\": 1,\n",
      "  \"trouble\": 1,\n",
      "  \"getting\": 1,\n",
      "  \"up\": 1,\n",
      "  \"picking\": 1,\n",
      "  \"daisies\": 1,\n",
      "  \"when\": 3,\n",
      "  \"suddenly\": 1,\n",
      "  \"white\": 1,\n",
      "  \"rabbit\": 4,\n",
      "  \"with\": 3,\n",
      "  \"pink\": 1,\n",
      "  \"eyes\": 1,\n",
      "  \"ran\": 2,\n",
      "  \"close\": 1,\n",
      "  \"there\": 1,\n",
      "  \"remarkable\": 1,\n",
      "  \"that\": 3,\n",
      "  \"nor\": 1,\n",
      "  \"did\": 1,\n",
      "  \"think\": 1,\n",
      "  \"much\": 1,\n",
      "  \"out\": 3,\n",
      "  \"way\": 1,\n",
      "  \"hear\": 1,\n",
      "  \"say\": 1,\n",
      "  \"itself\": 1,\n",
      "  \"oh\": 2,\n",
      "  \"dear\": 2,\n",
      "  \"i\": 1,\n",
      "  \"shall\": 1,\n",
      "  \"late\": 1,\n",
      "  \"over\": 1,\n",
      "  \"afterwards\": 1,\n",
      "  \"occurred\": 1,\n",
      "  \"ought\": 1,\n",
      "  \"have\": 1,\n",
      "  \"wondered\": 1,\n",
      "  \"at\": 3,\n",
      "  \"this\": 1,\n",
      "  \"time\": 2,\n",
      "  \"all\": 1,\n",
      "  \"seemed\": 1,\n",
      "  \"quite\": 1,\n",
      "  \"natural\": 1,\n",
      "  \"actually\": 1,\n",
      "  \"took\": 1,\n",
      "  \"watch\": 2,\n",
      "  \"its\": 1,\n",
      "  \"waistcoat\": 1,\n",
      "  \"pocket\": 1,\n",
      "  \"looked\": 1,\n",
      "  \"then\": 1,\n",
      "  \"hurried\": 1,\n",
      "  \"started\": 1,\n",
      "  \"feet\": 1,\n",
      "  \"flashed\": 1,\n",
      "  \"across\": 2,\n",
      "  \"never\": 1,\n",
      "  \"before\": 1,\n",
      "  \"seen\": 1,\n",
      "  \"either\": 1,\n",
      "  \"waistcoatpocket\": 1,\n",
      "  \"take\": 1,\n",
      "  \"burning\": 1,\n",
      "  \"curiosity\": 1,\n",
      "  \"field\": 1,\n",
      "  \"after\": 1,\n",
      "  \"fortunately\": 1,\n",
      "  \"just\": 1,\n",
      "  \"see\": 1,\n",
      "  \"pop\": 1,\n",
      "  \"down\": 1,\n",
      "  \"large\": 1,\n",
      "  \"rabbithole\": 1,\n",
      "  \"under\": 1,\n",
      "  \"hedge\": 1\n",
      "}\n",
      "\n",
      "Word Frequencies from word_list:\n",
      "alice: 4\n",
      "wonder: 0\n",
      "natural: 1\n"
     ]
    }
   ],
   "source": [
    "# write code here\n",
    "import json\n",
    "import string\n",
    "\n",
    "# Provided string\n",
    "strings = \"\"\"Alice was beginning to get very tired of sitting by her sister\n",
    "            on the bank, and of having nothing to do:  once or twice she had\n",
    "            peeped into the book her sister was reading, but it had no\n",
    "            pictures or conversations in it, `and what is the use of a book,'\n",
    "            thought Alice `without pictures or conversation?'\n",
    "\n",
    "            So she was considering in her own mind (as well as she could,\n",
    "            for the hot day made her feel very sleepy and stupid), whether\n",
    "            the pleasure of making a daisy-chain would be worth the trouble\n",
    "            of getting up and picking the daisies, when suddenly a White\n",
    "            Rabbit with pink eyes ran close by her.\n",
    "\n",
    "            There was nothing so VERY remarkable in that; nor did Alice\n",
    "            think it so VERY much out of the way to hear the Rabbit say to\n",
    "            itself, `Oh dear!  Oh dear!  I shall be late!'  (when she thought\n",
    "            it over afterwards, it occurred to her that she ought to have\n",
    "            wondered at this, but at the time it all seemed quite natural);\n",
    "            but when the Rabbit actually TOOK A WATCH OUT OF ITS WAISTCOAT-\n",
    "            POCKET, and looked at it, and then hurried on, Alice started to\n",
    "            her feet, for it flashed across her mind that she had never\n",
    "            before seen a rabbit with either a waistcoat-pocket, or a watch to\n",
    "            take out of it, and burning with curiosity, she ran across the\n",
    "            field after it, and fortunately was just in time to see it pop\n",
    "            down a large rabbit-hole under the hedge.\"\"\"\n",
    "\n",
    "word_list = ['alice', 'wonder', 'natural']\n",
    "\n",
    "# Step 1: Clean and tokenize the text\n",
    "clean_text = strings.lower()\n",
    "clean_text = clean_text.translate(str.maketrans('', '', string.punctuation))\n",
    "words = clean_text.split()\n",
    "\n",
    "# Step 2: Build frequency dictionary\n",
    "freq_dict = {}\n",
    "for word in words:\n",
    "  freq_dict[word] = freq_dict.get(word, 0) + 1\n",
    "\n",
    "# Step 3: Serialize dictionary\n",
    "serialized = json.dumps(freq_dict, indent=2)\n",
    "print(\"Serialized Word Frequency Dict:\\n\", serialized)\n",
    "\n",
    "# Step 4: Lookup word_list\n",
    "print(\"\\nWord Frequencies from word_list:\")\n",
    "for word in word_list:\n",
    "  print(f\"{word}: {freq_dict.get(word.lower(), 0)}\")\n"
   ]
  },
  {
   "cell_type": "markdown",
   "metadata": {
    "id": "Und2HuFW6kAw"
   },
   "source": [
    "### **`Q-6:`** Given a string calculate length of the string using recursion.\n",
    "\n",
    "**Example 1:**\n",
    "\n",
    "Input:\n",
    "```bash\n",
    "\"abcd\"\n",
    "```\n",
    "\n",
    "Output:\n",
    "\n",
    "```bash\n",
    "4\n",
    "```\n",
    "\n",
    "**Example 2:**\n",
    "\n",
    "Input:\n",
    "```bash\n",
    "DataScience\n",
    "```\n",
    "\n",
    "Output:\n",
    "\n",
    "```bash\n",
    "11\n",
    "```\n"
   ]
  },
  {
   "cell_type": "code",
   "execution_count": null,
   "metadata": {
    "id": "9HE7lB5W61gT"
   },
   "outputs": [],
   "source": [
    "# Write code here"
   ]
  },
  {
   "cell_type": "markdown",
   "metadata": {
    "id": "iUDvc-jl6759"
   },
   "source": [
    "### **`Q-7:`** Write a function that accepts two numbers and returns their greatest common divisior. Without using any loop\n",
    "\n",
    "def gcd(int, int) => int\n",
    "\n",
    "```\n",
    "gcd(16,24) will give 8\n",
    "```"
   ]
  },
  {
   "cell_type": "code",
   "execution_count": 1,
   "metadata": {
    "executionInfo": {
     "elapsed": 11,
     "status": "ok",
     "timestamp": 1669684080252,
     "user": {
      "displayName": "CampusX",
      "userId": "17274569631252575216"
     },
     "user_tz": -330
    },
    "id": "uMQnojHR7O2S"
   },
   "outputs": [],
   "source": [
    "# Write code here"
   ]
  },
  {
   "cell_type": "markdown",
   "metadata": {
    "id": "wFD35fva7Q_B"
   },
   "source": [
    " ### `Q-8:` String Edit Distance\n",
    "\n",
    " Use your recursive function to write a program that reads two strings from the\n",
    "user and displays the edit distance between them.\n",
    "\n",
    "*The edit distance between two strings is a measure of their similarity—the smaller the edit distance, the more similar the strings are with regard to the minimum number of insert, delete and substitute operations needed to transform one string into the other.*\n",
    "\n",
    "Consider the strings `kitten` and `sitting`. The first string can be transformed\n",
    "into the second string with the following operations: \n",
    "* Substitute the `k` with an `s`, \n",
    "* substitute the `e` with an `i`, \n",
    "* and insert a `g` at the end of the string. \n",
    "\n",
    "This is the smallest number of operations that can be performed to transform kitten into sitting. As a result, the edit distance is `3`.\n",
    "\n",
    "\n",
    "Write a recursive function that computes the edit distance between two strings.\n",
    "\n",
    "Use the following algorithm:\n",
    "\n",
    "```\n",
    "Let s and t be the strings\n",
    "    If the length of s is 0 then\n",
    "        Return the length of t\n",
    "    Else if the length of t is 0 then\n",
    "        Return the length of s\n",
    "    Else\n",
    "        Set cost to 0\n",
    "        If the last character in s does not equal the last character in t then\n",
    "            Set cost to 1\n",
    "        Set d1 equal to the edit distance between all characters except the last one in s, and all characters in t, plus 1\n",
    "        Set d2 equal to the edit distance between all characters in s, and all characters except the last one in t, plus 1\n",
    "\n",
    "        Set d3 equal to the edit distance between all characters except the last one in s, and all characters except the last one in t, plus cost\n",
    "        Return the minimum of d1, d2 and d3\n",
    "```\n",
    "\n",
    "\n",
    "\n"
   ]
  },
  {
   "cell_type": "code",
   "execution_count": null,
   "metadata": {
    "id": "zlNy_Q987QOX"
   },
   "outputs": [],
   "source": [
    "# write code here"
   ]
  },
  {
   "cell_type": "markdown",
   "metadata": {
    "id": "Hc9e-qES7iAK"
   },
   "source": [
    "###`Q-9:` Run-Length Encoding\n",
    "\n",
    "Run-length encoding is a simple data compression technique that can be effective when repeated values occur at adjacent positions within a list. Compression is achieved by replacing groups of repeated values with one copy of the value, followed by the number of times that the value should be repeated. For example, the list \n",
    "```\n",
    "[\"A\", \"A\", \"A\", \"A\", \"A\", \"A\", \"A\", \"A\", \"A\", \"A\", \"A\", \"A\", \"B\", \"B\", \"B\", \"B\", \"A\", \"A\", \"A\", \"A\", \"A\", \"A\", \"B\"]\n",
    "```\n",
    "would be compressed as `[\"A\", 12, \"B\", 4, \"A\", 6, \"B\", 1]`. \n",
    "\n",
    "Write a recursive function that implements the run-length compression technique\n",
    "described above. Your function will take a list or a string as its only parameter. It should return the run-length compressed list as its only result. Include a main program that reads a string from the user, compresses it, and displays the run-length encoded result."
   ]
  },
  {
   "cell_type": "code",
   "execution_count": null,
   "metadata": {
    "id": "W2Wb_WzP7qM1"
   },
   "outputs": [],
   "source": [
    "# Write code here"
   ]
  },
  {
   "cell_type": "markdown",
   "metadata": {
    "id": "x6A-4vGC8SLs"
   },
   "source": [
    "###`Q-10:` Write a recursive function to convert a decimal to binary"
   ]
  },
  {
   "cell_type": "code",
   "execution_count": null,
   "metadata": {
    "id": "izOr6D9V8aME"
   },
   "outputs": [],
   "source": [
    "# Write code here"
   ]
  }
 ],
 "metadata": {
  "colab": {
   "authorship_tag": "ABX9TyMNyoa7wAf6EboNyJlzit6B",
   "provenance": []
  },
  "kernelspec": {
   "display_name": "Python 3",
   "name": "python3"
  },
  "language_info": {
   "codemirror_mode": {
    "name": "ipython",
    "version": 3
   },
   "file_extension": ".py",
   "mimetype": "text/x-python",
   "name": "python",
   "nbconvert_exporter": "python",
   "pygments_lexer": "ipython3",
   "version": "3.13.5"
  }
 },
 "nbformat": 4,
 "nbformat_minor": 0
}
